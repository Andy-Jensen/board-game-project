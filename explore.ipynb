{
 "cells": [
  {
   "cell_type": "code",
   "execution_count": 1,
   "id": "ef866bae",
   "metadata": {},
   "outputs": [],
   "source": [
    "import numpy as np\n",
    "import pandas as pd\n",
    "import prepare as prep\n",
    "import matplotlib.pyplot as plt\n",
    "import seaborn as sns\n",
    "import scipy.stats as stats\n",
    "import explore as ex"
   ]
  },
  {
   "cell_type": "code",
   "execution_count": 2,
   "id": "9df956b2",
   "metadata": {},
   "outputs": [],
   "source": [
    "df=prep.explore_df()"
   ]
  },
  {
   "cell_type": "code",
   "execution_count": 3,
   "id": "3887bd4a",
   "metadata": {},
   "outputs": [
    {
     "data": {
      "text/html": [
       "<div>\n",
       "<style scoped>\n",
       "    .dataframe tbody tr th:only-of-type {\n",
       "        vertical-align: middle;\n",
       "    }\n",
       "\n",
       "    .dataframe tbody tr th {\n",
       "        vertical-align: top;\n",
       "    }\n",
       "\n",
       "    .dataframe thead th {\n",
       "        text-align: right;\n",
       "    }\n",
       "</style>\n",
       "<table border=\"1\" class=\"dataframe\">\n",
       "  <thead>\n",
       "    <tr style=\"text-align: right;\">\n",
       "      <th></th>\n",
       "      <th>id</th>\n",
       "      <th>name</th>\n",
       "      <th>price</th>\n",
       "      <th>msrp</th>\n",
       "      <th>year_published</th>\n",
       "      <th>min_players</th>\n",
       "      <th>max_players</th>\n",
       "      <th>min_playtime</th>\n",
       "      <th>max_playtime</th>\n",
       "      <th>min_age</th>\n",
       "      <th>num_user_ratings</th>\n",
       "      <th>average_user_rating</th>\n",
       "      <th>num_user_complexity_votes</th>\n",
       "      <th>average_learning_complexity</th>\n",
       "      <th>average_strategy_complexity</th>\n",
       "      <th>rank</th>\n",
       "      <th>type</th>\n",
       "      <th>num_distributors</th>\n",
       "    </tr>\n",
       "  </thead>\n",
       "  <tbody>\n",
       "    <tr>\n",
       "      <th>0</th>\n",
       "      <td>TAAifFP590</td>\n",
       "      <td>Root</td>\n",
       "      <td>45.00</td>\n",
       "      <td>60.00</td>\n",
       "      <td>2018.0</td>\n",
       "      <td>2.0</td>\n",
       "      <td>4.0</td>\n",
       "      <td>60.0</td>\n",
       "      <td>90.0</td>\n",
       "      <td>10.0</td>\n",
       "      <td>412</td>\n",
       "      <td>4.059395</td>\n",
       "      <td>11</td>\n",
       "      <td>3.818182</td>\n",
       "      <td>3.636364</td>\n",
       "      <td>1</td>\n",
       "      <td>game</td>\n",
       "      <td>6</td>\n",
       "    </tr>\n",
       "    <tr>\n",
       "      <th>1</th>\n",
       "      <td>yqR4PtpO8X</td>\n",
       "      <td>Scythe</td>\n",
       "      <td>54.39</td>\n",
       "      <td>90.00</td>\n",
       "      <td>2016.0</td>\n",
       "      <td>1.0</td>\n",
       "      <td>5.0</td>\n",
       "      <td>90.0</td>\n",
       "      <td>120.0</td>\n",
       "      <td>14.0</td>\n",
       "      <td>763</td>\n",
       "      <td>4.213439</td>\n",
       "      <td>17</td>\n",
       "      <td>3.117647</td>\n",
       "      <td>3.235294</td>\n",
       "      <td>2</td>\n",
       "      <td>game</td>\n",
       "      <td>9</td>\n",
       "    </tr>\n",
       "    <tr>\n",
       "      <th>2</th>\n",
       "      <td>5H5JS0KLzK</td>\n",
       "      <td>Wingspan</td>\n",
       "      <td>50.00</td>\n",
       "      <td>60.00</td>\n",
       "      <td>2019.0</td>\n",
       "      <td>1.0</td>\n",
       "      <td>5.0</td>\n",
       "      <td>40.0</td>\n",
       "      <td>70.0</td>\n",
       "      <td>10.0</td>\n",
       "      <td>589</td>\n",
       "      <td>4.162919</td>\n",
       "      <td>12</td>\n",
       "      <td>2.500000</td>\n",
       "      <td>2.833333</td>\n",
       "      <td>3</td>\n",
       "      <td>game</td>\n",
       "      <td>11</td>\n",
       "    </tr>\n",
       "    <tr>\n",
       "      <th>3</th>\n",
       "      <td>RLlDWHh7hR</td>\n",
       "      <td>Gloomhaven</td>\n",
       "      <td>105.97</td>\n",
       "      <td>140.00</td>\n",
       "      <td>2017.0</td>\n",
       "      <td>1.0</td>\n",
       "      <td>4.0</td>\n",
       "      <td>60.0</td>\n",
       "      <td>150.0</td>\n",
       "      <td>12.0</td>\n",
       "      <td>491</td>\n",
       "      <td>4.351614</td>\n",
       "      <td>10</td>\n",
       "      <td>3.900000</td>\n",
       "      <td>3.600000</td>\n",
       "      <td>4</td>\n",
       "      <td>game</td>\n",
       "      <td>5</td>\n",
       "    </tr>\n",
       "    <tr>\n",
       "      <th>4</th>\n",
       "      <td>fDn9rQjH9O</td>\n",
       "      <td>Terraforming Mars</td>\n",
       "      <td>51.99</td>\n",
       "      <td>69.95</td>\n",
       "      <td>2016.0</td>\n",
       "      <td>1.0</td>\n",
       "      <td>5.0</td>\n",
       "      <td>90.0</td>\n",
       "      <td>120.0</td>\n",
       "      <td>12.0</td>\n",
       "      <td>713</td>\n",
       "      <td>4.146214</td>\n",
       "      <td>10</td>\n",
       "      <td>3.000000</td>\n",
       "      <td>3.300000</td>\n",
       "      <td>5</td>\n",
       "      <td>game</td>\n",
       "      <td>3</td>\n",
       "    </tr>\n",
       "  </tbody>\n",
       "</table>\n",
       "</div>"
      ],
      "text/plain": [
       "           id               name   price    msrp  year_published  min_players  \\\n",
       "0  TAAifFP590               Root   45.00   60.00          2018.0          2.0   \n",
       "1  yqR4PtpO8X             Scythe   54.39   90.00          2016.0          1.0   \n",
       "2  5H5JS0KLzK           Wingspan   50.00   60.00          2019.0          1.0   \n",
       "3  RLlDWHh7hR         Gloomhaven  105.97  140.00          2017.0          1.0   \n",
       "4  fDn9rQjH9O  Terraforming Mars   51.99   69.95          2016.0          1.0   \n",
       "\n",
       "   max_players  min_playtime  max_playtime  min_age  num_user_ratings  \\\n",
       "0          4.0          60.0          90.0     10.0               412   \n",
       "1          5.0          90.0         120.0     14.0               763   \n",
       "2          5.0          40.0          70.0     10.0               589   \n",
       "3          4.0          60.0         150.0     12.0               491   \n",
       "4          5.0          90.0         120.0     12.0               713   \n",
       "\n",
       "   average_user_rating  num_user_complexity_votes  \\\n",
       "0             4.059395                         11   \n",
       "1             4.213439                         17   \n",
       "2             4.162919                         12   \n",
       "3             4.351614                         10   \n",
       "4             4.146214                         10   \n",
       "\n",
       "   average_learning_complexity  average_strategy_complexity  rank  type  \\\n",
       "0                     3.818182                     3.636364     1  game   \n",
       "1                     3.117647                     3.235294     2  game   \n",
       "2                     2.500000                     2.833333     3  game   \n",
       "3                     3.900000                     3.600000     4  game   \n",
       "4                     3.000000                     3.300000     5  game   \n",
       "\n",
       "   num_distributors  \n",
       "0                 6  \n",
       "1                 9  \n",
       "2                11  \n",
       "3                 5  \n",
       "4                 3  "
      ]
     },
     "execution_count": 3,
     "metadata": {},
     "output_type": "execute_result"
    }
   ],
   "source": [
    "df.head()"
   ]
  },
  {
   "cell_type": "code",
   "execution_count": 4,
   "id": "d54b2305",
   "metadata": {},
   "outputs": [],
   "source": [
    "m=pd.read_csv('mechanic_df')"
   ]
  },
  {
   "cell_type": "code",
   "execution_count": 5,
   "id": "836f287f",
   "metadata": {},
   "outputs": [
    {
     "data": {
      "text/html": [
       "<div>\n",
       "<style scoped>\n",
       "    .dataframe tbody tr th:only-of-type {\n",
       "        vertical-align: middle;\n",
       "    }\n",
       "\n",
       "    .dataframe tbody tr th {\n",
       "        vertical-align: top;\n",
       "    }\n",
       "\n",
       "    .dataframe thead th {\n",
       "        text-align: right;\n",
       "    }\n",
       "</style>\n",
       "<table border=\"1\" class=\"dataframe\">\n",
       "  <thead>\n",
       "    <tr style=\"text-align: right;\">\n",
       "      <th></th>\n",
       "      <th>mechanics</th>\n",
       "    </tr>\n",
       "  </thead>\n",
       "  <tbody>\n",
       "    <tr>\n",
       "      <th>0</th>\n",
       "      <td>Action / Movement Programming</td>\n",
       "    </tr>\n",
       "    <tr>\n",
       "      <th>1</th>\n",
       "      <td>Action Queue</td>\n",
       "    </tr>\n",
       "    <tr>\n",
       "      <th>2</th>\n",
       "      <td>Area Control</td>\n",
       "    </tr>\n",
       "    <tr>\n",
       "      <th>3</th>\n",
       "      <td>Dice Rolling</td>\n",
       "    </tr>\n",
       "    <tr>\n",
       "      <th>4</th>\n",
       "      <td>Engine Building</td>\n",
       "    </tr>\n",
       "  </tbody>\n",
       "</table>\n",
       "</div>"
      ],
      "text/plain": [
       "                       mechanics\n",
       "0  Action / Movement Programming\n",
       "1                   Action Queue\n",
       "2                   Area Control\n",
       "3                   Dice Rolling\n",
       "4                Engine Building"
      ]
     },
     "execution_count": 5,
     "metadata": {},
     "output_type": "execute_result"
    }
   ],
   "source": [
    "m.head()"
   ]
  },
  {
   "cell_type": "markdown",
   "id": "f55d988f",
   "metadata": {},
   "source": [
    "# first look at the mechanics to see which mechanics are most popular"
   ]
  },
  {
   "cell_type": "code",
   "execution_count": 6,
   "id": "f2b376a9",
   "metadata": {
    "scrolled": false
   },
   "outputs": [
    {
     "data": {
      "text/plain": [
       "mechanics                    \n",
       "Hand Management                  375\n",
       "Dice Rolling                     262\n",
       "Variable Player Powers           257\n",
       "Set Collection                   247\n",
       "Card Drafting                    228\n",
       "Cooperative Play                 145\n",
       "Tile Placement                   143\n",
       "Area Control                     124\n",
       "Worker Placement                 123\n",
       "Modular Board                    121\n",
       "Grid Movement                     89\n",
       "Deck Building                     87\n",
       "Press Your Luck                   75\n",
       "Network and Route Building        73\n",
       "Area Majority/ Influence          72\n",
       "Solo / Solitaire Game             71\n",
       "Action Point Allowance System     69\n",
       "Take That                         66\n",
       "Area Movement                     66\n",
       "Point to Point Movement           62\n",
       "dtype: int64"
      ]
     },
     "execution_count": 6,
     "metadata": {},
     "output_type": "execute_result"
    }
   ],
   "source": [
    "m.value_counts().head(20)"
   ]
  },
  {
   "cell_type": "markdown",
   "id": "3c69f4ac",
   "metadata": {},
   "source": [
    "Hand managment and dice rolling seem obvious to be the top two as they are necessary to play and progress a game. Cards are often a staple in games, so set collection and card drafting are also not suprising. However the drafting aspect is interesting. Many game have a random drawing mechanic compared to a draft mechanic to the cards.  \n",
    "\n",
    "I suprises me that area control is rated so high but area movement and area majority/influence are much lower. Unless only one of these latter two are associated with area control games. Which if you combined all \"area\" based mechanics, it would be one of the highest mechanics."
   ]
  },
  {
   "cell_type": "code",
   "execution_count": 7,
   "id": "c923baca",
   "metadata": {},
   "outputs": [
    {
     "data": {
      "text/plain": [
       "(935,)"
      ]
     },
     "execution_count": 7,
     "metadata": {},
     "output_type": "execute_result"
    }
   ],
   "source": [
    "df['rank'].value_counts().shape"
   ]
  },
  {
   "cell_type": "code",
   "execution_count": 8,
   "id": "bc2b68b0",
   "metadata": {},
   "outputs": [
    {
     "data": {
      "text/plain": [
       "(995, 18)"
      ]
     },
     "execution_count": 8,
     "metadata": {},
     "output_type": "execute_result"
    }
   ],
   "source": [
    "df.shape"
   ]
  },
  {
   "cell_type": "markdown",
   "id": "180941b8",
   "metadata": {},
   "source": [
    "## top 100 games (~10%) will be considered 'high rated'"
   ]
  },
  {
   "cell_type": "code",
   "execution_count": 9,
   "id": "f93cfdcb",
   "metadata": {},
   "outputs": [
    {
     "data": {
      "text/plain": [
       "dtype('int64')"
      ]
     },
     "execution_count": 9,
     "metadata": {},
     "output_type": "execute_result"
    }
   ],
   "source": [
    "df['rank'].dtype"
   ]
  },
  {
   "cell_type": "code",
   "execution_count": 10,
   "id": "dee9a3da",
   "metadata": {},
   "outputs": [],
   "source": [
    "for i, r in df.iterrows():\n",
    "    if r['rank'] <= 100:\n",
    "        df.loc[i, 'rank'] = 1\n",
    "    else:\n",
    "        df.loc[i, 'rank'] = 0"
   ]
  },
  {
   "cell_type": "code",
   "execution_count": 11,
   "id": "e614c2c7",
   "metadata": {},
   "outputs": [
    {
     "data": {
      "text/plain": [
       "0    892\n",
       "1    103\n",
       "Name: rank, dtype: int64"
      ]
     },
     "execution_count": 11,
     "metadata": {},
     "output_type": "execute_result"
    }
   ],
   "source": [
    "df['rank'].value_counts()"
   ]
  },
  {
   "cell_type": "code",
   "execution_count": 12,
   "id": "05202040",
   "metadata": {
    "scrolled": true
   },
   "outputs": [
    {
     "data": {
      "text/html": [
       "<div>\n",
       "<style scoped>\n",
       "    .dataframe tbody tr th:only-of-type {\n",
       "        vertical-align: middle;\n",
       "    }\n",
       "\n",
       "    .dataframe tbody tr th {\n",
       "        vertical-align: top;\n",
       "    }\n",
       "\n",
       "    .dataframe thead th {\n",
       "        text-align: right;\n",
       "    }\n",
       "</style>\n",
       "<table border=\"1\" class=\"dataframe\">\n",
       "  <thead>\n",
       "    <tr style=\"text-align: right;\">\n",
       "      <th></th>\n",
       "      <th>id</th>\n",
       "      <th>name</th>\n",
       "      <th>price</th>\n",
       "      <th>msrp</th>\n",
       "      <th>year_published</th>\n",
       "      <th>min_players</th>\n",
       "      <th>max_players</th>\n",
       "      <th>min_playtime</th>\n",
       "      <th>max_playtime</th>\n",
       "      <th>min_age</th>\n",
       "      <th>num_user_ratings</th>\n",
       "      <th>average_user_rating</th>\n",
       "      <th>num_user_complexity_votes</th>\n",
       "      <th>average_learning_complexity</th>\n",
       "      <th>average_strategy_complexity</th>\n",
       "      <th>rank</th>\n",
       "      <th>type</th>\n",
       "      <th>num_distributors</th>\n",
       "    </tr>\n",
       "  </thead>\n",
       "  <tbody>\n",
       "    <tr>\n",
       "      <th>0</th>\n",
       "      <td>TAAifFP590</td>\n",
       "      <td>Root</td>\n",
       "      <td>45.00</td>\n",
       "      <td>60.00</td>\n",
       "      <td>2018.0</td>\n",
       "      <td>2.0</td>\n",
       "      <td>4.0</td>\n",
       "      <td>60.0</td>\n",
       "      <td>90.0</td>\n",
       "      <td>10.0</td>\n",
       "      <td>412</td>\n",
       "      <td>4.059395</td>\n",
       "      <td>11</td>\n",
       "      <td>3.818182</td>\n",
       "      <td>3.636364</td>\n",
       "      <td>1</td>\n",
       "      <td>game</td>\n",
       "      <td>6</td>\n",
       "    </tr>\n",
       "    <tr>\n",
       "      <th>1</th>\n",
       "      <td>yqR4PtpO8X</td>\n",
       "      <td>Scythe</td>\n",
       "      <td>54.39</td>\n",
       "      <td>90.00</td>\n",
       "      <td>2016.0</td>\n",
       "      <td>1.0</td>\n",
       "      <td>5.0</td>\n",
       "      <td>90.0</td>\n",
       "      <td>120.0</td>\n",
       "      <td>14.0</td>\n",
       "      <td>763</td>\n",
       "      <td>4.213439</td>\n",
       "      <td>17</td>\n",
       "      <td>3.117647</td>\n",
       "      <td>3.235294</td>\n",
       "      <td>1</td>\n",
       "      <td>game</td>\n",
       "      <td>9</td>\n",
       "    </tr>\n",
       "    <tr>\n",
       "      <th>2</th>\n",
       "      <td>5H5JS0KLzK</td>\n",
       "      <td>Wingspan</td>\n",
       "      <td>50.00</td>\n",
       "      <td>60.00</td>\n",
       "      <td>2019.0</td>\n",
       "      <td>1.0</td>\n",
       "      <td>5.0</td>\n",
       "      <td>40.0</td>\n",
       "      <td>70.0</td>\n",
       "      <td>10.0</td>\n",
       "      <td>589</td>\n",
       "      <td>4.162919</td>\n",
       "      <td>12</td>\n",
       "      <td>2.500000</td>\n",
       "      <td>2.833333</td>\n",
       "      <td>1</td>\n",
       "      <td>game</td>\n",
       "      <td>11</td>\n",
       "    </tr>\n",
       "    <tr>\n",
       "      <th>3</th>\n",
       "      <td>RLlDWHh7hR</td>\n",
       "      <td>Gloomhaven</td>\n",
       "      <td>105.97</td>\n",
       "      <td>140.00</td>\n",
       "      <td>2017.0</td>\n",
       "      <td>1.0</td>\n",
       "      <td>4.0</td>\n",
       "      <td>60.0</td>\n",
       "      <td>150.0</td>\n",
       "      <td>12.0</td>\n",
       "      <td>491</td>\n",
       "      <td>4.351614</td>\n",
       "      <td>10</td>\n",
       "      <td>3.900000</td>\n",
       "      <td>3.600000</td>\n",
       "      <td>1</td>\n",
       "      <td>game</td>\n",
       "      <td>5</td>\n",
       "    </tr>\n",
       "    <tr>\n",
       "      <th>4</th>\n",
       "      <td>fDn9rQjH9O</td>\n",
       "      <td>Terraforming Mars</td>\n",
       "      <td>51.99</td>\n",
       "      <td>69.95</td>\n",
       "      <td>2016.0</td>\n",
       "      <td>1.0</td>\n",
       "      <td>5.0</td>\n",
       "      <td>90.0</td>\n",
       "      <td>120.0</td>\n",
       "      <td>12.0</td>\n",
       "      <td>713</td>\n",
       "      <td>4.146214</td>\n",
       "      <td>10</td>\n",
       "      <td>3.000000</td>\n",
       "      <td>3.300000</td>\n",
       "      <td>1</td>\n",
       "      <td>game</td>\n",
       "      <td>3</td>\n",
       "    </tr>\n",
       "  </tbody>\n",
       "</table>\n",
       "</div>"
      ],
      "text/plain": [
       "           id               name   price    msrp  year_published  min_players  \\\n",
       "0  TAAifFP590               Root   45.00   60.00          2018.0          2.0   \n",
       "1  yqR4PtpO8X             Scythe   54.39   90.00          2016.0          1.0   \n",
       "2  5H5JS0KLzK           Wingspan   50.00   60.00          2019.0          1.0   \n",
       "3  RLlDWHh7hR         Gloomhaven  105.97  140.00          2017.0          1.0   \n",
       "4  fDn9rQjH9O  Terraforming Mars   51.99   69.95          2016.0          1.0   \n",
       "\n",
       "   max_players  min_playtime  max_playtime  min_age  num_user_ratings  \\\n",
       "0          4.0          60.0          90.0     10.0               412   \n",
       "1          5.0          90.0         120.0     14.0               763   \n",
       "2          5.0          40.0          70.0     10.0               589   \n",
       "3          4.0          60.0         150.0     12.0               491   \n",
       "4          5.0          90.0         120.0     12.0               713   \n",
       "\n",
       "   average_user_rating  num_user_complexity_votes  \\\n",
       "0             4.059395                         11   \n",
       "1             4.213439                         17   \n",
       "2             4.162919                         12   \n",
       "3             4.351614                         10   \n",
       "4             4.146214                         10   \n",
       "\n",
       "   average_learning_complexity  average_strategy_complexity  rank  type  \\\n",
       "0                     3.818182                     3.636364     1  game   \n",
       "1                     3.117647                     3.235294     1  game   \n",
       "2                     2.500000                     2.833333     1  game   \n",
       "3                     3.900000                     3.600000     1  game   \n",
       "4                     3.000000                     3.300000     1  game   \n",
       "\n",
       "   num_distributors  \n",
       "0                 6  \n",
       "1                 9  \n",
       "2                11  \n",
       "3                 5  \n",
       "4                 3  "
      ]
     },
     "execution_count": 12,
     "metadata": {},
     "output_type": "execute_result"
    }
   ],
   "source": [
    "df.head(5)"
   ]
  },
  {
   "cell_type": "code",
   "execution_count": 13,
   "id": "5adcd573",
   "metadata": {
    "scrolled": true
   },
   "outputs": [
    {
     "data": {
      "text/html": [
       "<div>\n",
       "<style scoped>\n",
       "    .dataframe tbody tr th:only-of-type {\n",
       "        vertical-align: middle;\n",
       "    }\n",
       "\n",
       "    .dataframe tbody tr th {\n",
       "        vertical-align: top;\n",
       "    }\n",
       "\n",
       "    .dataframe thead th {\n",
       "        text-align: right;\n",
       "    }\n",
       "</style>\n",
       "<table border=\"1\" class=\"dataframe\">\n",
       "  <thead>\n",
       "    <tr style=\"text-align: right;\">\n",
       "      <th></th>\n",
       "      <th>id</th>\n",
       "      <th>name</th>\n",
       "      <th>price</th>\n",
       "      <th>msrp</th>\n",
       "      <th>year_published</th>\n",
       "      <th>min_players</th>\n",
       "      <th>max_players</th>\n",
       "      <th>min_playtime</th>\n",
       "      <th>max_playtime</th>\n",
       "      <th>min_age</th>\n",
       "      <th>num_user_ratings</th>\n",
       "      <th>average_user_rating</th>\n",
       "      <th>num_user_complexity_votes</th>\n",
       "      <th>average_learning_complexity</th>\n",
       "      <th>average_strategy_complexity</th>\n",
       "      <th>rank</th>\n",
       "      <th>type</th>\n",
       "      <th>num_distributors</th>\n",
       "    </tr>\n",
       "  </thead>\n",
       "  <tbody>\n",
       "    <tr>\n",
       "      <th>995</th>\n",
       "      <td>utvG6nvnq5</td>\n",
       "      <td>Snake Oil</td>\n",
       "      <td>19.99</td>\n",
       "      <td>19.95</td>\n",
       "      <td>2010.0</td>\n",
       "      <td>3.0</td>\n",
       "      <td>10.0</td>\n",
       "      <td>20.0</td>\n",
       "      <td>30.0</td>\n",
       "      <td>10.0</td>\n",
       "      <td>67</td>\n",
       "      <td>3.130597</td>\n",
       "      <td>0</td>\n",
       "      <td>0.0</td>\n",
       "      <td>0.0</td>\n",
       "      <td>0</td>\n",
       "      <td>game</td>\n",
       "      <td>0</td>\n",
       "    </tr>\n",
       "    <tr>\n",
       "      <th>996</th>\n",
       "      <td>2LJTEmU5LY</td>\n",
       "      <td>Bob Ross the Art of Chill</td>\n",
       "      <td>24.46</td>\n",
       "      <td>31.99</td>\n",
       "      <td>2017.0</td>\n",
       "      <td>2.0</td>\n",
       "      <td>4.0</td>\n",
       "      <td>30.0</td>\n",
       "      <td>30.0</td>\n",
       "      <td>12.0</td>\n",
       "      <td>64</td>\n",
       "      <td>3.370312</td>\n",
       "      <td>1</td>\n",
       "      <td>3.0</td>\n",
       "      <td>2.0</td>\n",
       "      <td>0</td>\n",
       "      <td>game</td>\n",
       "      <td>0</td>\n",
       "    </tr>\n",
       "    <tr>\n",
       "      <th>997</th>\n",
       "      <td>JBQPZrO0yC</td>\n",
       "      <td>A Study in Emerald</td>\n",
       "      <td>149.95</td>\n",
       "      <td>0.00</td>\n",
       "      <td>2013.0</td>\n",
       "      <td>2.0</td>\n",
       "      <td>5.0</td>\n",
       "      <td>90.0</td>\n",
       "      <td>90.0</td>\n",
       "      <td>13.0</td>\n",
       "      <td>30</td>\n",
       "      <td>3.433333</td>\n",
       "      <td>0</td>\n",
       "      <td>0.0</td>\n",
       "      <td>0.0</td>\n",
       "      <td>0</td>\n",
       "      <td>game</td>\n",
       "      <td>0</td>\n",
       "    </tr>\n",
       "    <tr>\n",
       "      <th>998</th>\n",
       "      <td>kz2pqBlpT4</td>\n",
       "      <td>Mansions of Madness</td>\n",
       "      <td>5.89</td>\n",
       "      <td>99.95</td>\n",
       "      <td>2011.0</td>\n",
       "      <td>2.0</td>\n",
       "      <td>5.0</td>\n",
       "      <td>120.0</td>\n",
       "      <td>180.0</td>\n",
       "      <td>13.0</td>\n",
       "      <td>68</td>\n",
       "      <td>3.252941</td>\n",
       "      <td>0</td>\n",
       "      <td>0.0</td>\n",
       "      <td>0.0</td>\n",
       "      <td>0</td>\n",
       "      <td>game</td>\n",
       "      <td>4</td>\n",
       "    </tr>\n",
       "    <tr>\n",
       "      <th>999</th>\n",
       "      <td>kgs5t2m5kv</td>\n",
       "      <td>Kokoro: Avenue of the Kodama</td>\n",
       "      <td>13.39</td>\n",
       "      <td>19.99</td>\n",
       "      <td>2017.0</td>\n",
       "      <td>2.0</td>\n",
       "      <td>8.0</td>\n",
       "      <td>30.0</td>\n",
       "      <td>45.0</td>\n",
       "      <td>14.0</td>\n",
       "      <td>58</td>\n",
       "      <td>3.312069</td>\n",
       "      <td>0</td>\n",
       "      <td>0.0</td>\n",
       "      <td>0.0</td>\n",
       "      <td>0</td>\n",
       "      <td>game</td>\n",
       "      <td>0</td>\n",
       "    </tr>\n",
       "  </tbody>\n",
       "</table>\n",
       "</div>"
      ],
      "text/plain": [
       "             id                          name   price   msrp  year_published  \\\n",
       "995  utvG6nvnq5                     Snake Oil   19.99  19.95          2010.0   \n",
       "996  2LJTEmU5LY     Bob Ross the Art of Chill   24.46  31.99          2017.0   \n",
       "997  JBQPZrO0yC            A Study in Emerald  149.95   0.00          2013.0   \n",
       "998  kz2pqBlpT4           Mansions of Madness    5.89  99.95          2011.0   \n",
       "999  kgs5t2m5kv  Kokoro: Avenue of the Kodama   13.39  19.99          2017.0   \n",
       "\n",
       "     min_players  max_players  min_playtime  max_playtime  min_age  \\\n",
       "995          3.0         10.0          20.0          30.0     10.0   \n",
       "996          2.0          4.0          30.0          30.0     12.0   \n",
       "997          2.0          5.0          90.0          90.0     13.0   \n",
       "998          2.0          5.0         120.0         180.0     13.0   \n",
       "999          2.0          8.0          30.0          45.0     14.0   \n",
       "\n",
       "     num_user_ratings  average_user_rating  num_user_complexity_votes  \\\n",
       "995                67             3.130597                          0   \n",
       "996                64             3.370312                          1   \n",
       "997                30             3.433333                          0   \n",
       "998                68             3.252941                          0   \n",
       "999                58             3.312069                          0   \n",
       "\n",
       "     average_learning_complexity  average_strategy_complexity  rank  type  \\\n",
       "995                          0.0                          0.0     0  game   \n",
       "996                          3.0                          2.0     0  game   \n",
       "997                          0.0                          0.0     0  game   \n",
       "998                          0.0                          0.0     0  game   \n",
       "999                          0.0                          0.0     0  game   \n",
       "\n",
       "     num_distributors  \n",
       "995                 0  \n",
       "996                 0  \n",
       "997                 0  \n",
       "998                 4  \n",
       "999                 0  "
      ]
     },
     "execution_count": 13,
     "metadata": {},
     "output_type": "execute_result"
    }
   ],
   "source": [
    "df.tail(5)"
   ]
  },
  {
   "cell_type": "markdown",
   "id": "4e5af38c",
   "metadata": {},
   "source": [
    "## Encode the 'type' column"
   ]
  },
  {
   "cell_type": "code",
   "execution_count": 14,
   "id": "8e0691d5",
   "metadata": {
    "scrolled": true
   },
   "outputs": [
    {
     "data": {
      "text/plain": [
       "game         875\n",
       "expansion    119\n",
       "accessory      1\n",
       "Name: type, dtype: int64"
      ]
     },
     "execution_count": 14,
     "metadata": {},
     "output_type": "execute_result"
    }
   ],
   "source": [
    "df['type'].value_counts()"
   ]
  },
  {
   "cell_type": "code",
   "execution_count": 15,
   "id": "b0f6a2c0",
   "metadata": {},
   "outputs": [],
   "source": [
    "for i, t in df.iterrows():\n",
    "    if t['type'] == 'game':\n",
    "        df.loc[i, 'type'] = 0\n",
    "    elif t['type'] == 'expansion':\n",
    "        df.loc[i, 'type'] = 1\n",
    "    else:\n",
    "        df.loc[i, 'type'] = 2"
   ]
  },
  {
   "cell_type": "code",
   "execution_count": 16,
   "id": "a04cb90d",
   "metadata": {
    "scrolled": true
   },
   "outputs": [
    {
     "data": {
      "text/plain": [
       "0    875\n",
       "1    119\n",
       "2      1\n",
       "Name: type, dtype: int64"
      ]
     },
     "execution_count": 16,
     "metadata": {},
     "output_type": "execute_result"
    }
   ],
   "source": [
    "df['type'].value_counts()"
   ]
  },
  {
   "cell_type": "code",
   "execution_count": 17,
   "id": "abe51df1",
   "metadata": {},
   "outputs": [],
   "source": [
    "df.drop(columns=['id'], inplace=True)"
   ]
  },
  {
   "cell_type": "markdown",
   "id": "f70b68ac",
   "metadata": {},
   "source": [
    "## Split data"
   ]
  },
  {
   "cell_type": "code",
   "execution_count": 18,
   "id": "b65a42aa",
   "metadata": {},
   "outputs": [],
   "source": [
    "train, val, test= ex.tts(df, 'rank')"
   ]
  },
  {
   "cell_type": "code",
   "execution_count": 19,
   "id": "9301aecc",
   "metadata": {},
   "outputs": [
    {
     "data": {
      "text/plain": [
       "((716, 17), (179, 17), (100, 17))"
      ]
     },
     "execution_count": 19,
     "metadata": {},
     "output_type": "execute_result"
    }
   ],
   "source": [
    "train.shape, val.shape, test.shape"
   ]
  },
  {
   "cell_type": "markdown",
   "id": "3faef445",
   "metadata": {},
   "source": [
    "<div class=\"alert alert-info\">\n",
    "    <header>\n",
    "    <h2>Exploration Question 1:</h2>\n",
    "    </header>\n",
    "    <dl>\n",
    "        <dt>Is the price of a high rated game significantlly higher than other games?</dt>\n",
    "        <dd>- $H_0$: There is no difference in the average price of higher rated games and other games</dd>\n",
    "        <dd>- $H_a$: The average price of high rated games is significantlly higher than other games.</dd>\n",
    "    </dl>\n",
    "</div>"
   ]
  },
  {
   "cell_type": "code",
   "execution_count": 20,
   "id": "3f42e029",
   "metadata": {},
   "outputs": [],
   "source": [
    "alpha=.05"
   ]
  },
  {
   "cell_type": "code",
   "execution_count": 21,
   "id": "dbc86110",
   "metadata": {},
   "outputs": [],
   "source": [
    "hirank=train[train['rank']==1]['price']"
   ]
  },
  {
   "cell_type": "code",
   "execution_count": 22,
   "id": "6c2eceba",
   "metadata": {},
   "outputs": [
    {
     "data": {
      "text/plain": [
       "1085.8798928421054"
      ]
     },
     "execution_count": 22,
     "metadata": {},
     "output_type": "execute_result"
    }
   ],
   "source": [
    "train[train['rank']==1]['price'].var()"
   ]
  },
  {
   "cell_type": "code",
   "execution_count": 23,
   "id": "aa6e63ee",
   "metadata": {},
   "outputs": [
    {
     "data": {
      "text/plain": [
       "<AxesSubplot:xlabel='price', ylabel='Count'>"
      ]
     },
     "execution_count": 23,
     "metadata": {},
     "output_type": "execute_result"
    },
    {
     "data": {
      "image/png": "[encoded data removed]",
      "text/plain": [
       "<Figure size 640x480 with 1 Axes>"
      ]
     },
     "metadata": {},
     "output_type": "display_data"
    }
   ],
   "source": [
    "sns.histplot(hirank)"
   ]
  },
  {
   "cell_type": "code",
   "execution_count": 24,
   "id": "459d7267",
   "metadata": {},
   "outputs": [
    {
     "data": {
      "text/plain": [
       "42.54710526315787"
      ]
     },
     "execution_count": 24,
     "metadata": {},
     "output_type": "execute_result"
    }
   ],
   "source": [
    "hirank.mean()"
   ]
  },
  {
   "cell_type": "code",
   "execution_count": 25,
   "id": "3b72f0e7",
   "metadata": {},
   "outputs": [],
   "source": [
    "lowrank=train[train['rank']==0]['price']"
   ]
  },
  {
   "cell_type": "code",
   "execution_count": 26,
   "id": "b54c9633",
   "metadata": {},
   "outputs": [
    {
     "data": {
      "text/plain": [
       "8125.636093228698"
      ]
     },
     "execution_count": 26,
     "metadata": {},
     "output_type": "execute_result"
    }
   ],
   "source": [
    "train[train['rank']==0]['price'].var()"
   ]
  },
  {
   "cell_type": "code",
   "execution_count": 27,
   "id": "11383948",
   "metadata": {},
   "outputs": [
    {
     "data": {
      "text/plain": [
       "<AxesSubplot:xlabel='price', ylabel='Count'>"
      ]
     },
     "execution_count": 27,
     "metadata": {},
     "output_type": "execute_result"
    },
    {
     "data": {
      "image/png": "[encoded data removed]",
      "text/plain": [
       "<Figure size 640x480 with 1 Axes>"
      ]
     },
     "metadata": {},
     "output_type": "display_data"
    }
   ],
   "source": [
    "sns.histplot(lowrank)"
   ]
  },
  {
   "cell_type": "code",
   "execution_count": 28,
   "id": "adf5d8fa",
   "metadata": {},
   "outputs": [
    {
     "data": {
      "text/plain": [
       "56.44161552500016"
      ]
     },
     "execution_count": 28,
     "metadata": {},
     "output_type": "execute_result"
    }
   ],
   "source": [
    "lowrank.mean()"
   ]
  },
  {
   "cell_type": "code",
   "execution_count": 29,
   "id": "4d6ea6ed",
   "metadata": {
    "scrolled": true
   },
   "outputs": [
    {
     "data": {
      "text/plain": [
       "Ttest_indResult(statistic=-2.674782496465062, pvalue=0.9960091240750775)"
      ]
     },
     "execution_count": 29,
     "metadata": {},
     "output_type": "execute_result"
    }
   ],
   "source": [
    "stats.ttest_ind(hirank, lowrank, alternative='greater', equal_var=False)"
   ]
  },
  {
   "cell_type": "code",
   "execution_count": 30,
   "id": "8ee785dc",
   "metadata": {},
   "outputs": [
    {
     "data": {
      "text/plain": [
       "Ttest_indResult(statistic=-2.674782496465062, pvalue=0.003990875924922544)"
      ]
     },
     "execution_count": 30,
     "metadata": {},
     "output_type": "execute_result"
    }
   ],
   "source": [
    "stats.ttest_ind(hirank, lowrank, alternative='less', equal_var=False)"
   ]
  },
  {
   "cell_type": "markdown",
   "id": "1cbd593f",
   "metadata": {},
   "source": [
    "* pvalue indicates that high rated games have a significantlly lower price than other games\n",
    "* this actually is the opposite result of the initial question\n",
    "* mean price difference is ~14$"
   ]
  },
  {
   "cell_type": "markdown",
   "id": "6b25cbd0",
   "metadata": {},
   "source": [
    "<div class=\"alert alert-info\">\n",
    "    <header>\n",
    "    <h2>Exploration Question 2:</h2>\n",
    "    </header>\n",
    "    <dl>\n",
    "        <dt>Is the msrp of a high rated game significantlly higher than other games?</dt>\n",
    "        <dd>- $H_0$: There is no difference in the average msrp of higher rated games and other games</dd>\n",
    "        <dd>- $H_a$: The average msrp of high rated games is significantlly higher than other games.</dd>\n",
    "    </dl>\n",
    "</div>"
   ]
  },
  {
   "cell_type": "code",
   "execution_count": 31,
   "id": "a37b716d",
   "metadata": {},
   "outputs": [],
   "source": [
    "hirank=train[train['rank']==1]['msrp']"
   ]
  },
  {
   "cell_type": "code",
   "execution_count": 32,
   "id": "d2665b45",
   "metadata": {},
   "outputs": [
    {
     "data": {
      "text/plain": [
       "634.5115428070175"
      ]
     },
     "execution_count": 32,
     "metadata": {},
     "output_type": "execute_result"
    }
   ],
   "source": [
    "hirank.var()"
   ]
  },
  {
   "cell_type": "code",
   "execution_count": 33,
   "id": "ac6096cd",
   "metadata": {},
   "outputs": [
    {
     "data": {
      "text/plain": [
       "<AxesSubplot:xlabel='msrp', ylabel='Count'>"
      ]
     },
     "execution_count": 33,
     "metadata": {},
     "output_type": "execute_result"
    },
    {
     "data": {
      "image/png": "[encoded data removed]",
      "text/plain": [
       "<Figure size 640x480 with 1 Axes>"
      ]
     },
     "metadata": {},
     "output_type": "display_data"
    }
   ],
   "source": [
    "sns.histplot(hirank)"
   ]
  },
  {
   "cell_type": "code",
   "execution_count": 34,
   "id": "b0c2c2e5",
   "metadata": {},
   "outputs": [],
   "source": [
    "lowrank=train[train['rank']==0]['msrp']"
   ]
  },
  {
   "cell_type": "code",
   "execution_count": 35,
   "id": "1878d05f",
   "metadata": {},
   "outputs": [
    {
     "data": {
      "text/plain": [
       "1194.1851720647492"
      ]
     },
     "execution_count": 35,
     "metadata": {},
     "output_type": "execute_result"
    }
   ],
   "source": [
    "lowrank.var()"
   ]
  },
  {
   "cell_type": "code",
   "execution_count": 36,
   "id": "b66ea8e6",
   "metadata": {},
   "outputs": [
    {
     "data": {
      "text/plain": [
       "<AxesSubplot:xlabel='msrp', ylabel='Count'>"
      ]
     },
     "execution_count": 36,
     "metadata": {},
     "output_type": "execute_result"
    },
    {
     "data": {
      "image/png": "[encoded data removed]",
      "text/plain": [
       "<Figure size 640x480 with 1 Axes>"
      ]
     },
     "metadata": {},
     "output_type": "display_data"
    }
   ],
   "source": [
    "sns.histplot(lowrank)"
   ]
  },
  {
   "cell_type": "code",
   "execution_count": 37,
   "id": "491a6711",
   "metadata": {},
   "outputs": [
    {
     "data": {
      "text/plain": [
       "Ttest_indResult(statistic=1.3911842656628044, pvalue=0.0834682122710838)"
      ]
     },
     "execution_count": 37,
     "metadata": {},
     "output_type": "execute_result"
    }
   ],
   "source": [
    "stats.ttest_ind(hirank, lowrank, alternative='greater', equal_var=False)"
   ]
  },
  {
   "cell_type": "markdown",
   "id": "7d19eded",
   "metadata": {},
   "source": [
    "* pvalue is not lower than the alpha\n",
    "* overall msrp is not a good indicator of a top rated game"
   ]
  },
  {
   "cell_type": "code",
   "execution_count": 38,
   "id": "13d8b018",
   "metadata": {},
   "outputs": [
    {
     "data": {
      "text/html": [
       "<div>\n",
       "<style scoped>\n",
       "    .dataframe tbody tr th:only-of-type {\n",
       "        vertical-align: middle;\n",
       "    }\n",
       "\n",
       "    .dataframe tbody tr th {\n",
       "        vertical-align: top;\n",
       "    }\n",
       "\n",
       "    .dataframe thead th {\n",
       "        text-align: right;\n",
       "    }\n",
       "</style>\n",
       "<table border=\"1\" class=\"dataframe\">\n",
       "  <thead>\n",
       "    <tr style=\"text-align: right;\">\n",
       "      <th></th>\n",
       "      <th>name</th>\n",
       "      <th>price</th>\n",
       "      <th>msrp</th>\n",
       "      <th>year_published</th>\n",
       "      <th>min_players</th>\n",
       "      <th>max_players</th>\n",
       "      <th>min_playtime</th>\n",
       "      <th>max_playtime</th>\n",
       "      <th>min_age</th>\n",
       "      <th>num_user_ratings</th>\n",
       "      <th>average_user_rating</th>\n",
       "      <th>num_user_complexity_votes</th>\n",
       "      <th>average_learning_complexity</th>\n",
       "      <th>average_strategy_complexity</th>\n",
       "      <th>rank</th>\n",
       "      <th>type</th>\n",
       "      <th>num_distributors</th>\n",
       "    </tr>\n",
       "  </thead>\n",
       "  <tbody>\n",
       "    <tr>\n",
       "      <th>386</th>\n",
       "      <td>Bruges</td>\n",
       "      <td>45.456444</td>\n",
       "      <td>41.49</td>\n",
       "      <td>2013.0</td>\n",
       "      <td>2.0</td>\n",
       "      <td>4.0</td>\n",
       "      <td>60.0</td>\n",
       "      <td>75.0</td>\n",
       "      <td>10.0</td>\n",
       "      <td>139</td>\n",
       "      <td>3.498201</td>\n",
       "      <td>0</td>\n",
       "      <td>0.0</td>\n",
       "      <td>0.0</td>\n",
       "      <td>0</td>\n",
       "      <td>0</td>\n",
       "      <td>0</td>\n",
       "    </tr>\n",
       "    <tr>\n",
       "      <th>623</th>\n",
       "      <td>Atlantis Rising (second edition)</td>\n",
       "      <td>48.000000</td>\n",
       "      <td>65.00</td>\n",
       "      <td>2022.0</td>\n",
       "      <td>1.0</td>\n",
       "      <td>4.0</td>\n",
       "      <td>45.0</td>\n",
       "      <td>90.0</td>\n",
       "      <td>10.0</td>\n",
       "      <td>34</td>\n",
       "      <td>3.959559</td>\n",
       "      <td>0</td>\n",
       "      <td>0.0</td>\n",
       "      <td>0.0</td>\n",
       "      <td>0</td>\n",
       "      <td>0</td>\n",
       "      <td>0</td>\n",
       "    </tr>\n",
       "    <tr>\n",
       "      <th>781</th>\n",
       "      <td>Bus</td>\n",
       "      <td>235.400000</td>\n",
       "      <td>89.99</td>\n",
       "      <td>1999.0</td>\n",
       "      <td>3.0</td>\n",
       "      <td>5.0</td>\n",
       "      <td>120.0</td>\n",
       "      <td>120.0</td>\n",
       "      <td>14.0</td>\n",
       "      <td>40</td>\n",
       "      <td>3.743750</td>\n",
       "      <td>0</td>\n",
       "      <td>0.0</td>\n",
       "      <td>0.0</td>\n",
       "      <td>0</td>\n",
       "      <td>0</td>\n",
       "      <td>1</td>\n",
       "    </tr>\n",
       "    <tr>\n",
       "      <th>105</th>\n",
       "      <td>Bohnanza</td>\n",
       "      <td>28.000000</td>\n",
       "      <td>19.95</td>\n",
       "      <td>1997.0</td>\n",
       "      <td>2.0</td>\n",
       "      <td>7.0</td>\n",
       "      <td>45.0</td>\n",
       "      <td>60.0</td>\n",
       "      <td>13.0</td>\n",
       "      <td>371</td>\n",
       "      <td>3.426649</td>\n",
       "      <td>2</td>\n",
       "      <td>2.0</td>\n",
       "      <td>2.5</td>\n",
       "      <td>0</td>\n",
       "      <td>0</td>\n",
       "      <td>4</td>\n",
       "    </tr>\n",
       "    <tr>\n",
       "      <th>808</th>\n",
       "      <td>Flip Ships</td>\n",
       "      <td>43.824000</td>\n",
       "      <td>40.00</td>\n",
       "      <td>2017.0</td>\n",
       "      <td>1.0</td>\n",
       "      <td>4.0</td>\n",
       "      <td>30.0</td>\n",
       "      <td>45.0</td>\n",
       "      <td>8.0</td>\n",
       "      <td>54</td>\n",
       "      <td>3.479847</td>\n",
       "      <td>0</td>\n",
       "      <td>0.0</td>\n",
       "      <td>0.0</td>\n",
       "      <td>0</td>\n",
       "      <td>0</td>\n",
       "      <td>0</td>\n",
       "    </tr>\n",
       "  </tbody>\n",
       "</table>\n",
       "</div>"
      ],
      "text/plain": [
       "                                 name       price   msrp  year_published  \\\n",
       "386                            Bruges   45.456444  41.49          2013.0   \n",
       "623  Atlantis Rising (second edition)   48.000000  65.00          2022.0   \n",
       "781                               Bus  235.400000  89.99          1999.0   \n",
       "105                          Bohnanza   28.000000  19.95          1997.0   \n",
       "808                        Flip Ships   43.824000  40.00          2017.0   \n",
       "\n",
       "     min_players  max_players  min_playtime  max_playtime  min_age  \\\n",
       "386          2.0          4.0          60.0          75.0     10.0   \n",
       "623          1.0          4.0          45.0          90.0     10.0   \n",
       "781          3.0          5.0         120.0         120.0     14.0   \n",
       "105          2.0          7.0          45.0          60.0     13.0   \n",
       "808          1.0          4.0          30.0          45.0      8.0   \n",
       "\n",
       "     num_user_ratings  average_user_rating  num_user_complexity_votes  \\\n",
       "386               139             3.498201                          0   \n",
       "623                34             3.959559                          0   \n",
       "781                40             3.743750                          0   \n",
       "105               371             3.426649                          2   \n",
       "808                54             3.479847                          0   \n",
       "\n",
       "     average_learning_complexity  average_strategy_complexity  rank type  \\\n",
       "386                          0.0                          0.0     0    0   \n",
       "623                          0.0                          0.0     0    0   \n",
       "781                          0.0                          0.0     0    0   \n",
       "105                          2.0                          2.5     0    0   \n",
       "808                          0.0                          0.0     0    0   \n",
       "\n",
       "     num_distributors  \n",
       "386                 0  \n",
       "623                 0  \n",
       "781                 1  \n",
       "105                 4  \n",
       "808                 0  "
      ]
     },
     "execution_count": 38,
     "metadata": {},
     "output_type": "execute_result"
    }
   ],
   "source": [
    "train.head()"
   ]
  },
  {
   "cell_type": "markdown",
   "id": "a3b5b3f2",
   "metadata": {},
   "source": [
    "<div class=\"alert alert-info\">\n",
    "    <header>\n",
    "    <h2>Exploration Question 3:</h2>\n",
    "    </header>\n",
    "    <dl>\n",
    "        <dt>Is the average user rating of a high rated game significantlly higher than other games?</dt>\n",
    "        <dd>- $H_0$: There is no difference in the average user rating of higher rated games and other games</dd>\n",
    "        <dd>- $H_a$: The average user rating of high rated games is significantlly higher than other games.</dd>\n",
    "    </dl>\n",
    "</div>"
   ]
  },
  {
   "cell_type": "code",
   "execution_count": 39,
   "id": "882130f7",
   "metadata": {},
   "outputs": [],
   "source": [
    "hirank=train[train['rank']==1]['average_user_rating']"
   ]
  },
  {
   "cell_type": "code",
   "execution_count": 40,
   "id": "2b910ca2",
   "metadata": {},
   "outputs": [
    {
     "data": {
      "text/plain": [
       "0.0631914901300298"
      ]
     },
     "execution_count": 40,
     "metadata": {},
     "output_type": "execute_result"
    }
   ],
   "source": [
    "hirank.var()"
   ]
  },
  {
   "cell_type": "code",
   "execution_count": 41,
   "id": "07cb0e0c",
   "metadata": {},
   "outputs": [
    {
     "data": {
      "text/plain": [
       "<AxesSubplot:xlabel='average_user_rating', ylabel='Count'>"
      ]
     },
     "execution_count": 41,
     "metadata": {},
     "output_type": "execute_result"
    },
    {
     "data": {
      "image/png": "[encoded data removed]",
      "text/plain": [
       "<Figure size 640x480 with 1 Axes>"
      ]
     },
     "metadata": {},
     "output_type": "display_data"
    }
   ],
   "source": [
    "sns.histplot(hirank)"
   ]
  },
  {
   "cell_type": "code",
   "execution_count": 42,
   "id": "d9abdbf4",
   "metadata": {},
   "outputs": [],
   "source": [
    "lowrank= train[train['rank']==0]['average_user_rating']"
   ]
  },
  {
   "cell_type": "code",
   "execution_count": 43,
   "id": "3f4bae3e",
   "metadata": {},
   "outputs": [
    {
     "data": {
      "text/plain": [
       "0.09776831335440073"
      ]
     },
     "execution_count": 43,
     "metadata": {},
     "output_type": "execute_result"
    }
   ],
   "source": [
    "lowrank.var()"
   ]
  },
  {
   "cell_type": "code",
   "execution_count": 44,
   "id": "1ccb480e",
   "metadata": {},
   "outputs": [
    {
     "data": {
      "text/plain": [
       "<AxesSubplot:xlabel='average_user_rating', ylabel='Count'>"
      ]
     },
     "execution_count": 44,
     "metadata": {},
     "output_type": "execute_result"
    },
    {
     "data": {
      "image/png": "[encoded data removed]",
      "text/plain": [
       "<Figure size 640x480 with 1 Axes>"
      ]
     },
     "metadata": {},
     "output_type": "display_data"
    }
   ],
   "source": [
    "sns.histplot(lowrank)"
   ]
  },
  {
   "cell_type": "code",
   "execution_count": 45,
   "id": "e99f1034",
   "metadata": {},
   "outputs": [
    {
     "data": {
      "text/plain": [
       "Ttest_indResult(statistic=8.37120932004523, pvalue=1.3589589718655607e-13)"
      ]
     },
     "execution_count": 45,
     "metadata": {},
     "output_type": "execute_result"
    }
   ],
   "source": [
    "stats.ttest_ind(hirank, lowrank, alternative='greater', equal_var=False)"
   ]
  },
  {
   "cell_type": "code",
   "execution_count": 46,
   "id": "7bf70d24",
   "metadata": {},
   "outputs": [
    {
     "data": {
      "text/plain": [
       "(3.829409758058103, 3.5667844994787146)"
      ]
     },
     "execution_count": 46,
     "metadata": {},
     "output_type": "execute_result"
    }
   ],
   "source": [
    "hirank.mean(), lowrank.mean()"
   ]
  },
  {
   "cell_type": "markdown",
   "id": "d84e7486",
   "metadata": {},
   "source": [
    "* the pvalue is lower than the alpha so we can reject the null hypothesis\n",
    "* even though the pvalue indicates significance, the difference in the averages is only ~0.3 which is not very much\n",
    "* this also can not be taken to modeling, because you won't know the average user rating until after the game is made. The model will aim to tell if a game will reach a high rank before it is released."
   ]
  },
  {
   "cell_type": "markdown",
   "id": "92feae8b",
   "metadata": {},
   "source": [
    "<div class=\"alert alert-info\">\n",
    "    <header>\n",
    "    <h2>Exploration Question 4:</h2>\n",
    "    </header>\n",
    "    <dl>\n",
    "        <dt>Is the min_players of a high rated game significantlly higher than other games?</dt>\n",
    "        <dd>- $H_0$: There is no difference in the average min_players of higher rated games and other games</dd>\n",
    "        <dd>- $H_a$: The average min_players of high rated games is significantlly higher than other games.</dd>\n",
    "    </dl>\n",
    "</div>"
   ]
  },
  {
   "cell_type": "code",
   "execution_count": 47,
   "id": "9a224501",
   "metadata": {},
   "outputs": [],
   "source": [
    "hirank=train[train['rank']==1]['min_players']"
   ]
  },
  {
   "cell_type": "code",
   "execution_count": 48,
   "id": "026ca154",
   "metadata": {},
   "outputs": [
    {
     "data": {
      "text/plain": [
       "0.2856140350877192"
      ]
     },
     "execution_count": 48,
     "metadata": {},
     "output_type": "execute_result"
    }
   ],
   "source": [
    "hirank.var()"
   ]
  },
  {
   "cell_type": "code",
   "execution_count": 49,
   "id": "16b08cf1",
   "metadata": {},
   "outputs": [
    {
     "data": {
      "text/plain": [
       "<AxesSubplot:xlabel='min_players', ylabel='Count'>"
      ]
     },
     "execution_count": 49,
     "metadata": {},
     "output_type": "execute_result"
    },
    {
     "data": {
      "image/png": "[encoded data removed]",
      "text/plain": [
       "<Figure size 640x480 with 1 Axes>"
      ]
     },
     "metadata": {},
     "output_type": "display_data"
    }
   ],
   "source": [
    "sns.histplot(hirank)"
   ]
  },
  {
   "cell_type": "code",
   "execution_count": 50,
   "id": "7c193092",
   "metadata": {},
   "outputs": [],
   "source": [
    "lowrank=train[train['rank']==0]['min_players']"
   ]
  },
  {
   "cell_type": "code",
   "execution_count": 51,
   "id": "0716f346",
   "metadata": {},
   "outputs": [
    {
     "data": {
      "text/plain": [
       "0.53012275039124"
      ]
     },
     "execution_count": 51,
     "metadata": {},
     "output_type": "execute_result"
    }
   ],
   "source": [
    "lowrank.var()"
   ]
  },
  {
   "cell_type": "code",
   "execution_count": 52,
   "id": "7f09341b",
   "metadata": {},
   "outputs": [
    {
     "data": {
      "text/plain": [
       "<AxesSubplot:xlabel='min_players', ylabel='Count'>"
      ]
     },
     "execution_count": 52,
     "metadata": {},
     "output_type": "execute_result"
    },
    {
     "data": {
      "image/png": "[encoded data removed]",
      "text/plain": [
       "<Figure size 640x480 with 1 Axes>"
      ]
     },
     "metadata": {},
     "output_type": "display_data"
    }
   ],
   "source": [
    "sns.histplot(lowrank)"
   ]
  },
  {
   "cell_type": "code",
   "execution_count": 53,
   "id": "ea86dacb",
   "metadata": {},
   "outputs": [
    {
     "data": {
      "text/plain": [
       "Ttest_indResult(statistic=-0.8512334048505296, pvalue=0.19823559163700116)"
      ]
     },
     "execution_count": 53,
     "metadata": {},
     "output_type": "execute_result"
    }
   ],
   "source": [
    "stats.ttest_ind(hirank, lowrank, alternative='less', equal_var=False)"
   ]
  },
  {
   "cell_type": "code",
   "execution_count": 54,
   "id": "2bf838dd",
   "metadata": {},
   "outputs": [
    {
     "data": {
      "text/plain": [
       "Ttest_indResult(statistic=-0.8512334048505296, pvalue=0.8017644083629989)"
      ]
     },
     "execution_count": 54,
     "metadata": {},
     "output_type": "execute_result"
    }
   ],
   "source": [
    "stats.ttest_ind(hirank, lowrank, alternative='greater', equal_var=False)"
   ]
  },
  {
   "cell_type": "markdown",
   "id": "e8d75d25",
   "metadata": {},
   "source": [
    "* the pvalue is not lower than the alpha so we can not reject the null hypothesis\n",
    "* min_players is not a significant driver of rank"
   ]
  },
  {
   "cell_type": "code",
   "execution_count": 55,
   "id": "1ec78f4d",
   "metadata": {},
   "outputs": [
    {
     "data": {
      "text/html": [
       "<div>\n",
       "<style scoped>\n",
       "    .dataframe tbody tr th:only-of-type {\n",
       "        vertical-align: middle;\n",
       "    }\n",
       "\n",
       "    .dataframe tbody tr th {\n",
       "        vertical-align: top;\n",
       "    }\n",
       "\n",
       "    .dataframe thead th {\n",
       "        text-align: right;\n",
       "    }\n",
       "</style>\n",
       "<table border=\"1\" class=\"dataframe\">\n",
       "  <thead>\n",
       "    <tr style=\"text-align: right;\">\n",
       "      <th></th>\n",
       "      <th>name</th>\n",
       "      <th>price</th>\n",
       "      <th>msrp</th>\n",
       "      <th>year_published</th>\n",
       "      <th>min_players</th>\n",
       "      <th>max_players</th>\n",
       "      <th>min_playtime</th>\n",
       "      <th>max_playtime</th>\n",
       "      <th>min_age</th>\n",
       "      <th>num_user_ratings</th>\n",
       "      <th>average_user_rating</th>\n",
       "      <th>num_user_complexity_votes</th>\n",
       "      <th>average_learning_complexity</th>\n",
       "      <th>average_strategy_complexity</th>\n",
       "      <th>rank</th>\n",
       "      <th>type</th>\n",
       "      <th>num_distributors</th>\n",
       "    </tr>\n",
       "  </thead>\n",
       "  <tbody>\n",
       "    <tr>\n",
       "      <th>386</th>\n",
       "      <td>Bruges</td>\n",
       "      <td>45.456444</td>\n",
       "      <td>41.49</td>\n",
       "      <td>2013.0</td>\n",
       "      <td>2.0</td>\n",
       "      <td>4.0</td>\n",
       "      <td>60.0</td>\n",
       "      <td>75.0</td>\n",
       "      <td>10.0</td>\n",
       "      <td>139</td>\n",
       "      <td>3.498201</td>\n",
       "      <td>0</td>\n",
       "      <td>0.0</td>\n",
       "      <td>0.0</td>\n",
       "      <td>0</td>\n",
       "      <td>0</td>\n",
       "      <td>0</td>\n",
       "    </tr>\n",
       "    <tr>\n",
       "      <th>623</th>\n",
       "      <td>Atlantis Rising (second edition)</td>\n",
       "      <td>48.000000</td>\n",
       "      <td>65.00</td>\n",
       "      <td>2022.0</td>\n",
       "      <td>1.0</td>\n",
       "      <td>4.0</td>\n",
       "      <td>45.0</td>\n",
       "      <td>90.0</td>\n",
       "      <td>10.0</td>\n",
       "      <td>34</td>\n",
       "      <td>3.959559</td>\n",
       "      <td>0</td>\n",
       "      <td>0.0</td>\n",
       "      <td>0.0</td>\n",
       "      <td>0</td>\n",
       "      <td>0</td>\n",
       "      <td>0</td>\n",
       "    </tr>\n",
       "    <tr>\n",
       "      <th>781</th>\n",
       "      <td>Bus</td>\n",
       "      <td>235.400000</td>\n",
       "      <td>89.99</td>\n",
       "      <td>1999.0</td>\n",
       "      <td>3.0</td>\n",
       "      <td>5.0</td>\n",
       "      <td>120.0</td>\n",
       "      <td>120.0</td>\n",
       "      <td>14.0</td>\n",
       "      <td>40</td>\n",
       "      <td>3.743750</td>\n",
       "      <td>0</td>\n",
       "      <td>0.0</td>\n",
       "      <td>0.0</td>\n",
       "      <td>0</td>\n",
       "      <td>0</td>\n",
       "      <td>1</td>\n",
       "    </tr>\n",
       "    <tr>\n",
       "      <th>105</th>\n",
       "      <td>Bohnanza</td>\n",
       "      <td>28.000000</td>\n",
       "      <td>19.95</td>\n",
       "      <td>1997.0</td>\n",
       "      <td>2.0</td>\n",
       "      <td>7.0</td>\n",
       "      <td>45.0</td>\n",
       "      <td>60.0</td>\n",
       "      <td>13.0</td>\n",
       "      <td>371</td>\n",
       "      <td>3.426649</td>\n",
       "      <td>2</td>\n",
       "      <td>2.0</td>\n",
       "      <td>2.5</td>\n",
       "      <td>0</td>\n",
       "      <td>0</td>\n",
       "      <td>4</td>\n",
       "    </tr>\n",
       "    <tr>\n",
       "      <th>808</th>\n",
       "      <td>Flip Ships</td>\n",
       "      <td>43.824000</td>\n",
       "      <td>40.00</td>\n",
       "      <td>2017.0</td>\n",
       "      <td>1.0</td>\n",
       "      <td>4.0</td>\n",
       "      <td>30.0</td>\n",
       "      <td>45.0</td>\n",
       "      <td>8.0</td>\n",
       "      <td>54</td>\n",
       "      <td>3.479847</td>\n",
       "      <td>0</td>\n",
       "      <td>0.0</td>\n",
       "      <td>0.0</td>\n",
       "      <td>0</td>\n",
       "      <td>0</td>\n",
       "      <td>0</td>\n",
       "    </tr>\n",
       "  </tbody>\n",
       "</table>\n",
       "</div>"
      ],
      "text/plain": [
       "                                 name       price   msrp  year_published  \\\n",
       "386                            Bruges   45.456444  41.49          2013.0   \n",
       "623  Atlantis Rising (second edition)   48.000000  65.00          2022.0   \n",
       "781                               Bus  235.400000  89.99          1999.0   \n",
       "105                          Bohnanza   28.000000  19.95          1997.0   \n",
       "808                        Flip Ships   43.824000  40.00          2017.0   \n",
       "\n",
       "     min_players  max_players  min_playtime  max_playtime  min_age  \\\n",
       "386          2.0          4.0          60.0          75.0     10.0   \n",
       "623          1.0          4.0          45.0          90.0     10.0   \n",
       "781          3.0          5.0         120.0         120.0     14.0   \n",
       "105          2.0          7.0          45.0          60.0     13.0   \n",
       "808          1.0          4.0          30.0          45.0      8.0   \n",
       "\n",
       "     num_user_ratings  average_user_rating  num_user_complexity_votes  \\\n",
       "386               139             3.498201                          0   \n",
       "623                34             3.959559                          0   \n",
       "781                40             3.743750                          0   \n",
       "105               371             3.426649                          2   \n",
       "808                54             3.479847                          0   \n",
       "\n",
       "     average_learning_complexity  average_strategy_complexity  rank type  \\\n",
       "386                          0.0                          0.0     0    0   \n",
       "623                          0.0                          0.0     0    0   \n",
       "781                          0.0                          0.0     0    0   \n",
       "105                          2.0                          2.5     0    0   \n",
       "808                          0.0                          0.0     0    0   \n",
       "\n",
       "     num_distributors  \n",
       "386                 0  \n",
       "623                 0  \n",
       "781                 1  \n",
       "105                 4  \n",
       "808                 0  "
      ]
     },
     "execution_count": 55,
     "metadata": {},
     "output_type": "execute_result"
    }
   ],
   "source": [
    "train.head(5)"
   ]
  },
  {
   "cell_type": "markdown",
   "id": "2694d250",
   "metadata": {},
   "source": [
    "<div class=\"alert alert-info\">\n",
    "    <header>\n",
    "    <h2>Exploration Question 5:</h2>\n",
    "    </header>\n",
    "    <dl>\n",
    "        <dt>Is the max_players of a high rated game significantlly higher than other games?</dt>\n",
    "        <dd>- $H_0$: There is no difference in the average max_players of higher rated games and other games</dd>\n",
    "        <dd>- $H_a$: The average max_players of high rated games is significantlly higher than other games.</dd>\n",
    "    </dl>\n",
    "</div>"
   ]
  },
  {
   "cell_type": "code",
   "execution_count": 56,
   "id": "09a82c3a",
   "metadata": {},
   "outputs": [],
   "source": [
    "hirank=train[train['rank']==1]['max_players']"
   ]
  },
  {
   "cell_type": "code",
   "execution_count": 57,
   "id": "71a5b413",
   "metadata": {},
   "outputs": [
    {
     "data": {
      "text/plain": [
       "121.9480701754385"
      ]
     },
     "execution_count": 57,
     "metadata": {},
     "output_type": "execute_result"
    }
   ],
   "source": [
    "hirank.var()"
   ]
  },
  {
   "cell_type": "code",
   "execution_count": 58,
   "id": "1ce22a85",
   "metadata": {},
   "outputs": [
    {
     "data": {
      "text/plain": [
       "<AxesSubplot:xlabel='max_players', ylabel='Count'>"
      ]
     },
     "execution_count": 58,
     "metadata": {},
     "output_type": "execute_result"
    },
    {
     "data": {
      "image/png": "[encoded data removed]",
      "text/plain": [
       "<Figure size 640x480 with 1 Axes>"
      ]
     },
     "metadata": {},
     "output_type": "display_data"
    }
   ],
   "source": [
    "sns.histplot(hirank)"
   ]
  },
  {
   "cell_type": "code",
   "execution_count": 59,
   "id": "f2bd71d9",
   "metadata": {},
   "outputs": [
    {
     "data": {
      "text/html": [
       "<div>\n",
       "<style scoped>\n",
       "    .dataframe tbody tr th:only-of-type {\n",
       "        vertical-align: middle;\n",
       "    }\n",
       "\n",
       "    .dataframe tbody tr th {\n",
       "        vertical-align: top;\n",
       "    }\n",
       "\n",
       "    .dataframe thead th {\n",
       "        text-align: right;\n",
       "    }\n",
       "</style>\n",
       "<table border=\"1\" class=\"dataframe\">\n",
       "  <thead>\n",
       "    <tr style=\"text-align: right;\">\n",
       "      <th></th>\n",
       "      <th>name</th>\n",
       "      <th>price</th>\n",
       "      <th>msrp</th>\n",
       "      <th>year_published</th>\n",
       "      <th>min_players</th>\n",
       "      <th>max_players</th>\n",
       "      <th>min_playtime</th>\n",
       "      <th>max_playtime</th>\n",
       "      <th>min_age</th>\n",
       "      <th>num_user_ratings</th>\n",
       "      <th>average_user_rating</th>\n",
       "      <th>num_user_complexity_votes</th>\n",
       "      <th>average_learning_complexity</th>\n",
       "      <th>average_strategy_complexity</th>\n",
       "      <th>rank</th>\n",
       "      <th>type</th>\n",
       "      <th>num_distributors</th>\n",
       "    </tr>\n",
       "  </thead>\n",
       "  <tbody>\n",
       "    <tr>\n",
       "      <th>406</th>\n",
       "      <td>Zombie Dice</td>\n",
       "      <td>8.99</td>\n",
       "      <td>13.13</td>\n",
       "      <td>2010.0</td>\n",
       "      <td>2.0</td>\n",
       "      <td>99.0</td>\n",
       "      <td>12.0</td>\n",
       "      <td>20.0</td>\n",
       "      <td>10.0</td>\n",
       "      <td>215</td>\n",
       "      <td>2.816412</td>\n",
       "      <td>0</td>\n",
       "      <td>0.00</td>\n",
       "      <td>0.000000</td>\n",
       "      <td>0</td>\n",
       "      <td>0</td>\n",
       "      <td>5</td>\n",
       "    </tr>\n",
       "    <tr>\n",
       "      <th>39</th>\n",
       "      <td>Welcome to...</td>\n",
       "      <td>19.49</td>\n",
       "      <td>29.95</td>\n",
       "      <td>2018.0</td>\n",
       "      <td>1.0</td>\n",
       "      <td>100.0</td>\n",
       "      <td>25.0</td>\n",
       "      <td>30.0</td>\n",
       "      <td>10.0</td>\n",
       "      <td>351</td>\n",
       "      <td>3.804822</td>\n",
       "      <td>6</td>\n",
       "      <td>2.00</td>\n",
       "      <td>2.666667</td>\n",
       "      <td>1</td>\n",
       "      <td>0</td>\n",
       "      <td>6</td>\n",
       "    </tr>\n",
       "    <tr>\n",
       "      <th>112</th>\n",
       "      <td>Cartographers: A Roll Player Tale</td>\n",
       "      <td>17.19</td>\n",
       "      <td>24.95</td>\n",
       "      <td>2019.0</td>\n",
       "      <td>1.0</td>\n",
       "      <td>100.0</td>\n",
       "      <td>30.0</td>\n",
       "      <td>45.0</td>\n",
       "      <td>10.0</td>\n",
       "      <td>190</td>\n",
       "      <td>4.034132</td>\n",
       "      <td>4</td>\n",
       "      <td>1.75</td>\n",
       "      <td>2.500000</td>\n",
       "      <td>0</td>\n",
       "      <td>0</td>\n",
       "      <td>8</td>\n",
       "    </tr>\n",
       "    <tr>\n",
       "      <th>642</th>\n",
       "      <td>SET</td>\n",
       "      <td>11.99</td>\n",
       "      <td>12.99</td>\n",
       "      <td>1988.0</td>\n",
       "      <td>1.0</td>\n",
       "      <td>99.0</td>\n",
       "      <td>30.0</td>\n",
       "      <td>30.0</td>\n",
       "      <td>6.0</td>\n",
       "      <td>134</td>\n",
       "      <td>2.962313</td>\n",
       "      <td>1</td>\n",
       "      <td>1.00</td>\n",
       "      <td>1.000000</td>\n",
       "      <td>0</td>\n",
       "      <td>0</td>\n",
       "      <td>0</td>\n",
       "    </tr>\n",
       "  </tbody>\n",
       "</table>\n",
       "</div>"
      ],
      "text/plain": [
       "                                  name  price   msrp  year_published  \\\n",
       "406                        Zombie Dice   8.99  13.13          2010.0   \n",
       "39                       Welcome to...  19.49  29.95          2018.0   \n",
       "112  Cartographers: A Roll Player Tale  17.19  24.95          2019.0   \n",
       "642                                SET  11.99  12.99          1988.0   \n",
       "\n",
       "     min_players  max_players  min_playtime  max_playtime  min_age  \\\n",
       "406          2.0         99.0          12.0          20.0     10.0   \n",
       "39           1.0        100.0          25.0          30.0     10.0   \n",
       "112          1.0        100.0          30.0          45.0     10.0   \n",
       "642          1.0         99.0          30.0          30.0      6.0   \n",
       "\n",
       "     num_user_ratings  average_user_rating  num_user_complexity_votes  \\\n",
       "406               215             2.816412                          0   \n",
       "39                351             3.804822                          6   \n",
       "112               190             4.034132                          4   \n",
       "642               134             2.962313                          1   \n",
       "\n",
       "     average_learning_complexity  average_strategy_complexity  rank type  \\\n",
       "406                         0.00                     0.000000     0    0   \n",
       "39                          2.00                     2.666667     1    0   \n",
       "112                         1.75                     2.500000     0    0   \n",
       "642                         1.00                     1.000000     0    0   \n",
       "\n",
       "     num_distributors  \n",
       "406                 5  \n",
       "39                  6  \n",
       "112                 8  \n",
       "642                 0  "
      ]
     },
     "execution_count": 59,
     "metadata": {},
     "output_type": "execute_result"
    }
   ],
   "source": [
    "train[train['max_players']>50]"
   ]
  },
  {
   "cell_type": "code",
   "execution_count": 60,
   "id": "e9fe4c9c",
   "metadata": {},
   "outputs": [],
   "source": [
    "lowrank=train[train['rank']==0]['max_players']"
   ]
  },
  {
   "cell_type": "code",
   "execution_count": 61,
   "id": "5a5d7781",
   "metadata": {},
   "outputs": [
    {
     "data": {
      "text/plain": [
       "46.92272838419377"
      ]
     },
     "execution_count": 61,
     "metadata": {},
     "output_type": "execute_result"
    }
   ],
   "source": [
    "lowrank.var()"
   ]
  },
  {
   "cell_type": "code",
   "execution_count": 62,
   "id": "123a631e",
   "metadata": {},
   "outputs": [
    {
     "data": {
      "text/plain": [
       "<AxesSubplot:xlabel='max_players', ylabel='Count'>"
      ]
     },
     "execution_count": 62,
     "metadata": {},
     "output_type": "execute_result"
    },
    {
     "data": {
      "image/png": "[encoded data removed]",
      "text/plain": [
       "<Figure size 640x480 with 1 Axes>"
      ]
     },
     "metadata": {},
     "output_type": "display_data"
    }
   ],
   "source": [
    "sns.histplot(lowrank)"
   ]
  },
  {
   "cell_type": "code",
   "execution_count": 63,
   "id": "7f289e43",
   "metadata": {},
   "outputs": [
    {
     "data": {
      "text/plain": [
       "Ttest_indResult(statistic=0.3111490835683894, pvalue=0.378238503578918)"
      ]
     },
     "execution_count": 63,
     "metadata": {},
     "output_type": "execute_result"
    }
   ],
   "source": [
    "stats.ttest_ind(hirank, lowrank, alternative='greater', equal_var=False)"
   ]
  },
  {
   "cell_type": "markdown",
   "id": "ebe2e437",
   "metadata": {},
   "source": [
    "* the pvalue is not lower than the alpha so we can not reject the null hypothesis\n",
    "* similar to min_players, max_players is not a significant driver of rank"
   ]
  },
  {
   "cell_type": "markdown",
   "id": "08995626",
   "metadata": {},
   "source": [
    "<div class=\"alert alert-info\">\n",
    "    <header>\n",
    "    <h2>Exploration Question 6:</h2>\n",
    "    </header>\n",
    "    <dl>\n",
    "        <dt>Is the min_playtime of a high rated game significantlly higher than other games?</dt>\n",
    "        <dd>- $H_0$: There is no difference in the average min_playtime of higher rated games and other games</dd>\n",
    "        <dd>- $H_a$: The average min_playtime of high rated games is significantlly higher than other games.</dd>\n",
    "    </dl>\n",
    "</div>"
   ]
  },
  {
   "cell_type": "code",
   "execution_count": 64,
   "id": "136403fb",
   "metadata": {},
   "outputs": [],
   "source": [
    "hirank=train[train['rank']==1]['min_playtime']"
   ]
  },
  {
   "cell_type": "code",
   "execution_count": 65,
   "id": "5991312a",
   "metadata": {},
   "outputs": [
    {
     "data": {
      "text/plain": [
       "1149.508771929825"
      ]
     },
     "execution_count": 65,
     "metadata": {},
     "output_type": "execute_result"
    }
   ],
   "source": [
    "hirank.var()"
   ]
  },
  {
   "cell_type": "code",
   "execution_count": 66,
   "id": "77dbc5b4",
   "metadata": {},
   "outputs": [
    {
     "data": {
      "text/plain": [
       "<AxesSubplot:xlabel='min_playtime', ylabel='Count'>"
      ]
     },
     "execution_count": 66,
     "metadata": {},
     "output_type": "execute_result"
    },
    {
     "data": {
      "image/png": "[encoded data removed]",
      "text/plain": [
       "<Figure size 640x480 with 1 Axes>"
      ]
     },
     "metadata": {},
     "output_type": "display_data"
    }
   ],
   "source": [
    "sns.histplot(hirank)"
   ]
  },
  {
   "cell_type": "code",
   "execution_count": 67,
   "id": "f1a0b832",
   "metadata": {},
   "outputs": [],
   "source": [
    "lowrank=train[train['rank']==0]['min_playtime']"
   ]
  },
  {
   "cell_type": "code",
   "execution_count": 68,
   "id": "f145da65",
   "metadata": {},
   "outputs": [
    {
     "data": {
      "text/plain": [
       "1517.6717502934346"
      ]
     },
     "execution_count": 68,
     "metadata": {},
     "output_type": "execute_result"
    }
   ],
   "source": [
    "lowrank.var()"
   ]
  },
  {
   "cell_type": "code",
   "execution_count": 69,
   "id": "c7ffa7d6",
   "metadata": {},
   "outputs": [
    {
     "data": {
      "text/plain": [
       "<AxesSubplot:xlabel='min_playtime', ylabel='Count'>"
      ]
     },
     "execution_count": 69,
     "metadata": {},
     "output_type": "execute_result"
    },
    {
     "data": {
      "image/png": "[encoded data removed]",
      "text/plain": [
       "<Figure size 640x480 with 1 Axes>"
      ]
     },
     "metadata": {},
     "output_type": "display_data"
    }
   ],
   "source": [
    "sns.histplot(lowrank)"
   ]
  },
  {
   "cell_type": "code",
   "execution_count": 70,
   "id": "07cb7d44",
   "metadata": {},
   "outputs": [
    {
     "data": {
      "text/plain": [
       "Ttest_indResult(statistic=-0.10326335477887541, pvalue=0.5411085224847587)"
      ]
     },
     "execution_count": 70,
     "metadata": {},
     "output_type": "execute_result"
    }
   ],
   "source": [
    "stats.ttest_ind(hirank, lowrank, alternative='greater')"
   ]
  },
  {
   "cell_type": "markdown",
   "id": "630441b7",
   "metadata": {},
   "source": [
    "* the pvalue is not lower than the alpha so we can not reject the null hypothesis\n",
    "* min_playtime is not a significant driver of rank"
   ]
  },
  {
   "cell_type": "markdown",
   "id": "831d2014",
   "metadata": {},
   "source": [
    "<div class=\"alert alert-info\">\n",
    "    <header>\n",
    "    <h2>Exploration Question 7:</h2>\n",
    "    </header>\n",
    "    <dl>\n",
    "        <dt>Is the max_playtime of a high rated game significantlly higher than other games?</dt>\n",
    "        <dd>- $H_0$: There is no difference in the average max_playtime of higher rated games and other games</dd>\n",
    "        <dd>- $H_a$: The average max_playtime of high rated games is significantlly higher than other games.</dd>\n",
    "    </dl>\n",
    "</div>"
   ]
  },
  {
   "cell_type": "code",
   "execution_count": 71,
   "id": "3c495d5c",
   "metadata": {},
   "outputs": [],
   "source": [
    "hirank=train[train['rank']==1]['max_playtime']"
   ]
  },
  {
   "cell_type": "code",
   "execution_count": 72,
   "id": "34ee203a",
   "metadata": {},
   "outputs": [
    {
     "data": {
      "text/plain": [
       "3011.982280701755"
      ]
     },
     "execution_count": 72,
     "metadata": {},
     "output_type": "execute_result"
    }
   ],
   "source": [
    "hirank.var()"
   ]
  },
  {
   "cell_type": "code",
   "execution_count": 73,
   "id": "6d27cfe5",
   "metadata": {},
   "outputs": [
    {
     "data": {
      "text/plain": [
       "<AxesSubplot:xlabel='max_playtime', ylabel='Count'>"
      ]
     },
     "execution_count": 73,
     "metadata": {},
     "output_type": "execute_result"
    },
    {
     "data": {
      "image/png": "[encoded data removed]",
      "text/plain": [
       "<Figure size 640x480 with 1 Axes>"
      ]
     },
     "metadata": {},
     "output_type": "display_data"
    }
   ],
   "source": [
    "sns.histplot(hirank)"
   ]
  },
  {
   "cell_type": "code",
   "execution_count": 74,
   "id": "e81df9cc",
   "metadata": {},
   "outputs": [],
   "source": [
    "lowrank=train[train['rank']==0]['max_playtime']"
   ]
  },
  {
   "cell_type": "code",
   "execution_count": 75,
   "id": "87ace8fc",
   "metadata": {},
   "outputs": [
    {
     "data": {
      "text/plain": [
       "4528.1552327855625"
      ]
     },
     "execution_count": 75,
     "metadata": {},
     "output_type": "execute_result"
    }
   ],
   "source": [
    "lowrank.var()"
   ]
  },
  {
   "cell_type": "code",
   "execution_count": 76,
   "id": "14c8f4ff",
   "metadata": {},
   "outputs": [
    {
     "data": {
      "text/plain": [
       "<AxesSubplot:xlabel='max_playtime', ylabel='Count'>"
      ]
     },
     "execution_count": 76,
     "metadata": {},
     "output_type": "execute_result"
    },
    {
     "data": {
      "image/png": "[encoded data removed]",
      "text/plain": [
       "<Figure size 640x480 with 1 Axes>"
      ]
     },
     "metadata": {},
     "output_type": "display_data"
    }
   ],
   "source": [
    "sns.histplot(lowrank)"
   ]
  },
  {
   "cell_type": "code",
   "execution_count": 77,
   "id": "97c72450",
   "metadata": {},
   "outputs": [
    {
     "data": {
      "text/plain": [
       "Ttest_indResult(statistic=0.7563281649461554, pvalue=0.22558295915180981)"
      ]
     },
     "execution_count": 77,
     "metadata": {},
     "output_type": "execute_result"
    }
   ],
   "source": [
    "stats.ttest_ind(hirank, lowrank, alternative='greater', equal_var=False)"
   ]
  },
  {
   "cell_type": "markdown",
   "id": "1542b2b5",
   "metadata": {},
   "source": [
    "* the pvalue is not lower than the alpha so we can not reject the null hypothesis\n",
    "* max_playtime is not a significant driver of rank"
   ]
  },
  {
   "cell_type": "code",
   "execution_count": 78,
   "id": "5f646c58",
   "metadata": {},
   "outputs": [
    {
     "data": {
      "text/html": [
       "<div>\n",
       "<style scoped>\n",
       "    .dataframe tbody tr th:only-of-type {\n",
       "        vertical-align: middle;\n",
       "    }\n",
       "\n",
       "    .dataframe tbody tr th {\n",
       "        vertical-align: top;\n",
       "    }\n",
       "\n",
       "    .dataframe thead th {\n",
       "        text-align: right;\n",
       "    }\n",
       "</style>\n",
       "<table border=\"1\" class=\"dataframe\">\n",
       "  <thead>\n",
       "    <tr style=\"text-align: right;\">\n",
       "      <th></th>\n",
       "      <th>name</th>\n",
       "      <th>price</th>\n",
       "      <th>msrp</th>\n",
       "      <th>year_published</th>\n",
       "      <th>min_players</th>\n",
       "      <th>max_players</th>\n",
       "      <th>min_playtime</th>\n",
       "      <th>max_playtime</th>\n",
       "      <th>min_age</th>\n",
       "      <th>num_user_ratings</th>\n",
       "      <th>average_user_rating</th>\n",
       "      <th>num_user_complexity_votes</th>\n",
       "      <th>average_learning_complexity</th>\n",
       "      <th>average_strategy_complexity</th>\n",
       "      <th>rank</th>\n",
       "      <th>type</th>\n",
       "      <th>num_distributors</th>\n",
       "    </tr>\n",
       "  </thead>\n",
       "  <tbody>\n",
       "    <tr>\n",
       "      <th>386</th>\n",
       "      <td>Bruges</td>\n",
       "      <td>45.456444</td>\n",
       "      <td>41.49</td>\n",
       "      <td>2013.0</td>\n",
       "      <td>2.0</td>\n",
       "      <td>4.0</td>\n",
       "      <td>60.0</td>\n",
       "      <td>75.0</td>\n",
       "      <td>10.0</td>\n",
       "      <td>139</td>\n",
       "      <td>3.498201</td>\n",
       "      <td>0</td>\n",
       "      <td>0.0</td>\n",
       "      <td>0.0</td>\n",
       "      <td>0</td>\n",
       "      <td>0</td>\n",
       "      <td>0</td>\n",
       "    </tr>\n",
       "    <tr>\n",
       "      <th>623</th>\n",
       "      <td>Atlantis Rising (second edition)</td>\n",
       "      <td>48.000000</td>\n",
       "      <td>65.00</td>\n",
       "      <td>2022.0</td>\n",
       "      <td>1.0</td>\n",
       "      <td>4.0</td>\n",
       "      <td>45.0</td>\n",
       "      <td>90.0</td>\n",
       "      <td>10.0</td>\n",
       "      <td>34</td>\n",
       "      <td>3.959559</td>\n",
       "      <td>0</td>\n",
       "      <td>0.0</td>\n",
       "      <td>0.0</td>\n",
       "      <td>0</td>\n",
       "      <td>0</td>\n",
       "      <td>0</td>\n",
       "    </tr>\n",
       "    <tr>\n",
       "      <th>781</th>\n",
       "      <td>Bus</td>\n",
       "      <td>235.400000</td>\n",
       "      <td>89.99</td>\n",
       "      <td>1999.0</td>\n",
       "      <td>3.0</td>\n",
       "      <td>5.0</td>\n",
       "      <td>120.0</td>\n",
       "      <td>120.0</td>\n",
       "      <td>14.0</td>\n",
       "      <td>40</td>\n",
       "      <td>3.743750</td>\n",
       "      <td>0</td>\n",
       "      <td>0.0</td>\n",
       "      <td>0.0</td>\n",
       "      <td>0</td>\n",
       "      <td>0</td>\n",
       "      <td>1</td>\n",
       "    </tr>\n",
       "    <tr>\n",
       "      <th>105</th>\n",
       "      <td>Bohnanza</td>\n",
       "      <td>28.000000</td>\n",
       "      <td>19.95</td>\n",
       "      <td>1997.0</td>\n",
       "      <td>2.0</td>\n",
       "      <td>7.0</td>\n",
       "      <td>45.0</td>\n",
       "      <td>60.0</td>\n",
       "      <td>13.0</td>\n",
       "      <td>371</td>\n",
       "      <td>3.426649</td>\n",
       "      <td>2</td>\n",
       "      <td>2.0</td>\n",
       "      <td>2.5</td>\n",
       "      <td>0</td>\n",
       "      <td>0</td>\n",
       "      <td>4</td>\n",
       "    </tr>\n",
       "    <tr>\n",
       "      <th>808</th>\n",
       "      <td>Flip Ships</td>\n",
       "      <td>43.824000</td>\n",
       "      <td>40.00</td>\n",
       "      <td>2017.0</td>\n",
       "      <td>1.0</td>\n",
       "      <td>4.0</td>\n",
       "      <td>30.0</td>\n",
       "      <td>45.0</td>\n",
       "      <td>8.0</td>\n",
       "      <td>54</td>\n",
       "      <td>3.479847</td>\n",
       "      <td>0</td>\n",
       "      <td>0.0</td>\n",
       "      <td>0.0</td>\n",
       "      <td>0</td>\n",
       "      <td>0</td>\n",
       "      <td>0</td>\n",
       "    </tr>\n",
       "  </tbody>\n",
       "</table>\n",
       "</div>"
      ],
      "text/plain": [
       "                                 name       price   msrp  year_published  \\\n",
       "386                            Bruges   45.456444  41.49          2013.0   \n",
       "623  Atlantis Rising (second edition)   48.000000  65.00          2022.0   \n",
       "781                               Bus  235.400000  89.99          1999.0   \n",
       "105                          Bohnanza   28.000000  19.95          1997.0   \n",
       "808                        Flip Ships   43.824000  40.00          2017.0   \n",
       "\n",
       "     min_players  max_players  min_playtime  max_playtime  min_age  \\\n",
       "386          2.0          4.0          60.0          75.0     10.0   \n",
       "623          1.0          4.0          45.0          90.0     10.0   \n",
       "781          3.0          5.0         120.0         120.0     14.0   \n",
       "105          2.0          7.0          45.0          60.0     13.0   \n",
       "808          1.0          4.0          30.0          45.0      8.0   \n",
       "\n",
       "     num_user_ratings  average_user_rating  num_user_complexity_votes  \\\n",
       "386               139             3.498201                          0   \n",
       "623                34             3.959559                          0   \n",
       "781                40             3.743750                          0   \n",
       "105               371             3.426649                          2   \n",
       "808                54             3.479847                          0   \n",
       "\n",
       "     average_learning_complexity  average_strategy_complexity  rank type  \\\n",
       "386                          0.0                          0.0     0    0   \n",
       "623                          0.0                          0.0     0    0   \n",
       "781                          0.0                          0.0     0    0   \n",
       "105                          2.0                          2.5     0    0   \n",
       "808                          0.0                          0.0     0    0   \n",
       "\n",
       "     num_distributors  \n",
       "386                 0  \n",
       "623                 0  \n",
       "781                 1  \n",
       "105                 4  \n",
       "808                 0  "
      ]
     },
     "execution_count": 78,
     "metadata": {},
     "output_type": "execute_result"
    }
   ],
   "source": [
    "train.head()"
   ]
  },
  {
   "cell_type": "markdown",
   "id": "b7fc319f",
   "metadata": {},
   "source": [
    "<div class=\"alert alert-info\">\n",
    "    <header>\n",
    "    <h2>Exploration Question 8:</h2>\n",
    "    </header>\n",
    "    <dl>\n",
    "        <dt>Is the min_age of a high rated game significantlly higher than other games?</dt>\n",
    "        <dd>- $H_0$: There is no difference in the average min_age of higher rated games and other games</dd>\n",
    "        <dd>- $H_a$: The average min_age of high rated games is significantlly higher than other games.</dd>\n",
    "    </dl>\n",
    "</div>"
   ]
  },
  {
   "cell_type": "code",
   "execution_count": 79,
   "id": "144e93d2",
   "metadata": {},
   "outputs": [],
   "source": [
    "hirank=train[train['rank']==1]['min_age']"
   ]
  },
  {
   "cell_type": "code",
   "execution_count": 80,
   "id": "d6a377f2",
   "metadata": {},
   "outputs": [
    {
     "data": {
      "text/plain": [
       "4.822456140350878"
      ]
     },
     "execution_count": 80,
     "metadata": {},
     "output_type": "execute_result"
    }
   ],
   "source": [
    "hirank.var()"
   ]
  },
  {
   "cell_type": "code",
   "execution_count": 81,
   "id": "406b01ca",
   "metadata": {},
   "outputs": [
    {
     "data": {
      "text/plain": [
       "<AxesSubplot:xlabel='min_age', ylabel='Count'>"
      ]
     },
     "execution_count": 81,
     "metadata": {},
     "output_type": "execute_result"
    },
    {
     "data": {
      "image/png": "[encoded data removed]",
      "text/plain": [
       "<Figure size 640x480 with 1 Axes>"
      ]
     },
     "metadata": {},
     "output_type": "display_data"
    }
   ],
   "source": [
    "sns.histplot(hirank)"
   ]
  },
  {
   "cell_type": "code",
   "execution_count": 82,
   "id": "542807cd",
   "metadata": {},
   "outputs": [],
   "source": [
    "lowrank=train[train['rank']==0]['min_age']"
   ]
  },
  {
   "cell_type": "code",
   "execution_count": 83,
   "id": "7ee1d71d",
   "metadata": {},
   "outputs": [
    {
     "data": {
      "text/plain": [
       "5.690823063380294"
      ]
     },
     "execution_count": 83,
     "metadata": {},
     "output_type": "execute_result"
    }
   ],
   "source": [
    "lowrank.var()"
   ]
  },
  {
   "cell_type": "code",
   "execution_count": 84,
   "id": "c2f5bcc2",
   "metadata": {},
   "outputs": [
    {
     "data": {
      "text/plain": [
       "<AxesSubplot:xlabel='min_age', ylabel='Count'>"
      ]
     },
     "execution_count": 84,
     "metadata": {},
     "output_type": "execute_result"
    },
    {
     "data": {
      "image/png": "[encoded data removed]",
      "text/plain": [
       "<Figure size 640x480 with 1 Axes>"
      ]
     },
     "metadata": {},
     "output_type": "display_data"
    }
   ],
   "source": [
    "sns.histplot(lowrank)"
   ]
  },
  {
   "cell_type": "code",
   "execution_count": 85,
   "id": "e9064ea7",
   "metadata": {},
   "outputs": [
    {
     "data": {
      "text/plain": [
       "Ttest_indResult(statistic=0.6900247722549727, pvalue=0.24520141265934886)"
      ]
     },
     "execution_count": 85,
     "metadata": {},
     "output_type": "execute_result"
    }
   ],
   "source": [
    "stats.ttest_ind(hirank, lowrank, alternative='greater')"
   ]
  },
  {
   "cell_type": "markdown",
   "id": "6921a760",
   "metadata": {},
   "source": [
    "* the pvalue is not lower than the alpha so we can not reject the null hypothesis\n",
    "* min_age is not a significant driver of rank"
   ]
  },
  {
   "cell_type": "markdown",
   "id": "acd8aff1",
   "metadata": {},
   "source": [
    "<div class=\"alert alert-info\">\n",
    "    <header>\n",
    "    <h2>Exploration Question 9:</h2>\n",
    "    </header>\n",
    "    <dl>\n",
    "        <dt>Is the num_distributors of a high rated game significantlly higher than other games?</dt>\n",
    "        <dd>- $H_0$: There is no difference in the average num_distributors of higher rated games and other games</dd>\n",
    "        <dd>- $H_a$: The average num_distributors of high rated games is significantlly higher than other games.</dd>\n",
    "    </dl>\n",
    "</div>"
   ]
  },
  {
   "cell_type": "code",
   "execution_count": 86,
   "id": "6e997479",
   "metadata": {},
   "outputs": [],
   "source": [
    "hirank=train[train['rank']==1]['num_distributors']"
   ]
  },
  {
   "cell_type": "code",
   "execution_count": 87,
   "id": "72d74410",
   "metadata": {},
   "outputs": [
    {
     "data": {
      "text/plain": [
       "6.426666666666667"
      ]
     },
     "execution_count": 87,
     "metadata": {},
     "output_type": "execute_result"
    }
   ],
   "source": [
    "hirank.var()"
   ]
  },
  {
   "cell_type": "code",
   "execution_count": 88,
   "id": "86866bea",
   "metadata": {},
   "outputs": [
    {
     "data": {
      "text/plain": [
       "<AxesSubplot:xlabel='num_distributors', ylabel='Count'>"
      ]
     },
     "execution_count": 88,
     "metadata": {},
     "output_type": "execute_result"
    },
    {
     "data": {
      "image/png": "[encoded data removed]",
      "text/plain": [
       "<Figure size 640x480 with 1 Axes>"
      ]
     },
     "metadata": {},
     "output_type": "display_data"
    }
   ],
   "source": [
    "sns.histplot(hirank)"
   ]
  },
  {
   "cell_type": "code",
   "execution_count": 89,
   "id": "9daadef0",
   "metadata": {},
   "outputs": [],
   "source": [
    "lowrank=train[train['rank']==0]['num_distributors']"
   ]
  },
  {
   "cell_type": "code",
   "execution_count": 90,
   "id": "6595ca2e",
   "metadata": {},
   "outputs": [
    {
     "data": {
      "text/plain": [
       "4.561023082942098"
      ]
     },
     "execution_count": 90,
     "metadata": {},
     "output_type": "execute_result"
    }
   ],
   "source": [
    "lowrank.var()"
   ]
  },
  {
   "cell_type": "code",
   "execution_count": 91,
   "id": "6d78e7dc",
   "metadata": {},
   "outputs": [
    {
     "data": {
      "text/plain": [
       "<AxesSubplot:xlabel='num_distributors', ylabel='Count'>"
      ]
     },
     "execution_count": 91,
     "metadata": {},
     "output_type": "execute_result"
    },
    {
     "data": {
      "image/png": "[encoded data removed]",
      "text/plain": [
       "<Figure size 640x480 with 1 Axes>"
      ]
     },
     "metadata": {},
     "output_type": "display_data"
    }
   ],
   "source": [
    "sns.histplot(lowrank)"
   ]
  },
  {
   "cell_type": "code",
   "execution_count": 92,
   "id": "d95eb095",
   "metadata": {},
   "outputs": [
    {
     "data": {
      "text/plain": [
       "Ttest_indResult(statistic=7.0973865909179885, pvalue=1.5364921060137039e-12)"
      ]
     },
     "execution_count": 92,
     "metadata": {},
     "output_type": "execute_result"
    }
   ],
   "source": [
    "stats.ttest_ind(hirank, lowrank, alternative='greater')"
   ]
  },
  {
   "cell_type": "markdown",
   "id": "eaafae30",
   "metadata": {},
   "source": [
    "* the pvalue is lower than the alpha so we reject the null hypothesis\n",
    "* number of distributors is a driver of rank."
   ]
  },
  {
   "cell_type": "markdown",
   "id": "9e58911c",
   "metadata": {},
   "source": [
    "<div class=\"alert alert-info\">\n",
    "    <header>\n",
    "    <h2>Exploration Question 10:</h2>\n",
    "    </header>\n",
    "    <dl>\n",
    "        <dt>Is the year_published of a high rated game significantlly higher than other games?</dt>\n",
    "        <dd>- $H_0$: There is no difference in the average year_published of higher rated games and other games</dd>\n",
    "        <dd>- $H_a$: The average year_published of high rated games is significantlly higher than other games.</dd>\n",
    "    </dl>\n",
    "</div>"
   ]
  },
  {
   "cell_type": "code",
   "execution_count": 93,
   "id": "045a9679",
   "metadata": {},
   "outputs": [],
   "source": [
    "hirank=train[train['rank']==1]['year_published']"
   ]
  },
  {
   "cell_type": "code",
   "execution_count": 94,
   "id": "f7099909",
   "metadata": {},
   "outputs": [
    {
     "data": {
      "text/plain": [
       "24.000526315789497"
      ]
     },
     "execution_count": 94,
     "metadata": {},
     "output_type": "execute_result"
    }
   ],
   "source": [
    "hirank.var()"
   ]
  },
  {
   "cell_type": "code",
   "execution_count": 95,
   "id": "d512f253",
   "metadata": {},
   "outputs": [
    {
     "data": {
      "text/plain": [
       "<AxesSubplot:xlabel='year_published', ylabel='Count'>"
      ]
     },
     "execution_count": 95,
     "metadata": {},
     "output_type": "execute_result"
    },
    {
     "data": {
      "image/png": "[encoded data removed]",
      "text/plain": [
       "<Figure size 640x480 with 1 Axes>"
      ]
     },
     "metadata": {},
     "output_type": "display_data"
    }
   ],
   "source": [
    "sns.histplot(hirank)"
   ]
  },
  {
   "cell_type": "code",
   "execution_count": 96,
   "id": "be62e0eb",
   "metadata": {},
   "outputs": [],
   "source": [
    "lowrank=train[train['rank']==0]['year_published']"
   ]
  },
  {
   "cell_type": "code",
   "execution_count": 97,
   "id": "9e584b53",
   "metadata": {},
   "outputs": [
    {
     "data": {
      "text/plain": [
       "1638.9000000000026"
      ]
     },
     "execution_count": 97,
     "metadata": {},
     "output_type": "execute_result"
    }
   ],
   "source": [
    "lowrank.var()"
   ]
  },
  {
   "cell_type": "code",
   "execution_count": 98,
   "id": "26604bdd",
   "metadata": {},
   "outputs": [
    {
     "data": {
      "text/plain": [
       "<AxesSubplot:xlabel='year_published', ylabel='Count'>"
      ]
     },
     "execution_count": 98,
     "metadata": {},
     "output_type": "execute_result"
    },
    {
     "data": {
      "image/png": "[encoded data removed]",
      "text/plain": [
       "<Figure size 640x480 with 1 Axes>"
      ]
     },
     "metadata": {},
     "output_type": "display_data"
    }
   ],
   "source": [
    "sns.histplot(lowrank)"
   ]
  },
  {
   "cell_type": "code",
   "execution_count": 99,
   "id": "4935af40",
   "metadata": {},
   "outputs": [
    {
     "data": {
      "text/html": [
       "<div>\n",
       "<style scoped>\n",
       "    .dataframe tbody tr th:only-of-type {\n",
       "        vertical-align: middle;\n",
       "    }\n",
       "\n",
       "    .dataframe tbody tr th {\n",
       "        vertical-align: top;\n",
       "    }\n",
       "\n",
       "    .dataframe thead th {\n",
       "        text-align: right;\n",
       "    }\n",
       "</style>\n",
       "<table border=\"1\" class=\"dataframe\">\n",
       "  <thead>\n",
       "    <tr style=\"text-align: right;\">\n",
       "      <th></th>\n",
       "      <th>name</th>\n",
       "      <th>price</th>\n",
       "      <th>msrp</th>\n",
       "      <th>year_published</th>\n",
       "      <th>min_players</th>\n",
       "      <th>max_players</th>\n",
       "      <th>min_playtime</th>\n",
       "      <th>max_playtime</th>\n",
       "      <th>min_age</th>\n",
       "      <th>num_user_ratings</th>\n",
       "      <th>average_user_rating</th>\n",
       "      <th>num_user_complexity_votes</th>\n",
       "      <th>average_learning_complexity</th>\n",
       "      <th>average_strategy_complexity</th>\n",
       "      <th>rank</th>\n",
       "      <th>type</th>\n",
       "      <th>num_distributors</th>\n",
       "    </tr>\n",
       "  </thead>\n",
       "  <tbody>\n",
       "    <tr>\n",
       "      <th>616</th>\n",
       "      <td>Backgammon</td>\n",
       "      <td>5.29</td>\n",
       "      <td>5.99</td>\n",
       "      <td>3000.0</td>\n",
       "      <td>2.0</td>\n",
       "      <td>2.0</td>\n",
       "      <td>30.0</td>\n",
       "      <td>30.0</td>\n",
       "      <td>8.0</td>\n",
       "      <td>124</td>\n",
       "      <td>3.077471</td>\n",
       "      <td>3</td>\n",
       "      <td>2.0</td>\n",
       "      <td>2.666667</td>\n",
       "      <td>0</td>\n",
       "      <td>0</td>\n",
       "      <td>1</td>\n",
       "    </tr>\n",
       "  </tbody>\n",
       "</table>\n",
       "</div>"
      ],
      "text/plain": [
       "           name  price  msrp  year_published  min_players  max_players  \\\n",
       "616  Backgammon   5.29  5.99          3000.0          2.0          2.0   \n",
       "\n",
       "     min_playtime  max_playtime  min_age  num_user_ratings  \\\n",
       "616          30.0          30.0      8.0               124   \n",
       "\n",
       "     average_user_rating  num_user_complexity_votes  \\\n",
       "616             3.077471                          3   \n",
       "\n",
       "     average_learning_complexity  average_strategy_complexity  rank type  \\\n",
       "616                          2.0                     2.666667     0    0   \n",
       "\n",
       "     num_distributors  \n",
       "616                 1  "
      ]
     },
     "execution_count": 99,
     "metadata": {},
     "output_type": "execute_result"
    }
   ],
   "source": [
    "train[train['year_published']>2022]"
   ]
  },
  {
   "cell_type": "code",
   "execution_count": 100,
   "id": "5e8d6a4f",
   "metadata": {},
   "outputs": [],
   "source": [
    "for i, row in df.iterrows():\n",
    "    if row['year_published']==3000:\n",
    "        df.loc[i, 'year_published'] = (-3000)"
   ]
  },
  {
   "cell_type": "code",
   "execution_count": 101,
   "id": "926e6cd6",
   "metadata": {},
   "outputs": [],
   "source": [
    "train, val, test= ex.tts(df, 'rank')"
   ]
  },
  {
   "cell_type": "code",
   "execution_count": 102,
   "id": "63af9139",
   "metadata": {
    "scrolled": true
   },
   "outputs": [
    {
     "data": {
      "text/html": [
       "<div>\n",
       "<style scoped>\n",
       "    .dataframe tbody tr th:only-of-type {\n",
       "        vertical-align: middle;\n",
       "    }\n",
       "\n",
       "    .dataframe tbody tr th {\n",
       "        vertical-align: top;\n",
       "    }\n",
       "\n",
       "    .dataframe thead th {\n",
       "        text-align: right;\n",
       "    }\n",
       "</style>\n",
       "<table border=\"1\" class=\"dataframe\">\n",
       "  <thead>\n",
       "    <tr style=\"text-align: right;\">\n",
       "      <th></th>\n",
       "      <th>name</th>\n",
       "      <th>price</th>\n",
       "      <th>msrp</th>\n",
       "      <th>year_published</th>\n",
       "      <th>min_players</th>\n",
       "      <th>max_players</th>\n",
       "      <th>min_playtime</th>\n",
       "      <th>max_playtime</th>\n",
       "      <th>min_age</th>\n",
       "      <th>num_user_ratings</th>\n",
       "      <th>average_user_rating</th>\n",
       "      <th>num_user_complexity_votes</th>\n",
       "      <th>average_learning_complexity</th>\n",
       "      <th>average_strategy_complexity</th>\n",
       "      <th>rank</th>\n",
       "      <th>type</th>\n",
       "      <th>num_distributors</th>\n",
       "    </tr>\n",
       "  </thead>\n",
       "  <tbody>\n",
       "    <tr>\n",
       "      <th>616</th>\n",
       "      <td>Backgammon</td>\n",
       "      <td>5.29</td>\n",
       "      <td>5.99</td>\n",
       "      <td>-3000.0</td>\n",
       "      <td>2.0</td>\n",
       "      <td>2.0</td>\n",
       "      <td>30.0</td>\n",
       "      <td>30.0</td>\n",
       "      <td>8.0</td>\n",
       "      <td>124</td>\n",
       "      <td>3.077471</td>\n",
       "      <td>3</td>\n",
       "      <td>2.0</td>\n",
       "      <td>2.666667</td>\n",
       "      <td>0</td>\n",
       "      <td>0</td>\n",
       "      <td>1</td>\n",
       "    </tr>\n",
       "  </tbody>\n",
       "</table>\n",
       "</div>"
      ],
      "text/plain": [
       "           name  price  msrp  year_published  min_players  max_players  \\\n",
       "616  Backgammon   5.29  5.99         -3000.0          2.0          2.0   \n",
       "\n",
       "     min_playtime  max_playtime  min_age  num_user_ratings  \\\n",
       "616          30.0          30.0      8.0               124   \n",
       "\n",
       "     average_user_rating  num_user_complexity_votes  \\\n",
       "616             3.077471                          3   \n",
       "\n",
       "     average_learning_complexity  average_strategy_complexity  rank type  \\\n",
       "616                          2.0                     2.666667     0    0   \n",
       "\n",
       "     num_distributors  \n",
       "616                 1  "
      ]
     },
     "execution_count": 102,
     "metadata": {},
     "output_type": "execute_result"
    }
   ],
   "source": [
    "train[train['year_published']<0]"
   ]
  },
  {
   "cell_type": "code",
   "execution_count": 103,
   "id": "209edad9",
   "metadata": {},
   "outputs": [],
   "source": [
    "lowrank=train[train['rank']==0]['year_published']"
   ]
  },
  {
   "cell_type": "code",
   "execution_count": 104,
   "id": "931e4ac0",
   "metadata": {},
   "outputs": [
    {
     "data": {
      "text/plain": [
       "39349.69812206579"
      ]
     },
     "execution_count": 104,
     "metadata": {},
     "output_type": "execute_result"
    }
   ],
   "source": [
    "lowrank.var()"
   ]
  },
  {
   "cell_type": "code",
   "execution_count": 105,
   "id": "6fc99ba7",
   "metadata": {},
   "outputs": [
    {
     "data": {
      "text/plain": [
       "<AxesSubplot:xlabel='year_published', ylabel='Count'>"
      ]
     },
     "execution_count": 105,
     "metadata": {},
     "output_type": "execute_result"
    },
    {
     "data": {
      "image/png": "[encoded data removed]",
      "text/plain": [
       "<Figure size 640x480 with 1 Axes>"
      ]
     },
     "metadata": {},
     "output_type": "display_data"
    }
   ],
   "source": [
    "sns.histplot(lowrank)"
   ]
  },
  {
   "cell_type": "code",
   "execution_count": 106,
   "id": "56e9c171",
   "metadata": {},
   "outputs": [
    {
     "data": {
      "text/plain": [
       "Ttest_indResult(statistic=1.2580818214418588, pvalue=0.10440855006423679)"
      ]
     },
     "execution_count": 106,
     "metadata": {},
     "output_type": "execute_result"
    }
   ],
   "source": [
    "stats.ttest_ind(hirank, lowrank, alternative='greater', equal_var=False)"
   ]
  },
  {
   "cell_type": "markdown",
   "id": "da00fc21",
   "metadata": {},
   "source": [
    "* year_published is not an indicator of if a game is higher rated or not"
   ]
  },
  {
   "cell_type": "code",
   "execution_count": 107,
   "id": "fd66da7f",
   "metadata": {},
   "outputs": [
    {
     "data": {
      "text/html": [
       "<div>\n",
       "<style scoped>\n",
       "    .dataframe tbody tr th:only-of-type {\n",
       "        vertical-align: middle;\n",
       "    }\n",
       "\n",
       "    .dataframe tbody tr th {\n",
       "        vertical-align: top;\n",
       "    }\n",
       "\n",
       "    .dataframe thead th {\n",
       "        text-align: right;\n",
       "    }\n",
       "</style>\n",
       "<table border=\"1\" class=\"dataframe\">\n",
       "  <thead>\n",
       "    <tr style=\"text-align: right;\">\n",
       "      <th></th>\n",
       "      <th>name</th>\n",
       "      <th>price</th>\n",
       "      <th>msrp</th>\n",
       "      <th>year_published</th>\n",
       "      <th>min_players</th>\n",
       "      <th>max_players</th>\n",
       "      <th>min_playtime</th>\n",
       "      <th>max_playtime</th>\n",
       "      <th>min_age</th>\n",
       "      <th>num_user_ratings</th>\n",
       "      <th>average_user_rating</th>\n",
       "      <th>num_user_complexity_votes</th>\n",
       "      <th>average_learning_complexity</th>\n",
       "      <th>average_strategy_complexity</th>\n",
       "      <th>rank</th>\n",
       "      <th>type</th>\n",
       "      <th>num_distributors</th>\n",
       "    </tr>\n",
       "  </thead>\n",
       "  <tbody>\n",
       "    <tr>\n",
       "      <th>35</th>\n",
       "      <td>Five Tribes</td>\n",
       "      <td>47.49</td>\n",
       "      <td>60.00</td>\n",
       "      <td>2014.0</td>\n",
       "      <td>2.0</td>\n",
       "      <td>4.0</td>\n",
       "      <td>60.0</td>\n",
       "      <td>90.0</td>\n",
       "      <td>13.0</td>\n",
       "      <td>435</td>\n",
       "      <td>3.827832</td>\n",
       "      <td>2</td>\n",
       "      <td>3.000000</td>\n",
       "      <td>3.500000</td>\n",
       "      <td>1</td>\n",
       "      <td>0</td>\n",
       "      <td>4</td>\n",
       "    </tr>\n",
       "    <tr>\n",
       "      <th>54</th>\n",
       "      <td>Sushi Go Party!</td>\n",
       "      <td>14.99</td>\n",
       "      <td>22.00</td>\n",
       "      <td>2016.0</td>\n",
       "      <td>2.0</td>\n",
       "      <td>8.0</td>\n",
       "      <td>30.0</td>\n",
       "      <td>45.0</td>\n",
       "      <td>8.0</td>\n",
       "      <td>427</td>\n",
       "      <td>3.578785</td>\n",
       "      <td>6</td>\n",
       "      <td>2.166667</td>\n",
       "      <td>2.333333</td>\n",
       "      <td>1</td>\n",
       "      <td>0</td>\n",
       "      <td>3</td>\n",
       "    </tr>\n",
       "    <tr>\n",
       "      <th>11</th>\n",
       "      <td>Codenames</td>\n",
       "      <td>12.81</td>\n",
       "      <td>19.95</td>\n",
       "      <td>2015.0</td>\n",
       "      <td>2.0</td>\n",
       "      <td>8.0</td>\n",
       "      <td>15.0</td>\n",
       "      <td>15.0</td>\n",
       "      <td>10.0</td>\n",
       "      <td>890</td>\n",
       "      <td>3.664894</td>\n",
       "      <td>10</td>\n",
       "      <td>1.100000</td>\n",
       "      <td>2.200000</td>\n",
       "      <td>1</td>\n",
       "      <td>0</td>\n",
       "      <td>10</td>\n",
       "    </tr>\n",
       "    <tr>\n",
       "      <th>67</th>\n",
       "      <td>Takenoko</td>\n",
       "      <td>39.06</td>\n",
       "      <td>49.99</td>\n",
       "      <td>2011.0</td>\n",
       "      <td>2.0</td>\n",
       "      <td>4.0</td>\n",
       "      <td>45.0</td>\n",
       "      <td>60.0</td>\n",
       "      <td>13.0</td>\n",
       "      <td>436</td>\n",
       "      <td>3.473755</td>\n",
       "      <td>2</td>\n",
       "      <td>2.500000</td>\n",
       "      <td>2.000000</td>\n",
       "      <td>1</td>\n",
       "      <td>0</td>\n",
       "      <td>3</td>\n",
       "    </tr>\n",
       "    <tr>\n",
       "      <th>32</th>\n",
       "      <td>Clank! A Deck-Building Adventure</td>\n",
       "      <td>44.79</td>\n",
       "      <td>60.00</td>\n",
       "      <td>2012.0</td>\n",
       "      <td>2.0</td>\n",
       "      <td>4.0</td>\n",
       "      <td>30.0</td>\n",
       "      <td>60.0</td>\n",
       "      <td>13.0</td>\n",
       "      <td>444</td>\n",
       "      <td>3.799500</td>\n",
       "      <td>3</td>\n",
       "      <td>2.333333</td>\n",
       "      <td>2.000000</td>\n",
       "      <td>1</td>\n",
       "      <td>0</td>\n",
       "      <td>4</td>\n",
       "    </tr>\n",
       "    <tr>\n",
       "      <th>...</th>\n",
       "      <td>...</td>\n",
       "      <td>...</td>\n",
       "      <td>...</td>\n",
       "      <td>...</td>\n",
       "      <td>...</td>\n",
       "      <td>...</td>\n",
       "      <td>...</td>\n",
       "      <td>...</td>\n",
       "      <td>...</td>\n",
       "      <td>...</td>\n",
       "      <td>...</td>\n",
       "      <td>...</td>\n",
       "      <td>...</td>\n",
       "      <td>...</td>\n",
       "      <td>...</td>\n",
       "      <td>...</td>\n",
       "      <td>...</td>\n",
       "    </tr>\n",
       "    <tr>\n",
       "      <th>87</th>\n",
       "      <td>Star Wars Imperial Assault</td>\n",
       "      <td>11.99</td>\n",
       "      <td>99.95</td>\n",
       "      <td>2014.0</td>\n",
       "      <td>2.0</td>\n",
       "      <td>5.0</td>\n",
       "      <td>90.0</td>\n",
       "      <td>240.0</td>\n",
       "      <td>13.0</td>\n",
       "      <td>244</td>\n",
       "      <td>3.796952</td>\n",
       "      <td>1</td>\n",
       "      <td>3.000000</td>\n",
       "      <td>2.000000</td>\n",
       "      <td>1</td>\n",
       "      <td>0</td>\n",
       "      <td>5</td>\n",
       "    </tr>\n",
       "    <tr>\n",
       "      <th>66</th>\n",
       "      <td>Gaia Project</td>\n",
       "      <td>75.99</td>\n",
       "      <td>99.95</td>\n",
       "      <td>2017.0</td>\n",
       "      <td>1.0</td>\n",
       "      <td>4.0</td>\n",
       "      <td>60.0</td>\n",
       "      <td>150.0</td>\n",
       "      <td>14.0</td>\n",
       "      <td>189</td>\n",
       "      <td>4.152593</td>\n",
       "      <td>3</td>\n",
       "      <td>4.000000</td>\n",
       "      <td>4.333333</td>\n",
       "      <td>1</td>\n",
       "      <td>0</td>\n",
       "      <td>3</td>\n",
       "    </tr>\n",
       "    <tr>\n",
       "      <th>56</th>\n",
       "      <td>Raiders of the North Sea</td>\n",
       "      <td>43.50</td>\n",
       "      <td>55.00</td>\n",
       "      <td>2015.0</td>\n",
       "      <td>2.0</td>\n",
       "      <td>4.0</td>\n",
       "      <td>60.0</td>\n",
       "      <td>120.0</td>\n",
       "      <td>12.0</td>\n",
       "      <td>295</td>\n",
       "      <td>3.915957</td>\n",
       "      <td>2</td>\n",
       "      <td>3.000000</td>\n",
       "      <td>3.000000</td>\n",
       "      <td>1</td>\n",
       "      <td>0</td>\n",
       "      <td>3</td>\n",
       "    </tr>\n",
       "    <tr>\n",
       "      <th>79</th>\n",
       "      <td>Paladins of the West Kingdom</td>\n",
       "      <td>36.52</td>\n",
       "      <td>55.00</td>\n",
       "      <td>2019.0</td>\n",
       "      <td>1.0</td>\n",
       "      <td>4.0</td>\n",
       "      <td>90.0</td>\n",
       "      <td>120.0</td>\n",
       "      <td>12.0</td>\n",
       "      <td>138</td>\n",
       "      <td>4.166286</td>\n",
       "      <td>5</td>\n",
       "      <td>4.000000</td>\n",
       "      <td>3.800000</td>\n",
       "      <td>1</td>\n",
       "      <td>0</td>\n",
       "      <td>3</td>\n",
       "    </tr>\n",
       "    <tr>\n",
       "      <th>92</th>\n",
       "      <td>Century: Spice Road</td>\n",
       "      <td>27.00</td>\n",
       "      <td>39.99</td>\n",
       "      <td>2017.0</td>\n",
       "      <td>2.0</td>\n",
       "      <td>5.0</td>\n",
       "      <td>30.0</td>\n",
       "      <td>45.0</td>\n",
       "      <td>8.0</td>\n",
       "      <td>341</td>\n",
       "      <td>3.604559</td>\n",
       "      <td>3</td>\n",
       "      <td>2.000000</td>\n",
       "      <td>3.000000</td>\n",
       "      <td>1</td>\n",
       "      <td>0</td>\n",
       "      <td>3</td>\n",
       "    </tr>\n",
       "  </tbody>\n",
       "</table>\n",
       "<p>76 rows × 17 columns</p>\n",
       "</div>"
      ],
      "text/plain": [
       "                                name  price   msrp  year_published  \\\n",
       "35                       Five Tribes  47.49  60.00          2014.0   \n",
       "54                   Sushi Go Party!  14.99  22.00          2016.0   \n",
       "11                         Codenames  12.81  19.95          2015.0   \n",
       "67                          Takenoko  39.06  49.99          2011.0   \n",
       "32  Clank! A Deck-Building Adventure  44.79  60.00          2012.0   \n",
       "..                               ...    ...    ...             ...   \n",
       "87        Star Wars Imperial Assault  11.99  99.95          2014.0   \n",
       "66                      Gaia Project  75.99  99.95          2017.0   \n",
       "56          Raiders of the North Sea  43.50  55.00          2015.0   \n",
       "79      Paladins of the West Kingdom  36.52  55.00          2019.0   \n",
       "92               Century: Spice Road  27.00  39.99          2017.0   \n",
       "\n",
       "    min_players  max_players  min_playtime  max_playtime  min_age  \\\n",
       "35          2.0          4.0          60.0          90.0     13.0   \n",
       "54          2.0          8.0          30.0          45.0      8.0   \n",
       "11          2.0          8.0          15.0          15.0     10.0   \n",
       "67          2.0          4.0          45.0          60.0     13.0   \n",
       "32          2.0          4.0          30.0          60.0     13.0   \n",
       "..          ...          ...           ...           ...      ...   \n",
       "87          2.0          5.0          90.0         240.0     13.0   \n",
       "66          1.0          4.0          60.0         150.0     14.0   \n",
       "56          2.0          4.0          60.0         120.0     12.0   \n",
       "79          1.0          4.0          90.0         120.0     12.0   \n",
       "92          2.0          5.0          30.0          45.0      8.0   \n",
       "\n",
       "    num_user_ratings  average_user_rating  num_user_complexity_votes  \\\n",
       "35               435             3.827832                          2   \n",
       "54               427             3.578785                          6   \n",
       "11               890             3.664894                         10   \n",
       "67               436             3.473755                          2   \n",
       "32               444             3.799500                          3   \n",
       "..               ...                  ...                        ...   \n",
       "87               244             3.796952                          1   \n",
       "66               189             4.152593                          3   \n",
       "56               295             3.915957                          2   \n",
       "79               138             4.166286                          5   \n",
       "92               341             3.604559                          3   \n",
       "\n",
       "    average_learning_complexity  average_strategy_complexity  rank type  \\\n",
       "35                     3.000000                     3.500000     1    0   \n",
       "54                     2.166667                     2.333333     1    0   \n",
       "11                     1.100000                     2.200000     1    0   \n",
       "67                     2.500000                     2.000000     1    0   \n",
       "32                     2.333333                     2.000000     1    0   \n",
       "..                          ...                          ...   ...  ...   \n",
       "87                     3.000000                     2.000000     1    0   \n",
       "66                     4.000000                     4.333333     1    0   \n",
       "56                     3.000000                     3.000000     1    0   \n",
       "79                     4.000000                     3.800000     1    0   \n",
       "92                     2.000000                     3.000000     1    0   \n",
       "\n",
       "    num_distributors  \n",
       "35                 4  \n",
       "54                 3  \n",
       "11                10  \n",
       "67                 3  \n",
       "32                 4  \n",
       "..               ...  \n",
       "87                 5  \n",
       "66                 3  \n",
       "56                 3  \n",
       "79                 3  \n",
       "92                 3  \n",
       "\n",
       "[76 rows x 17 columns]"
      ]
     },
     "execution_count": 107,
     "metadata": {},
     "output_type": "execute_result"
    }
   ],
   "source": [
    "train[train['rank']==1]"
   ]
  },
  {
   "cell_type": "markdown",
   "id": "57482105",
   "metadata": {},
   "source": [
    "<div class=\"alert alert-info\">\n",
    "    <header>\n",
    "    <h2>Exploration Summary</h2>\n",
    "    </header>\n",
    "    <dl>\n",
    "        <dt>No features were found to be significant of higher rated games other than number of distributors. This is interesting, because that means that regardless of the features of a board game they all have a chance to do well and be higher rated. There were a number of more popular mechanics for board games which can be used to increase the liklihood of a game being higher rated.</dt>\n",
    "    </dl>\n",
    "</div>"
   ]
  },
  {
   "cell_type": "code",
   "execution_count": 108,
   "id": "0521e854",
   "metadata": {},
   "outputs": [],
   "source": [
    "top=pd.read_csv('top_100_mechanics.csv')"
   ]
  },
  {
   "cell_type": "code",
   "execution_count": 109,
   "id": "cb52663a",
   "metadata": {},
   "outputs": [
    {
     "data": {
      "text/plain": [
       "(582, 1)"
      ]
     },
     "execution_count": 109,
     "metadata": {},
     "output_type": "execute_result"
    }
   ],
   "source": [
    "top.shape"
   ]
  },
  {
   "cell_type": "code",
   "execution_count": 110,
   "id": "6d65a6de",
   "metadata": {},
   "outputs": [],
   "source": [
    "lower=pd.read_csv('over_100_mechanics.csv')"
   ]
  },
  {
   "cell_type": "code",
   "execution_count": 111,
   "id": "64862cf0",
   "metadata": {},
   "outputs": [
    {
     "data": {
      "text/plain": [
       "(3673, 1)"
      ]
     },
     "execution_count": 111,
     "metadata": {},
     "output_type": "execute_result"
    }
   ],
   "source": [
    "lower.shape"
   ]
  },
  {
   "cell_type": "code",
   "execution_count": 112,
   "id": "3eb48283",
   "metadata": {},
   "outputs": [
    {
     "data": {
      "text/html": [
       "<div>\n",
       "<style scoped>\n",
       "    .dataframe tbody tr th:only-of-type {\n",
       "        vertical-align: middle;\n",
       "    }\n",
       "\n",
       "    .dataframe tbody tr th {\n",
       "        vertical-align: top;\n",
       "    }\n",
       "\n",
       "    .dataframe thead th {\n",
       "        text-align: right;\n",
       "    }\n",
       "</style>\n",
       "<table border=\"1\" class=\"dataframe\">\n",
       "  <thead>\n",
       "    <tr style=\"text-align: right;\">\n",
       "      <th></th>\n",
       "      <th>0</th>\n",
       "    </tr>\n",
       "    <tr>\n",
       "      <th>mechanics</th>\n",
       "      <th></th>\n",
       "    </tr>\n",
       "  </thead>\n",
       "  <tbody>\n",
       "    <tr>\n",
       "      <th>Hand Management</th>\n",
       "      <td>47</td>\n",
       "    </tr>\n",
       "    <tr>\n",
       "      <th>Set Collection</th>\n",
       "      <td>36</td>\n",
       "    </tr>\n",
       "    <tr>\n",
       "      <th>Drafting</th>\n",
       "      <td>24</td>\n",
       "    </tr>\n",
       "    <tr>\n",
       "      <th>Variable Player Powers</th>\n",
       "      <td>24</td>\n",
       "    </tr>\n",
       "    <tr>\n",
       "      <th>Dice Rolling</th>\n",
       "      <td>22</td>\n",
       "    </tr>\n",
       "    <tr>\n",
       "      <th>Worker Placement</th>\n",
       "      <td>20</td>\n",
       "    </tr>\n",
       "    <tr>\n",
       "      <th>Cooperative Play</th>\n",
       "      <td>19</td>\n",
       "    </tr>\n",
       "    <tr>\n",
       "      <th>Card Drafting</th>\n",
       "      <td>18</td>\n",
       "    </tr>\n",
       "    <tr>\n",
       "      <th>Solo / Solitaire Game</th>\n",
       "      <td>17</td>\n",
       "    </tr>\n",
       "    <tr>\n",
       "      <th>Tile Placement</th>\n",
       "      <td>17</td>\n",
       "    </tr>\n",
       "    <tr>\n",
       "      <th>Modular Board</th>\n",
       "      <td>16</td>\n",
       "    </tr>\n",
       "    <tr>\n",
       "      <th>Area Control</th>\n",
       "      <td>16</td>\n",
       "    </tr>\n",
       "    <tr>\n",
       "      <th>End Game Bonuses</th>\n",
       "      <td>12</td>\n",
       "    </tr>\n",
       "    <tr>\n",
       "      <th>Network and Route Building</th>\n",
       "      <td>12</td>\n",
       "    </tr>\n",
       "    <tr>\n",
       "      <th>Grid Movement</th>\n",
       "      <td>11</td>\n",
       "    </tr>\n",
       "    <tr>\n",
       "      <th>Engine Building</th>\n",
       "      <td>11</td>\n",
       "    </tr>\n",
       "    <tr>\n",
       "      <th>Deck Building</th>\n",
       "      <td>10</td>\n",
       "    </tr>\n",
       "    <tr>\n",
       "      <th>Simultaneous Play</th>\n",
       "      <td>10</td>\n",
       "    </tr>\n",
       "    <tr>\n",
       "      <th>Contracts</th>\n",
       "      <td>8</td>\n",
       "    </tr>\n",
       "    <tr>\n",
       "      <th>Point to Point Movement</th>\n",
       "      <td>8</td>\n",
       "    </tr>\n",
       "  </tbody>\n",
       "</table>\n",
       "</div>"
      ],
      "text/plain": [
       "                             0\n",
       "mechanics                     \n",
       "Hand Management             47\n",
       "Set Collection              36\n",
       "Drafting                    24\n",
       "Variable Player Powers      24\n",
       "Dice Rolling                22\n",
       "Worker Placement            20\n",
       "Cooperative Play            19\n",
       "Card Drafting               18\n",
       "Solo / Solitaire Game       17\n",
       "Tile Placement              17\n",
       "Modular Board               16\n",
       "Area Control                16\n",
       "End Game Bonuses            12\n",
       "Network and Route Building  12\n",
       "Grid Movement               11\n",
       "Engine Building             11\n",
       "Deck Building               10\n",
       "Simultaneous Play           10\n",
       "Contracts                    8\n",
       "Point to Point Movement      8"
      ]
     },
     "execution_count": 112,
     "metadata": {},
     "output_type": "execute_result"
    }
   ],
   "source": [
    "pd.DataFrame(top.value_counts()).head(20)"
   ]
  },
  {
   "cell_type": "code",
   "execution_count": 113,
   "id": "671f5278",
   "metadata": {},
   "outputs": [
    {
     "data": {
      "text/html": [
       "<div>\n",
       "<style scoped>\n",
       "    .dataframe tbody tr th:only-of-type {\n",
       "        vertical-align: middle;\n",
       "    }\n",
       "\n",
       "    .dataframe tbody tr th {\n",
       "        vertical-align: top;\n",
       "    }\n",
       "\n",
       "    .dataframe thead th {\n",
       "        text-align: right;\n",
       "    }\n",
       "</style>\n",
       "<table border=\"1\" class=\"dataframe\">\n",
       "  <thead>\n",
       "    <tr style=\"text-align: right;\">\n",
       "      <th></th>\n",
       "      <th>0</th>\n",
       "    </tr>\n",
       "    <tr>\n",
       "      <th>mechanics</th>\n",
       "      <th></th>\n",
       "    </tr>\n",
       "  </thead>\n",
       "  <tbody>\n",
       "    <tr>\n",
       "      <th>Hand Management</th>\n",
       "      <td>324</td>\n",
       "    </tr>\n",
       "    <tr>\n",
       "      <th>Dice Rolling</th>\n",
       "      <td>242</td>\n",
       "    </tr>\n",
       "    <tr>\n",
       "      <th>Variable Player Powers</th>\n",
       "      <td>233</td>\n",
       "    </tr>\n",
       "    <tr>\n",
       "      <th>Set Collection</th>\n",
       "      <td>211</td>\n",
       "    </tr>\n",
       "    <tr>\n",
       "      <th>Card Drafting</th>\n",
       "      <td>204</td>\n",
       "    </tr>\n",
       "    <tr>\n",
       "      <th>Tile Placement</th>\n",
       "      <td>129</td>\n",
       "    </tr>\n",
       "    <tr>\n",
       "      <th>Cooperative Play</th>\n",
       "      <td>125</td>\n",
       "    </tr>\n",
       "    <tr>\n",
       "      <th>Worker Placement</th>\n",
       "      <td>110</td>\n",
       "    </tr>\n",
       "    <tr>\n",
       "      <th>Modular Board</th>\n",
       "      <td>110</td>\n",
       "    </tr>\n",
       "    <tr>\n",
       "      <th>Area Control</th>\n",
       "      <td>104</td>\n",
       "    </tr>\n",
       "    <tr>\n",
       "      <th>Deck Building</th>\n",
       "      <td>78</td>\n",
       "    </tr>\n",
       "    <tr>\n",
       "      <th>Grid Movement</th>\n",
       "      <td>76</td>\n",
       "    </tr>\n",
       "    <tr>\n",
       "      <th>Area Majority/ Influence</th>\n",
       "      <td>75</td>\n",
       "    </tr>\n",
       "    <tr>\n",
       "      <th>Action Point Allowance System</th>\n",
       "      <td>68</td>\n",
       "    </tr>\n",
       "    <tr>\n",
       "      <th>Press Your Luck</th>\n",
       "      <td>65</td>\n",
       "    </tr>\n",
       "    <tr>\n",
       "      <th>Area Movement</th>\n",
       "      <td>60</td>\n",
       "    </tr>\n",
       "    <tr>\n",
       "      <th>Take That</th>\n",
       "      <td>60</td>\n",
       "    </tr>\n",
       "    <tr>\n",
       "      <th>Network and Route Building</th>\n",
       "      <td>58</td>\n",
       "    </tr>\n",
       "    <tr>\n",
       "      <th>Solo / Solitaire Game</th>\n",
       "      <td>55</td>\n",
       "    </tr>\n",
       "    <tr>\n",
       "      <th>Auction</th>\n",
       "      <td>51</td>\n",
       "    </tr>\n",
       "  </tbody>\n",
       "</table>\n",
       "</div>"
      ],
      "text/plain": [
       "                                 0\n",
       "mechanics                         \n",
       "Hand Management                324\n",
       "Dice Rolling                   242\n",
       "Variable Player Powers         233\n",
       "Set Collection                 211\n",
       "Card Drafting                  204\n",
       "Tile Placement                 129\n",
       "Cooperative Play               125\n",
       "Worker Placement               110\n",
       "Modular Board                  110\n",
       "Area Control                   104\n",
       "Deck Building                   78\n",
       "Grid Movement                   76\n",
       "Area Majority/ Influence        75\n",
       "Action Point Allowance System   68\n",
       "Press Your Luck                 65\n",
       "Area Movement                   60\n",
       "Take That                       60\n",
       "Network and Route Building      58\n",
       "Solo / Solitaire Game           55\n",
       "Auction                         51"
      ]
     },
     "execution_count": 113,
     "metadata": {},
     "output_type": "execute_result"
    }
   ],
   "source": [
    "pd.DataFrame(lower.value_counts()).head(20)"
   ]
  },
  {
   "cell_type": "markdown",
   "id": "93640081",
   "metadata": {},
   "source": [
    "## These are the top 20 mechanics for the top 100 and >100 games.\n",
    "Most of the mechanics are the same even if they are in slightly different order. However, high rated games have 'end game bonuses', 'drafting', 'engine building', 'Simultaneous play', 'contracts', and 'point to point movement' and lower rated games have 'area majority/influence', 'action point allowance system', 'press your luck', 'area movement', 'take that', and 'auction'  \n",
    "\n",
    "In an attempt to summarize this difference into words:  \n",
    "Higher rated games seem to favor and reward more skill based play instead of relying on luck and hindering other players. Higher rated games also seem to stay away from area movement and other area based playstyles like majority/influence; they prefer point to point and grid movement even though grid movement is shared between the two groups. These are the most notable differences with other minor differences."
   ]
  },
  {
   "cell_type": "markdown",
   "id": "3c8cac3b",
   "metadata": {},
   "source": [
    "# Use NLP to explore descriptions"
   ]
  },
  {
   "cell_type": "code",
   "execution_count": 162,
   "id": "a79f9d0e",
   "metadata": {},
   "outputs": [],
   "source": [
    "df=pd.read_csv('descriptions.csv')"
   ]
  },
  {
   "cell_type": "code",
   "execution_count": 163,
   "id": "91e9a245",
   "metadata": {},
   "outputs": [
    {
     "data": {
      "text/html": [
       "<div>\n",
       "<style scoped>\n",
       "    .dataframe tbody tr th:only-of-type {\n",
       "        vertical-align: middle;\n",
       "    }\n",
       "\n",
       "    .dataframe tbody tr th {\n",
       "        vertical-align: top;\n",
       "    }\n",
       "\n",
       "    .dataframe thead th {\n",
       "        text-align: right;\n",
       "    }\n",
       "</style>\n",
       "<table border=\"1\" class=\"dataframe\">\n",
       "  <thead>\n",
       "    <tr style=\"text-align: right;\">\n",
       "      <th></th>\n",
       "      <th>name</th>\n",
       "      <th>description_preview</th>\n",
       "      <th>rank</th>\n",
       "    </tr>\n",
       "  </thead>\n",
       "  <tbody>\n",
       "    <tr>\n",
       "      <th>0</th>\n",
       "      <td>Root</td>\n",
       "      <td>Find adventure in this marvelous asymmetric g...</td>\n",
       "      <td>1</td>\n",
       "    </tr>\n",
       "    <tr>\n",
       "      <th>1</th>\n",
       "      <td>Scythe</td>\n",
       "      <td>Scythe  gives players almost complete contro...</td>\n",
       "      <td>2</td>\n",
       "    </tr>\n",
       "    <tr>\n",
       "      <th>2</th>\n",
       "      <td>Wingspan</td>\n",
       "      <td>Wingspan   is a competitive, medium-weight,...</td>\n",
       "      <td>3</td>\n",
       "    </tr>\n",
       "    <tr>\n",
       "      <th>3</th>\n",
       "      <td>Gloomhaven</td>\n",
       "      <td>Gloomhaven  is a game of Euro-inspired tacti...</td>\n",
       "      <td>4</td>\n",
       "    </tr>\n",
       "    <tr>\n",
       "      <th>4</th>\n",
       "      <td>Terraforming Mars</td>\n",
       "      <td>In the 2400s, mankind begins to terraform the...</td>\n",
       "      <td>5</td>\n",
       "    </tr>\n",
       "  </tbody>\n",
       "</table>\n",
       "</div>"
      ],
      "text/plain": [
       "                name                                description_preview  rank\n",
       "0               Root   Find adventure in this marvelous asymmetric g...     1\n",
       "1             Scythe    Scythe  gives players almost complete contro...     2\n",
       "2           Wingspan     Wingspan   is a competitive, medium-weight,...     3\n",
       "3         Gloomhaven    Gloomhaven  is a game of Euro-inspired tacti...     4\n",
       "4  Terraforming Mars   In the 2400s, mankind begins to terraform the...     5"
      ]
     },
     "execution_count": 163,
     "metadata": {},
     "output_type": "execute_result"
    }
   ],
   "source": [
    "df.head()"
   ]
  },
  {
   "cell_type": "code",
   "execution_count": 164,
   "id": "4d0fb0cc",
   "metadata": {},
   "outputs": [],
   "source": [
    "import nltk\n",
    "from nltk.tokenize.toktok import ToktokTokenizer\n",
    "from nltk.corpus import stopwords\n",
    "import unicodedata\n",
    "import re"
   ]
  },
  {
   "cell_type": "code",
   "execution_count": 165,
   "id": "c0c6e896",
   "metadata": {},
   "outputs": [],
   "source": [
    "des = df['description_preview']"
   ]
  },
  {
   "cell_type": "code",
   "execution_count": 166,
   "id": "489d7326",
   "metadata": {},
   "outputs": [
    {
     "data": {
      "text/plain": [
       "0     Find adventure in this marvelous asymmetric g...\n",
       "1      Scythe  gives players almost complete contro...\n",
       "2       Wingspan   is a competitive, medium-weight,...\n",
       "3      Gloomhaven  is a game of Euro-inspired tacti...\n",
       "4     In the 2400s, mankind begins to terraform the...\n",
       "Name: description_preview, dtype: object"
      ]
     },
     "execution_count": 166,
     "metadata": {},
     "output_type": "execute_result"
    }
   ],
   "source": [
    "des.head()"
   ]
  },
  {
   "cell_type": "code",
   "execution_count": 167,
   "id": "beb78298",
   "metadata": {},
   "outputs": [
    {
     "name": "stderr",
     "output_type": "stream",
     "text": [
      "/var/folders/qf/t052sdrx70bffjpl89m9_hz00000gn/T/ipykernel_33974/29304116.py:2: SettingWithCopyWarning: \n",
      "A value is trying to be set on a copy of a slice from a DataFrame\n",
      "\n",
      "See the caveats in the documentation: https://pandas.pydata.org/pandas-docs/stable/user_guide/indexing.html#returning-a-view-versus-a-copy\n",
      "  des[d]=des[d].lower()\n"
     ]
    }
   ],
   "source": [
    "for d in range(0, 978):\n",
    "    des[d]=des[d].lower()"
   ]
  },
  {
   "cell_type": "code",
   "execution_count": 168,
   "id": "f8b4c04d",
   "metadata": {},
   "outputs": [
    {
     "data": {
      "text/plain": [
       "0     find adventure in this marvelous asymmetric g...\n",
       "1      scythe  gives players almost complete contro...\n",
       "2       wingspan   is a competitive, medium-weight,...\n",
       "3      gloomhaven  is a game of euro-inspired tacti...\n",
       "4     in the 2400s, mankind begins to terraform the...\n",
       "Name: description_preview, dtype: object"
      ]
     },
     "execution_count": 168,
     "metadata": {},
     "output_type": "execute_result"
    }
   ],
   "source": [
    "des.head()"
   ]
  },
  {
   "cell_type": "code",
   "execution_count": 169,
   "id": "4ce5f3bc",
   "metadata": {},
   "outputs": [
    {
     "name": "stderr",
     "output_type": "stream",
     "text": [
      "/var/folders/qf/t052sdrx70bffjpl89m9_hz00000gn/T/ipykernel_33974/1262549740.py:2: SettingWithCopyWarning: \n",
      "A value is trying to be set on a copy of a slice from a DataFrame\n",
      "\n",
      "See the caveats in the documentation: https://pandas.pydata.org/pandas-docs/stable/user_guide/indexing.html#returning-a-view-versus-a-copy\n",
      "  des[d] = unicodedata.normalize('NFKD', des[d]).encode('ascii', 'ignore').decode('utf-8', 'ignore')\n"
     ]
    }
   ],
   "source": [
    "for d in range(0,978):\n",
    "    des[d] = unicodedata.normalize('NFKD', des[d]).encode('ascii', 'ignore').decode('utf-8', 'ignore')"
   ]
  },
  {
   "cell_type": "code",
   "execution_count": 170,
   "id": "9fd99d9f",
   "metadata": {},
   "outputs": [
    {
     "data": {
      "text/plain": [
       "0     find adventure in this marvelous asymmetric g...\n",
       "1      scythe  gives players almost complete contro...\n",
       "2       wingspan   is a competitive, medium-weight,...\n",
       "3      gloomhaven  is a game of euro-inspired tacti...\n",
       "4     in the 2400s, mankind begins to terraform the...\n",
       "Name: description_preview, dtype: object"
      ]
     },
     "execution_count": 170,
     "metadata": {},
     "output_type": "execute_result"
    }
   ],
   "source": [
    "des.head()"
   ]
  },
  {
   "cell_type": "code",
   "execution_count": 181,
   "id": "3cdae9fa",
   "metadata": {},
   "outputs": [
    {
     "name": "stderr",
     "output_type": "stream",
     "text": [
      "/var/folders/qf/t052sdrx70bffjpl89m9_hz00000gn/T/ipykernel_33974/2915885779.py:2: SettingWithCopyWarning: \n",
      "A value is trying to be set on a copy of a slice from a DataFrame\n",
      "\n",
      "See the caveats in the documentation: https://pandas.pydata.org/pandas-docs/stable/user_guide/indexing.html#returning-a-view-versus-a-copy\n",
      "  des[d]=des[d].replace('-',' ')\n"
     ]
    }
   ],
   "source": [
    "for d in range(0,978):\n",
    "    des[d]=des[d].replace('-',' ')"
   ]
  },
  {
   "cell_type": "code",
   "execution_count": 183,
   "id": "a7192ebf",
   "metadata": {},
   "outputs": [
    {
     "data": {
      "text/plain": [
       "0     find adventure in this marvelous asymmetric g...\n",
       "1      scythe  gives players almost complete contro...\n",
       "2       wingspan   is a competitive, medium weight,...\n",
       "3      gloomhaven  is a game of euro inspired tacti...\n",
       "4     in the 2400s, mankind begins to terraform the...\n",
       "Name: description_preview, dtype: object"
      ]
     },
     "execution_count": 183,
     "metadata": {},
     "output_type": "execute_result"
    }
   ],
   "source": [
    "des.head()"
   ]
  },
  {
   "cell_type": "code",
   "execution_count": 184,
   "id": "d7c70767",
   "metadata": {},
   "outputs": [
    {
     "name": "stderr",
     "output_type": "stream",
     "text": [
      "/var/folders/qf/t052sdrx70bffjpl89m9_hz00000gn/T/ipykernel_33974/395194755.py:2: SettingWithCopyWarning: \n",
      "A value is trying to be set on a copy of a slice from a DataFrame\n",
      "\n",
      "See the caveats in the documentation: https://pandas.pydata.org/pandas-docs/stable/user_guide/indexing.html#returning-a-view-versus-a-copy\n",
      "  des[d] = re.sub(r\"[^a-z0-9'\\s]\", '', des[d])\n"
     ]
    }
   ],
   "source": [
    "for d in range(0,978):\n",
    "    des[d] = re.sub(r\"[^a-z0-9'\\s]\", '', des[d])"
   ]
  },
  {
   "cell_type": "code",
   "execution_count": 185,
   "id": "95f246a3",
   "metadata": {},
   "outputs": [
    {
     "data": {
      "text/plain": [
       "0     find adventure in this marvelous asymmetric g...\n",
       "1      scythe  gives players almost complete contro...\n",
       "2       wingspan   is a competitive medium weight c...\n",
       "3      gloomhaven  is a game of euro inspired tacti...\n",
       "4     in the 2400s mankind begins to terraform the ...\n",
       "Name: description_preview, dtype: object"
      ]
     },
     "execution_count": 185,
     "metadata": {},
     "output_type": "execute_result"
    }
   ],
   "source": [
    "des.head()"
   ]
  },
  {
   "cell_type": "code",
   "execution_count": 189,
   "id": "bb44e91a",
   "metadata": {},
   "outputs": [
    {
     "name": "stderr",
     "output_type": "stream",
     "text": [
      "/var/folders/qf/t052sdrx70bffjpl89m9_hz00000gn/T/ipykernel_33974/717906340.py:4: SettingWithCopyWarning: \n",
      "A value is trying to be set on a copy of a slice from a DataFrame\n",
      "\n",
      "See the caveats in the documentation: https://pandas.pydata.org/pandas-docs/stable/user_guide/indexing.html#returning-a-view-versus-a-copy\n",
      "  des[d]=tokenizer.tokenize(des[d], return_str=True)\n"
     ]
    }
   ],
   "source": [
    "tokenizer = nltk.tokenize.ToktokTokenizer()\n",
    "\n",
    "for d in range(0,978):\n",
    "    des[d]=tokenizer.tokenize(des[d], return_str=True)"
   ]
  },
  {
   "cell_type": "code",
   "execution_count": 190,
   "id": "6e396107",
   "metadata": {},
   "outputs": [
    {
     "data": {
      "text/plain": [
       "0    find adventure in this marvelous asymmetric ga...\n",
       "1    scythe gives players almost complete control o...\n",
       "2    wingspan is a competitive medium weight card d...\n",
       "3    gloomhaven is a game of euro inspired tactical...\n",
       "4    in the 2400s mankind begins to terraform the p...\n",
       "Name: description_preview, dtype: object"
      ]
     },
     "execution_count": 190,
     "metadata": {},
     "output_type": "execute_result"
    }
   ],
   "source": [
    "des.head()"
   ]
  },
  {
   "cell_type": "code",
   "execution_count": null,
   "id": "239e5ac8",
   "metadata": {},
   "outputs": [],
   "source": []
  }
 ],
 "metadata": {
  "kernelspec": {
   "display_name": "Python 3 (ipykernel)",
   "language": "python",
   "name": "python3"
  },
  "language_info": {
   "codemirror_mode": {
    "name": "ipython",
    "version": 3
   },
   "file_extension": ".py",
   "mimetype": "text/x-python",
   "name": "python",
   "nbconvert_exporter": "python",
   "pygments_lexer": "ipython3",
   "version": "3.9.13"
  }
 },
 "nbformat": 4,
 "nbformat_minor": 5
}
