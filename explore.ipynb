{
 "cells": [
  {
   "cell_type": "code",
   "execution_count": 1,
   "id": "ef866bae",
   "metadata": {},
   "outputs": [],
   "source": [
    "import numpy as np\n",
    "import pandas as pd\n",
    "import prepare as prep\n",
    "import matplotlib.pyplot as plt\n",
    "import seaborn as sns\n",
    "import scipy.stats as stats\n",
    "import explore as ex"
   ]
  },
  {
   "cell_type": "code",
   "execution_count": 2,
   "id": "9df956b2",
   "metadata": {},
   "outputs": [],
   "source": [
    "df=prep.explore_df()"
   ]
  },
  {
   "cell_type": "code",
   "execution_count": 3,
   "id": "3887bd4a",
   "metadata": {},
   "outputs": [
    {
     "data": {
      "text/html": [
       "<div>\n",
       "<style scoped>\n",
       "    .dataframe tbody tr th:only-of-type {\n",
       "        vertical-align: middle;\n",
       "    }\n",
       "\n",
       "    .dataframe tbody tr th {\n",
       "        vertical-align: top;\n",
       "    }\n",
       "\n",
       "    .dataframe thead th {\n",
       "        text-align: right;\n",
       "    }\n",
       "</style>\n",
       "<table border=\"1\" class=\"dataframe\">\n",
       "  <thead>\n",
       "    <tr style=\"text-align: right;\">\n",
       "      <th></th>\n",
       "      <th>id</th>\n",
       "      <th>name</th>\n",
       "      <th>price</th>\n",
       "      <th>msrp</th>\n",
       "      <th>year_published</th>\n",
       "      <th>min_players</th>\n",
       "      <th>max_players</th>\n",
       "      <th>min_playtime</th>\n",
       "      <th>max_playtime</th>\n",
       "      <th>min_age</th>\n",
       "      <th>num_user_ratings</th>\n",
       "      <th>average_user_rating</th>\n",
       "      <th>num_user_complexity_votes</th>\n",
       "      <th>average_learning_complexity</th>\n",
       "      <th>average_strategy_complexity</th>\n",
       "      <th>rank</th>\n",
       "      <th>type</th>\n",
       "      <th>num_distributors</th>\n",
       "    </tr>\n",
       "  </thead>\n",
       "  <tbody>\n",
       "    <tr>\n",
       "      <th>0</th>\n",
       "      <td>TAAifFP590</td>\n",
       "      <td>Root</td>\n",
       "      <td>45.00</td>\n",
       "      <td>60.00</td>\n",
       "      <td>2018.0</td>\n",
       "      <td>2.0</td>\n",
       "      <td>4.0</td>\n",
       "      <td>60.0</td>\n",
       "      <td>90.0</td>\n",
       "      <td>10.0</td>\n",
       "      <td>412</td>\n",
       "      <td>4.059395</td>\n",
       "      <td>11</td>\n",
       "      <td>3.818182</td>\n",
       "      <td>3.636364</td>\n",
       "      <td>1</td>\n",
       "      <td>game</td>\n",
       "      <td>6</td>\n",
       "    </tr>\n",
       "    <tr>\n",
       "      <th>1</th>\n",
       "      <td>yqR4PtpO8X</td>\n",
       "      <td>Scythe</td>\n",
       "      <td>54.39</td>\n",
       "      <td>90.00</td>\n",
       "      <td>2016.0</td>\n",
       "      <td>1.0</td>\n",
       "      <td>5.0</td>\n",
       "      <td>90.0</td>\n",
       "      <td>120.0</td>\n",
       "      <td>14.0</td>\n",
       "      <td>763</td>\n",
       "      <td>4.213439</td>\n",
       "      <td>17</td>\n",
       "      <td>3.117647</td>\n",
       "      <td>3.235294</td>\n",
       "      <td>2</td>\n",
       "      <td>game</td>\n",
       "      <td>9</td>\n",
       "    </tr>\n",
       "    <tr>\n",
       "      <th>2</th>\n",
       "      <td>5H5JS0KLzK</td>\n",
       "      <td>Wingspan</td>\n",
       "      <td>50.00</td>\n",
       "      <td>60.00</td>\n",
       "      <td>2019.0</td>\n",
       "      <td>1.0</td>\n",
       "      <td>5.0</td>\n",
       "      <td>40.0</td>\n",
       "      <td>70.0</td>\n",
       "      <td>10.0</td>\n",
       "      <td>589</td>\n",
       "      <td>4.162919</td>\n",
       "      <td>12</td>\n",
       "      <td>2.500000</td>\n",
       "      <td>2.833333</td>\n",
       "      <td>3</td>\n",
       "      <td>game</td>\n",
       "      <td>11</td>\n",
       "    </tr>\n",
       "    <tr>\n",
       "      <th>3</th>\n",
       "      <td>RLlDWHh7hR</td>\n",
       "      <td>Gloomhaven</td>\n",
       "      <td>105.97</td>\n",
       "      <td>140.00</td>\n",
       "      <td>2017.0</td>\n",
       "      <td>1.0</td>\n",
       "      <td>4.0</td>\n",
       "      <td>60.0</td>\n",
       "      <td>150.0</td>\n",
       "      <td>12.0</td>\n",
       "      <td>491</td>\n",
       "      <td>4.351614</td>\n",
       "      <td>10</td>\n",
       "      <td>3.900000</td>\n",
       "      <td>3.600000</td>\n",
       "      <td>4</td>\n",
       "      <td>game</td>\n",
       "      <td>5</td>\n",
       "    </tr>\n",
       "    <tr>\n",
       "      <th>4</th>\n",
       "      <td>fDn9rQjH9O</td>\n",
       "      <td>Terraforming Mars</td>\n",
       "      <td>51.99</td>\n",
       "      <td>69.95</td>\n",
       "      <td>2016.0</td>\n",
       "      <td>1.0</td>\n",
       "      <td>5.0</td>\n",
       "      <td>90.0</td>\n",
       "      <td>120.0</td>\n",
       "      <td>12.0</td>\n",
       "      <td>713</td>\n",
       "      <td>4.146214</td>\n",
       "      <td>10</td>\n",
       "      <td>3.000000</td>\n",
       "      <td>3.300000</td>\n",
       "      <td>5</td>\n",
       "      <td>game</td>\n",
       "      <td>3</td>\n",
       "    </tr>\n",
       "  </tbody>\n",
       "</table>\n",
       "</div>"
      ],
      "text/plain": [
       "           id               name   price    msrp  year_published  min_players  \\\n",
       "0  TAAifFP590               Root   45.00   60.00          2018.0          2.0   \n",
       "1  yqR4PtpO8X             Scythe   54.39   90.00          2016.0          1.0   \n",
       "2  5H5JS0KLzK           Wingspan   50.00   60.00          2019.0          1.0   \n",
       "3  RLlDWHh7hR         Gloomhaven  105.97  140.00          2017.0          1.0   \n",
       "4  fDn9rQjH9O  Terraforming Mars   51.99   69.95          2016.0          1.0   \n",
       "\n",
       "   max_players  min_playtime  max_playtime  min_age  num_user_ratings  \\\n",
       "0          4.0          60.0          90.0     10.0               412   \n",
       "1          5.0          90.0         120.0     14.0               763   \n",
       "2          5.0          40.0          70.0     10.0               589   \n",
       "3          4.0          60.0         150.0     12.0               491   \n",
       "4          5.0          90.0         120.0     12.0               713   \n",
       "\n",
       "   average_user_rating  num_user_complexity_votes  \\\n",
       "0             4.059395                         11   \n",
       "1             4.213439                         17   \n",
       "2             4.162919                         12   \n",
       "3             4.351614                         10   \n",
       "4             4.146214                         10   \n",
       "\n",
       "   average_learning_complexity  average_strategy_complexity  rank  type  \\\n",
       "0                     3.818182                     3.636364     1  game   \n",
       "1                     3.117647                     3.235294     2  game   \n",
       "2                     2.500000                     2.833333     3  game   \n",
       "3                     3.900000                     3.600000     4  game   \n",
       "4                     3.000000                     3.300000     5  game   \n",
       "\n",
       "   num_distributors  \n",
       "0                 6  \n",
       "1                 9  \n",
       "2                11  \n",
       "3                 5  \n",
       "4                 3  "
      ]
     },
     "execution_count": 3,
     "metadata": {},
     "output_type": "execute_result"
    }
   ],
   "source": [
    "df.head()"
   ]
  },
  {
   "cell_type": "code",
   "execution_count": 4,
   "id": "d54b2305",
   "metadata": {},
   "outputs": [],
   "source": [
    "m=pd.read_csv('mechanic_df')"
   ]
  },
  {
   "cell_type": "code",
   "execution_count": 5,
   "id": "836f287f",
   "metadata": {},
   "outputs": [
    {
     "data": {
      "text/html": [
       "<div>\n",
       "<style scoped>\n",
       "    .dataframe tbody tr th:only-of-type {\n",
       "        vertical-align: middle;\n",
       "    }\n",
       "\n",
       "    .dataframe tbody tr th {\n",
       "        vertical-align: top;\n",
       "    }\n",
       "\n",
       "    .dataframe thead th {\n",
       "        text-align: right;\n",
       "    }\n",
       "</style>\n",
       "<table border=\"1\" class=\"dataframe\">\n",
       "  <thead>\n",
       "    <tr style=\"text-align: right;\">\n",
       "      <th></th>\n",
       "      <th>mechanics</th>\n",
       "    </tr>\n",
       "  </thead>\n",
       "  <tbody>\n",
       "    <tr>\n",
       "      <th>0</th>\n",
       "      <td>Action / Movement Programming</td>\n",
       "    </tr>\n",
       "    <tr>\n",
       "      <th>1</th>\n",
       "      <td>Action Queue</td>\n",
       "    </tr>\n",
       "    <tr>\n",
       "      <th>2</th>\n",
       "      <td>Area Control</td>\n",
       "    </tr>\n",
       "    <tr>\n",
       "      <th>3</th>\n",
       "      <td>Dice Rolling</td>\n",
       "    </tr>\n",
       "    <tr>\n",
       "      <th>4</th>\n",
       "      <td>Engine Building</td>\n",
       "    </tr>\n",
       "  </tbody>\n",
       "</table>\n",
       "</div>"
      ],
      "text/plain": [
       "                       mechanics\n",
       "0  Action / Movement Programming\n",
       "1                   Action Queue\n",
       "2                   Area Control\n",
       "3                   Dice Rolling\n",
       "4                Engine Building"
      ]
     },
     "execution_count": 5,
     "metadata": {},
     "output_type": "execute_result"
    }
   ],
   "source": [
    "m.head()"
   ]
  },
  {
   "cell_type": "markdown",
   "id": "f55d988f",
   "metadata": {},
   "source": [
    "# first look at the mechanics to see which mechanics are most popular"
   ]
  },
  {
   "cell_type": "code",
   "execution_count": 6,
   "id": "f2b376a9",
   "metadata": {
    "scrolled": false
   },
   "outputs": [
    {
     "data": {
      "text/plain": [
       "mechanics                    \n",
       "Hand Management                  375\n",
       "Dice Rolling                     262\n",
       "Variable Player Powers           257\n",
       "Set Collection                   247\n",
       "Card Drafting                    228\n",
       "Cooperative Play                 145\n",
       "Tile Placement                   143\n",
       "Area Control                     124\n",
       "Worker Placement                 123\n",
       "Modular Board                    121\n",
       "Grid Movement                     89\n",
       "Deck Building                     87\n",
       "Press Your Luck                   75\n",
       "Network and Route Building        73\n",
       "Area Majority/ Influence          72\n",
       "Solo / Solitaire Game             71\n",
       "Action Point Allowance System     69\n",
       "Take That                         66\n",
       "Area Movement                     66\n",
       "Point to Point Movement           62\n",
       "dtype: int64"
      ]
     },
     "execution_count": 6,
     "metadata": {},
     "output_type": "execute_result"
    }
   ],
   "source": [
    "m.value_counts().head(20)"
   ]
  },
  {
   "cell_type": "markdown",
   "id": "3c69f4ac",
   "metadata": {},
   "source": [
    "Hand managment and dice rolling seem obvious to be the top two as they are necessary to play and progress a game. Cards are often a staple in games, so set collection and card drafting are also not suprising. However the drafting aspect is interesting. Many game have a random drawing mechanic compared to a draft mechanic to the cards.  \n",
    "\n",
    "I suprises me that area control is rated so high but area movement and area majority/influence are much lower. Unless only one of these latter two are associated with area control games. Which if you combined all \"area\" based mechanics, it would be one of the highest mechanics."
   ]
  },
  {
   "cell_type": "code",
   "execution_count": 7,
   "id": "c923baca",
   "metadata": {},
   "outputs": [
    {
     "data": {
      "text/plain": [
       "(935,)"
      ]
     },
     "execution_count": 7,
     "metadata": {},
     "output_type": "execute_result"
    }
   ],
   "source": [
    "df['rank'].value_counts().shape"
   ]
  },
  {
   "cell_type": "code",
   "execution_count": 8,
   "id": "bc2b68b0",
   "metadata": {},
   "outputs": [
    {
     "data": {
      "text/plain": [
       "(995, 18)"
      ]
     },
     "execution_count": 8,
     "metadata": {},
     "output_type": "execute_result"
    }
   ],
   "source": [
    "df.shape"
   ]
  },
  {
   "cell_type": "markdown",
   "id": "180941b8",
   "metadata": {},
   "source": [
    "## top 100 games (~10%) will be considered 'high rated'"
   ]
  },
  {
   "cell_type": "code",
   "execution_count": 9,
   "id": "f93cfdcb",
   "metadata": {},
   "outputs": [
    {
     "data": {
      "text/plain": [
       "dtype('int64')"
      ]
     },
     "execution_count": 9,
     "metadata": {},
     "output_type": "execute_result"
    }
   ],
   "source": [
    "df['rank'].dtype"
   ]
  },
  {
   "cell_type": "code",
   "execution_count": 10,
   "id": "dee9a3da",
   "metadata": {},
   "outputs": [],
   "source": [
    "for i, r in df.iterrows():\n",
    "    if r['rank'] <= 100:\n",
    "        df.loc[i, 'rank'] = 1\n",
    "    else:\n",
    "        df.loc[i, 'rank'] = 0"
   ]
  },
  {
   "cell_type": "code",
   "execution_count": 11,
   "id": "e614c2c7",
   "metadata": {},
   "outputs": [
    {
     "data": {
      "text/plain": [
       "0    892\n",
       "1    103\n",
       "Name: rank, dtype: int64"
      ]
     },
     "execution_count": 11,
     "metadata": {},
     "output_type": "execute_result"
    }
   ],
   "source": [
    "df['rank'].value_counts()"
   ]
  },
  {
   "cell_type": "code",
   "execution_count": 12,
   "id": "05202040",
   "metadata": {
    "scrolled": true
   },
   "outputs": [
    {
     "data": {
      "text/html": [
       "<div>\n",
       "<style scoped>\n",
       "    .dataframe tbody tr th:only-of-type {\n",
       "        vertical-align: middle;\n",
       "    }\n",
       "\n",
       "    .dataframe tbody tr th {\n",
       "        vertical-align: top;\n",
       "    }\n",
       "\n",
       "    .dataframe thead th {\n",
       "        text-align: right;\n",
       "    }\n",
       "</style>\n",
       "<table border=\"1\" class=\"dataframe\">\n",
       "  <thead>\n",
       "    <tr style=\"text-align: right;\">\n",
       "      <th></th>\n",
       "      <th>id</th>\n",
       "      <th>name</th>\n",
       "      <th>price</th>\n",
       "      <th>msrp</th>\n",
       "      <th>year_published</th>\n",
       "      <th>min_players</th>\n",
       "      <th>max_players</th>\n",
       "      <th>min_playtime</th>\n",
       "      <th>max_playtime</th>\n",
       "      <th>min_age</th>\n",
       "      <th>num_user_ratings</th>\n",
       "      <th>average_user_rating</th>\n",
       "      <th>num_user_complexity_votes</th>\n",
       "      <th>average_learning_complexity</th>\n",
       "      <th>average_strategy_complexity</th>\n",
       "      <th>rank</th>\n",
       "      <th>type</th>\n",
       "      <th>num_distributors</th>\n",
       "    </tr>\n",
       "  </thead>\n",
       "  <tbody>\n",
       "    <tr>\n",
       "      <th>0</th>\n",
       "      <td>TAAifFP590</td>\n",
       "      <td>Root</td>\n",
       "      <td>45.00</td>\n",
       "      <td>60.00</td>\n",
       "      <td>2018.0</td>\n",
       "      <td>2.0</td>\n",
       "      <td>4.0</td>\n",
       "      <td>60.0</td>\n",
       "      <td>90.0</td>\n",
       "      <td>10.0</td>\n",
       "      <td>412</td>\n",
       "      <td>4.059395</td>\n",
       "      <td>11</td>\n",
       "      <td>3.818182</td>\n",
       "      <td>3.636364</td>\n",
       "      <td>1</td>\n",
       "      <td>game</td>\n",
       "      <td>6</td>\n",
       "    </tr>\n",
       "    <tr>\n",
       "      <th>1</th>\n",
       "      <td>yqR4PtpO8X</td>\n",
       "      <td>Scythe</td>\n",
       "      <td>54.39</td>\n",
       "      <td>90.00</td>\n",
       "      <td>2016.0</td>\n",
       "      <td>1.0</td>\n",
       "      <td>5.0</td>\n",
       "      <td>90.0</td>\n",
       "      <td>120.0</td>\n",
       "      <td>14.0</td>\n",
       "      <td>763</td>\n",
       "      <td>4.213439</td>\n",
       "      <td>17</td>\n",
       "      <td>3.117647</td>\n",
       "      <td>3.235294</td>\n",
       "      <td>1</td>\n",
       "      <td>game</td>\n",
       "      <td>9</td>\n",
       "    </tr>\n",
       "    <tr>\n",
       "      <th>2</th>\n",
       "      <td>5H5JS0KLzK</td>\n",
       "      <td>Wingspan</td>\n",
       "      <td>50.00</td>\n",
       "      <td>60.00</td>\n",
       "      <td>2019.0</td>\n",
       "      <td>1.0</td>\n",
       "      <td>5.0</td>\n",
       "      <td>40.0</td>\n",
       "      <td>70.0</td>\n",
       "      <td>10.0</td>\n",
       "      <td>589</td>\n",
       "      <td>4.162919</td>\n",
       "      <td>12</td>\n",
       "      <td>2.500000</td>\n",
       "      <td>2.833333</td>\n",
       "      <td>1</td>\n",
       "      <td>game</td>\n",
       "      <td>11</td>\n",
       "    </tr>\n",
       "    <tr>\n",
       "      <th>3</th>\n",
       "      <td>RLlDWHh7hR</td>\n",
       "      <td>Gloomhaven</td>\n",
       "      <td>105.97</td>\n",
       "      <td>140.00</td>\n",
       "      <td>2017.0</td>\n",
       "      <td>1.0</td>\n",
       "      <td>4.0</td>\n",
       "      <td>60.0</td>\n",
       "      <td>150.0</td>\n",
       "      <td>12.0</td>\n",
       "      <td>491</td>\n",
       "      <td>4.351614</td>\n",
       "      <td>10</td>\n",
       "      <td>3.900000</td>\n",
       "      <td>3.600000</td>\n",
       "      <td>1</td>\n",
       "      <td>game</td>\n",
       "      <td>5</td>\n",
       "    </tr>\n",
       "    <tr>\n",
       "      <th>4</th>\n",
       "      <td>fDn9rQjH9O</td>\n",
       "      <td>Terraforming Mars</td>\n",
       "      <td>51.99</td>\n",
       "      <td>69.95</td>\n",
       "      <td>2016.0</td>\n",
       "      <td>1.0</td>\n",
       "      <td>5.0</td>\n",
       "      <td>90.0</td>\n",
       "      <td>120.0</td>\n",
       "      <td>12.0</td>\n",
       "      <td>713</td>\n",
       "      <td>4.146214</td>\n",
       "      <td>10</td>\n",
       "      <td>3.000000</td>\n",
       "      <td>3.300000</td>\n",
       "      <td>1</td>\n",
       "      <td>game</td>\n",
       "      <td>3</td>\n",
       "    </tr>\n",
       "  </tbody>\n",
       "</table>\n",
       "</div>"
      ],
      "text/plain": [
       "           id               name   price    msrp  year_published  min_players  \\\n",
       "0  TAAifFP590               Root   45.00   60.00          2018.0          2.0   \n",
       "1  yqR4PtpO8X             Scythe   54.39   90.00          2016.0          1.0   \n",
       "2  5H5JS0KLzK           Wingspan   50.00   60.00          2019.0          1.0   \n",
       "3  RLlDWHh7hR         Gloomhaven  105.97  140.00          2017.0          1.0   \n",
       "4  fDn9rQjH9O  Terraforming Mars   51.99   69.95          2016.0          1.0   \n",
       "\n",
       "   max_players  min_playtime  max_playtime  min_age  num_user_ratings  \\\n",
       "0          4.0          60.0          90.0     10.0               412   \n",
       "1          5.0          90.0         120.0     14.0               763   \n",
       "2          5.0          40.0          70.0     10.0               589   \n",
       "3          4.0          60.0         150.0     12.0               491   \n",
       "4          5.0          90.0         120.0     12.0               713   \n",
       "\n",
       "   average_user_rating  num_user_complexity_votes  \\\n",
       "0             4.059395                         11   \n",
       "1             4.213439                         17   \n",
       "2             4.162919                         12   \n",
       "3             4.351614                         10   \n",
       "4             4.146214                         10   \n",
       "\n",
       "   average_learning_complexity  average_strategy_complexity  rank  type  \\\n",
       "0                     3.818182                     3.636364     1  game   \n",
       "1                     3.117647                     3.235294     1  game   \n",
       "2                     2.500000                     2.833333     1  game   \n",
       "3                     3.900000                     3.600000     1  game   \n",
       "4                     3.000000                     3.300000     1  game   \n",
       "\n",
       "   num_distributors  \n",
       "0                 6  \n",
       "1                 9  \n",
       "2                11  \n",
       "3                 5  \n",
       "4                 3  "
      ]
     },
     "execution_count": 12,
     "metadata": {},
     "output_type": "execute_result"
    }
   ],
   "source": [
    "df.head(5)"
   ]
  },
  {
   "cell_type": "code",
   "execution_count": 13,
   "id": "5adcd573",
   "metadata": {
    "scrolled": true
   },
   "outputs": [
    {
     "data": {
      "text/html": [
       "<div>\n",
       "<style scoped>\n",
       "    .dataframe tbody tr th:only-of-type {\n",
       "        vertical-align: middle;\n",
       "    }\n",
       "\n",
       "    .dataframe tbody tr th {\n",
       "        vertical-align: top;\n",
       "    }\n",
       "\n",
       "    .dataframe thead th {\n",
       "        text-align: right;\n",
       "    }\n",
       "</style>\n",
       "<table border=\"1\" class=\"dataframe\">\n",
       "  <thead>\n",
       "    <tr style=\"text-align: right;\">\n",
       "      <th></th>\n",
       "      <th>id</th>\n",
       "      <th>name</th>\n",
       "      <th>price</th>\n",
       "      <th>msrp</th>\n",
       "      <th>year_published</th>\n",
       "      <th>min_players</th>\n",
       "      <th>max_players</th>\n",
       "      <th>min_playtime</th>\n",
       "      <th>max_playtime</th>\n",
       "      <th>min_age</th>\n",
       "      <th>num_user_ratings</th>\n",
       "      <th>average_user_rating</th>\n",
       "      <th>num_user_complexity_votes</th>\n",
       "      <th>average_learning_complexity</th>\n",
       "      <th>average_strategy_complexity</th>\n",
       "      <th>rank</th>\n",
       "      <th>type</th>\n",
       "      <th>num_distributors</th>\n",
       "    </tr>\n",
       "  </thead>\n",
       "  <tbody>\n",
       "    <tr>\n",
       "      <th>995</th>\n",
       "      <td>utvG6nvnq5</td>\n",
       "      <td>Snake Oil</td>\n",
       "      <td>19.99</td>\n",
       "      <td>19.95</td>\n",
       "      <td>2010.0</td>\n",
       "      <td>3.0</td>\n",
       "      <td>10.0</td>\n",
       "      <td>20.0</td>\n",
       "      <td>30.0</td>\n",
       "      <td>10.0</td>\n",
       "      <td>67</td>\n",
       "      <td>3.130597</td>\n",
       "      <td>0</td>\n",
       "      <td>0.0</td>\n",
       "      <td>0.0</td>\n",
       "      <td>0</td>\n",
       "      <td>game</td>\n",
       "      <td>0</td>\n",
       "    </tr>\n",
       "    <tr>\n",
       "      <th>996</th>\n",
       "      <td>2LJTEmU5LY</td>\n",
       "      <td>Bob Ross the Art of Chill</td>\n",
       "      <td>24.46</td>\n",
       "      <td>31.99</td>\n",
       "      <td>2017.0</td>\n",
       "      <td>2.0</td>\n",
       "      <td>4.0</td>\n",
       "      <td>30.0</td>\n",
       "      <td>30.0</td>\n",
       "      <td>12.0</td>\n",
       "      <td>64</td>\n",
       "      <td>3.370312</td>\n",
       "      <td>1</td>\n",
       "      <td>3.0</td>\n",
       "      <td>2.0</td>\n",
       "      <td>0</td>\n",
       "      <td>game</td>\n",
       "      <td>0</td>\n",
       "    </tr>\n",
       "    <tr>\n",
       "      <th>997</th>\n",
       "      <td>JBQPZrO0yC</td>\n",
       "      <td>A Study in Emerald</td>\n",
       "      <td>149.95</td>\n",
       "      <td>0.00</td>\n",
       "      <td>2013.0</td>\n",
       "      <td>2.0</td>\n",
       "      <td>5.0</td>\n",
       "      <td>90.0</td>\n",
       "      <td>90.0</td>\n",
       "      <td>13.0</td>\n",
       "      <td>30</td>\n",
       "      <td>3.433333</td>\n",
       "      <td>0</td>\n",
       "      <td>0.0</td>\n",
       "      <td>0.0</td>\n",
       "      <td>0</td>\n",
       "      <td>game</td>\n",
       "      <td>0</td>\n",
       "    </tr>\n",
       "    <tr>\n",
       "      <th>998</th>\n",
       "      <td>kz2pqBlpT4</td>\n",
       "      <td>Mansions of Madness</td>\n",
       "      <td>5.89</td>\n",
       "      <td>99.95</td>\n",
       "      <td>2011.0</td>\n",
       "      <td>2.0</td>\n",
       "      <td>5.0</td>\n",
       "      <td>120.0</td>\n",
       "      <td>180.0</td>\n",
       "      <td>13.0</td>\n",
       "      <td>68</td>\n",
       "      <td>3.252941</td>\n",
       "      <td>0</td>\n",
       "      <td>0.0</td>\n",
       "      <td>0.0</td>\n",
       "      <td>0</td>\n",
       "      <td>game</td>\n",
       "      <td>4</td>\n",
       "    </tr>\n",
       "    <tr>\n",
       "      <th>999</th>\n",
       "      <td>kgs5t2m5kv</td>\n",
       "      <td>Kokoro: Avenue of the Kodama</td>\n",
       "      <td>13.39</td>\n",
       "      <td>19.99</td>\n",
       "      <td>2017.0</td>\n",
       "      <td>2.0</td>\n",
       "      <td>8.0</td>\n",
       "      <td>30.0</td>\n",
       "      <td>45.0</td>\n",
       "      <td>14.0</td>\n",
       "      <td>58</td>\n",
       "      <td>3.312069</td>\n",
       "      <td>0</td>\n",
       "      <td>0.0</td>\n",
       "      <td>0.0</td>\n",
       "      <td>0</td>\n",
       "      <td>game</td>\n",
       "      <td>0</td>\n",
       "    </tr>\n",
       "  </tbody>\n",
       "</table>\n",
       "</div>"
      ],
      "text/plain": [
       "             id                          name   price   msrp  year_published  \\\n",
       "995  utvG6nvnq5                     Snake Oil   19.99  19.95          2010.0   \n",
       "996  2LJTEmU5LY     Bob Ross the Art of Chill   24.46  31.99          2017.0   \n",
       "997  JBQPZrO0yC            A Study in Emerald  149.95   0.00          2013.0   \n",
       "998  kz2pqBlpT4           Mansions of Madness    5.89  99.95          2011.0   \n",
       "999  kgs5t2m5kv  Kokoro: Avenue of the Kodama   13.39  19.99          2017.0   \n",
       "\n",
       "     min_players  max_players  min_playtime  max_playtime  min_age  \\\n",
       "995          3.0         10.0          20.0          30.0     10.0   \n",
       "996          2.0          4.0          30.0          30.0     12.0   \n",
       "997          2.0          5.0          90.0          90.0     13.0   \n",
       "998          2.0          5.0         120.0         180.0     13.0   \n",
       "999          2.0          8.0          30.0          45.0     14.0   \n",
       "\n",
       "     num_user_ratings  average_user_rating  num_user_complexity_votes  \\\n",
       "995                67             3.130597                          0   \n",
       "996                64             3.370312                          1   \n",
       "997                30             3.433333                          0   \n",
       "998                68             3.252941                          0   \n",
       "999                58             3.312069                          0   \n",
       "\n",
       "     average_learning_complexity  average_strategy_complexity  rank  type  \\\n",
       "995                          0.0                          0.0     0  game   \n",
       "996                          3.0                          2.0     0  game   \n",
       "997                          0.0                          0.0     0  game   \n",
       "998                          0.0                          0.0     0  game   \n",
       "999                          0.0                          0.0     0  game   \n",
       "\n",
       "     num_distributors  \n",
       "995                 0  \n",
       "996                 0  \n",
       "997                 0  \n",
       "998                 4  \n",
       "999                 0  "
      ]
     },
     "execution_count": 13,
     "metadata": {},
     "output_type": "execute_result"
    }
   ],
   "source": [
    "df.tail(5)"
   ]
  },
  {
   "cell_type": "markdown",
   "id": "4e5af38c",
   "metadata": {},
   "source": [
    "## Encode the 'type' column"
   ]
  },
  {
   "cell_type": "code",
   "execution_count": 14,
   "id": "8e0691d5",
   "metadata": {
    "scrolled": true
   },
   "outputs": [
    {
     "data": {
      "text/plain": [
       "game         875\n",
       "expansion    119\n",
       "accessory      1\n",
       "Name: type, dtype: int64"
      ]
     },
     "execution_count": 14,
     "metadata": {},
     "output_type": "execute_result"
    }
   ],
   "source": [
    "df['type'].value_counts()"
   ]
  },
  {
   "cell_type": "code",
   "execution_count": 15,
   "id": "b0f6a2c0",
   "metadata": {},
   "outputs": [],
   "source": [
    "for i, t in df.iterrows():\n",
    "    if t['type'] == 'game':\n",
    "        df.loc[i, 'type'] = 0\n",
    "    elif t['type'] == 'expansion':\n",
    "        df.loc[i, 'type'] = 1\n",
    "    else:\n",
    "        df.loc[i, 'type'] = 2"
   ]
  },
  {
   "cell_type": "code",
   "execution_count": 16,
   "id": "a04cb90d",
   "metadata": {
    "scrolled": true
   },
   "outputs": [
    {
     "data": {
      "text/plain": [
       "0    875\n",
       "1    119\n",
       "2      1\n",
       "Name: type, dtype: int64"
      ]
     },
     "execution_count": 16,
     "metadata": {},
     "output_type": "execute_result"
    }
   ],
   "source": [
    "df['type'].value_counts()"
   ]
  },
  {
   "cell_type": "code",
   "execution_count": 17,
   "id": "abe51df1",
   "metadata": {},
   "outputs": [],
   "source": [
    "df.drop(columns=['id'], inplace=True)"
   ]
  },
  {
   "cell_type": "markdown",
   "id": "f70b68ac",
   "metadata": {},
   "source": [
    "## Split data"
   ]
  },
  {
   "cell_type": "code",
   "execution_count": 18,
   "id": "b65a42aa",
   "metadata": {},
   "outputs": [],
   "source": [
    "train, val, test= ex.tts(df, 'rank')"
   ]
  },
  {
   "cell_type": "code",
   "execution_count": 19,
   "id": "9301aecc",
   "metadata": {},
   "outputs": [
    {
     "data": {
      "text/plain": [
       "((716, 17), (179, 17), (100, 17))"
      ]
     },
     "execution_count": 19,
     "metadata": {},
     "output_type": "execute_result"
    }
   ],
   "source": [
    "train.shape, val.shape, test.shape"
   ]
  },
  {
   "cell_type": "markdown",
   "id": "3faef445",
   "metadata": {},
   "source": [
    "<div class=\"alert alert-info\">\n",
    "    <header>\n",
    "    <h2>Exploration Question 1:</h2>\n",
    "    </header>\n",
    "    <dl>\n",
    "        <dt>Is the price of a high rated game significantlly higher than other games?</dt>\n",
    "        <dd>- $H_0$: There is no difference in the average price of higher rated games and other games</dd>\n",
    "        <dd>- $H_a$: The average price of high rated games is significantlly higher than other games.</dd>\n",
    "    </dl>\n",
    "</div>"
   ]
  },
  {
   "cell_type": "code",
   "execution_count": 20,
   "id": "3f42e029",
   "metadata": {},
   "outputs": [],
   "source": [
    "alpha=.05"
   ]
  },
  {
   "cell_type": "code",
   "execution_count": 21,
   "id": "dbc86110",
   "metadata": {},
   "outputs": [],
   "source": [
    "hirank=train[train['rank']==1]['price']"
   ]
  },
  {
   "cell_type": "code",
   "execution_count": 22,
   "id": "6c2eceba",
   "metadata": {},
   "outputs": [
    {
     "data": {
      "text/plain": [
       "1085.8798928421054"
      ]
     },
     "execution_count": 22,
     "metadata": {},
     "output_type": "execute_result"
    }
   ],
   "source": [
    "train[train['rank']==1]['price'].var()"
   ]
  },
  {
   "cell_type": "code",
   "execution_count": 23,
   "id": "aa6e63ee",
   "metadata": {},
   "outputs": [
    {
     "data": {
      "text/plain": [
       "<AxesSubplot:xlabel='price', ylabel='Count'>"
      ]
     },
     "execution_count": 23,
     "metadata": {},
     "output_type": "execute_result"
    },
    {
     "data": {
      "image/png": "[encoded data removed]",
      "text/plain": [
       "<Figure size 640x480 with 1 Axes>"
      ]
     },
     "metadata": {},
     "output_type": "display_data"
    }
   ],
   "source": [
    "sns.histplot(hirank)"
   ]
  },
  {
   "cell_type": "code",
   "execution_count": 24,
   "id": "459d7267",
   "metadata": {},
   "outputs": [
    {
     "data": {
      "text/plain": [
       "42.54710526315787"
      ]
     },
     "execution_count": 24,
     "metadata": {},
     "output_type": "execute_result"
    }
   ],
   "source": [
    "hirank.mean()"
   ]
  },
  {
   "cell_type": "code",
   "execution_count": 25,
   "id": "3b72f0e7",
   "metadata": {},
   "outputs": [],
   "source": [
    "lowrank=train[train['rank']==0]['price']"
   ]
  },
  {
   "cell_type": "code",
   "execution_count": 26,
   "id": "b54c9633",
   "metadata": {},
   "outputs": [
    {
     "data": {
      "text/plain": [
       "8125.636093228698"
      ]
     },
     "execution_count": 26,
     "metadata": {},
     "output_type": "execute_result"
    }
   ],
   "source": [
    "train[train['rank']==0]['price'].var()"
   ]
  },
  {
   "cell_type": "code",
   "execution_count": 27,
   "id": "11383948",
   "metadata": {},
   "outputs": [
    {
     "data": {
      "text/plain": [
       "<AxesSubplot:xlabel='price', ylabel='Count'>"
      ]
     },
     "execution_count": 27,
     "metadata": {},
     "output_type": "execute_result"
    },
    {
     "data": {
      "image/png": "[encoded data removed]",
      "text/plain": [
       "<Figure size 640x480 with 1 Axes>"
      ]
     },
     "metadata": {},
     "output_type": "display_data"
    }
   ],
   "source": [
    "sns.histplot(lowrank)"
   ]
  },
  {
   "cell_type": "code",
   "execution_count": 28,
   "id": "adf5d8fa",
   "metadata": {},
   "outputs": [
    {
     "data": {
      "text/plain": [
       "56.44161552500016"
      ]
     },
     "execution_count": 28,
     "metadata": {},
     "output_type": "execute_result"
    }
   ],
   "source": [
    "lowrank.mean()"
   ]
  },
  {
   "cell_type": "code",
   "execution_count": 29,
   "id": "4d6ea6ed",
   "metadata": {
    "scrolled": true
   },
   "outputs": [
    {
     "data": {
      "text/plain": [
       "Ttest_indResult(statistic=-2.674782496465062, pvalue=0.9960091240750775)"
      ]
     },
     "execution_count": 29,
     "metadata": {},
     "output_type": "execute_result"
    }
   ],
   "source": [
    "stats.ttest_ind(hirank, lowrank, alternative='greater', equal_var=False)"
   ]
  },
  {
   "cell_type": "code",
   "execution_count": 30,
   "id": "8ee785dc",
   "metadata": {},
   "outputs": [
    {
     "data": {
      "text/plain": [
       "Ttest_indResult(statistic=-2.674782496465062, pvalue=0.003990875924922544)"
      ]
     },
     "execution_count": 30,
     "metadata": {},
     "output_type": "execute_result"
    }
   ],
   "source": [
    "stats.ttest_ind(hirank, lowrank, alternative='less', equal_var=False)"
   ]
  },
  {
   "cell_type": "markdown",
   "id": "1cbd593f",
   "metadata": {},
   "source": [
    "* pvalue indicates that high rated games have a significantlly lower price than other games\n",
    "* this actually is the opposite result of the initial question\n",
    "* mean price difference is ~14$"
   ]
  },
  {
   "cell_type": "markdown",
   "id": "b15e75af",
   "metadata": {},
   "source": [
    "<div class=\"alert alert-info\">\n",
    "    <header>\n",
    "    <h2>Exploration Question 2:</h2>\n",
    "    </header>\n",
    "    <dl>\n",
    "        <dt>Is the msrp of a high rated game significantlly higher than other games?</dt>\n",
    "        <dd>- $H_0$: There is no difference in the average msrp of higher rated games and other games</dd>\n",
    "        <dd>- $H_a$: The average msrp of high rated games is significantlly higher than other games.</dd>\n",
    "    </dl>\n",
    "</div>"
   ]
  },
  {
   "cell_type": "code",
   "execution_count": 31,
   "id": "7484b040",
   "metadata": {},
   "outputs": [],
   "source": [
    "hirank=train[train['rank']==1]['msrp']"
   ]
  },
  {
   "cell_type": "code",
   "execution_count": 32,
   "id": "b5999800",
   "metadata": {},
   "outputs": [
    {
     "data": {
      "text/plain": [
       "634.5115428070175"
      ]
     },
     "execution_count": 32,
     "metadata": {},
     "output_type": "execute_result"
    }
   ],
   "source": [
    "hirank.var()"
   ]
  },
  {
   "cell_type": "code",
   "execution_count": 33,
   "id": "fb0b7144",
   "metadata": {},
   "outputs": [
    {
     "data": {
      "text/plain": [
       "<AxesSubplot:xlabel='msrp', ylabel='Count'>"
      ]
     },
     "execution_count": 33,
     "metadata": {},
     "output_type": "execute_result"
    },
    {
     "data": {
      "image/png": "[encoded data removed]",
      "text/plain": [
       "<Figure size 640x480 with 1 Axes>"
      ]
     },
     "metadata": {},
     "output_type": "display_data"
    }
   ],
   "source": [
    "sns.histplot(hirank)"
   ]
  },
  {
   "cell_type": "code",
   "execution_count": 34,
   "id": "d9c1069e",
   "metadata": {},
   "outputs": [],
   "source": [
    "lowrank=train[train['rank']==0]['msrp']"
   ]
  },
  {
   "cell_type": "code",
   "execution_count": 35,
   "id": "6060836f",
   "metadata": {},
   "outputs": [
    {
     "data": {
      "text/plain": [
       "1194.1851720647492"
      ]
     },
     "execution_count": 35,
     "metadata": {},
     "output_type": "execute_result"
    }
   ],
   "source": [
    "lowrank.var()"
   ]
  },
  {
   "cell_type": "code",
   "execution_count": 36,
   "id": "e94c3d69",
   "metadata": {},
   "outputs": [
    {
     "data": {
      "text/plain": [
       "<AxesSubplot:xlabel='msrp', ylabel='Count'>"
      ]
     },
     "execution_count": 36,
     "metadata": {},
     "output_type": "execute_result"
    },
    {
     "data": {
      "image/png": "[encoded data removed]",
      "text/plain": [
       "<Figure size 640x480 with 1 Axes>"
      ]
     },
     "metadata": {},
     "output_type": "display_data"
    }
   ],
   "source": [
    "sns.histplot(lowrank)"
   ]
  },
  {
   "cell_type": "code",
   "execution_count": 37,
   "id": "f0d8443d",
   "metadata": {},
   "outputs": [
    {
     "data": {
      "text/plain": [
       "Ttest_indResult(statistic=1.3911842656628044, pvalue=0.0834682122710838)"
      ]
     },
     "execution_count": 37,
     "metadata": {},
     "output_type": "execute_result"
    }
   ],
   "source": [
    "stats.ttest_ind(hirank, lowrank, alternative='greater', equal_var=False)"
   ]
  },
  {
   "cell_type": "markdown",
   "id": "2166c895",
   "metadata": {},
   "source": [
    "* pvalue is not lower than the alpha\n",
    "* overall msrp is not a good indicator of a top rated game"
   ]
  },
  {
   "cell_type": "code",
   "execution_count": 40,
   "id": "e4c96056",
   "metadata": {},
   "outputs": [
    {
     "data": {
      "text/html": [
       "<div>\n",
       "<style scoped>\n",
       "    .dataframe tbody tr th:only-of-type {\n",
       "        vertical-align: middle;\n",
       "    }\n",
       "\n",
       "    .dataframe tbody tr th {\n",
       "        vertical-align: top;\n",
       "    }\n",
       "\n",
       "    .dataframe thead th {\n",
       "        text-align: right;\n",
       "    }\n",
       "</style>\n",
       "<table border=\"1\" class=\"dataframe\">\n",
       "  <thead>\n",
       "    <tr style=\"text-align: right;\">\n",
       "      <th></th>\n",
       "      <th>name</th>\n",
       "      <th>price</th>\n",
       "      <th>msrp</th>\n",
       "      <th>year_published</th>\n",
       "      <th>min_players</th>\n",
       "      <th>max_players</th>\n",
       "      <th>min_playtime</th>\n",
       "      <th>max_playtime</th>\n",
       "      <th>min_age</th>\n",
       "      <th>num_user_ratings</th>\n",
       "      <th>average_user_rating</th>\n",
       "      <th>num_user_complexity_votes</th>\n",
       "      <th>average_learning_complexity</th>\n",
       "      <th>average_strategy_complexity</th>\n",
       "      <th>rank</th>\n",
       "      <th>type</th>\n",
       "      <th>num_distributors</th>\n",
       "    </tr>\n",
       "  </thead>\n",
       "  <tbody>\n",
       "    <tr>\n",
       "      <th>386</th>\n",
       "      <td>Bruges</td>\n",
       "      <td>45.456444</td>\n",
       "      <td>41.49</td>\n",
       "      <td>2013.0</td>\n",
       "      <td>2.0</td>\n",
       "      <td>4.0</td>\n",
       "      <td>60.0</td>\n",
       "      <td>75.0</td>\n",
       "      <td>10.0</td>\n",
       "      <td>139</td>\n",
       "      <td>3.498201</td>\n",
       "      <td>0</td>\n",
       "      <td>0.0</td>\n",
       "      <td>0.0</td>\n",
       "      <td>0</td>\n",
       "      <td>0</td>\n",
       "      <td>0</td>\n",
       "    </tr>\n",
       "    <tr>\n",
       "      <th>623</th>\n",
       "      <td>Atlantis Rising (second edition)</td>\n",
       "      <td>48.000000</td>\n",
       "      <td>65.00</td>\n",
       "      <td>2022.0</td>\n",
       "      <td>1.0</td>\n",
       "      <td>4.0</td>\n",
       "      <td>45.0</td>\n",
       "      <td>90.0</td>\n",
       "      <td>10.0</td>\n",
       "      <td>34</td>\n",
       "      <td>3.959559</td>\n",
       "      <td>0</td>\n",
       "      <td>0.0</td>\n",
       "      <td>0.0</td>\n",
       "      <td>0</td>\n",
       "      <td>0</td>\n",
       "      <td>0</td>\n",
       "    </tr>\n",
       "    <tr>\n",
       "      <th>781</th>\n",
       "      <td>Bus</td>\n",
       "      <td>235.400000</td>\n",
       "      <td>89.99</td>\n",
       "      <td>1999.0</td>\n",
       "      <td>3.0</td>\n",
       "      <td>5.0</td>\n",
       "      <td>120.0</td>\n",
       "      <td>120.0</td>\n",
       "      <td>14.0</td>\n",
       "      <td>40</td>\n",
       "      <td>3.743750</td>\n",
       "      <td>0</td>\n",
       "      <td>0.0</td>\n",
       "      <td>0.0</td>\n",
       "      <td>0</td>\n",
       "      <td>0</td>\n",
       "      <td>1</td>\n",
       "    </tr>\n",
       "    <tr>\n",
       "      <th>105</th>\n",
       "      <td>Bohnanza</td>\n",
       "      <td>28.000000</td>\n",
       "      <td>19.95</td>\n",
       "      <td>1997.0</td>\n",
       "      <td>2.0</td>\n",
       "      <td>7.0</td>\n",
       "      <td>45.0</td>\n",
       "      <td>60.0</td>\n",
       "      <td>13.0</td>\n",
       "      <td>371</td>\n",
       "      <td>3.426649</td>\n",
       "      <td>2</td>\n",
       "      <td>2.0</td>\n",
       "      <td>2.5</td>\n",
       "      <td>0</td>\n",
       "      <td>0</td>\n",
       "      <td>4</td>\n",
       "    </tr>\n",
       "    <tr>\n",
       "      <th>808</th>\n",
       "      <td>Flip Ships</td>\n",
       "      <td>43.824000</td>\n",
       "      <td>40.00</td>\n",
       "      <td>2017.0</td>\n",
       "      <td>1.0</td>\n",
       "      <td>4.0</td>\n",
       "      <td>30.0</td>\n",
       "      <td>45.0</td>\n",
       "      <td>8.0</td>\n",
       "      <td>54</td>\n",
       "      <td>3.479847</td>\n",
       "      <td>0</td>\n",
       "      <td>0.0</td>\n",
       "      <td>0.0</td>\n",
       "      <td>0</td>\n",
       "      <td>0</td>\n",
       "      <td>0</td>\n",
       "    </tr>\n",
       "  </tbody>\n",
       "</table>\n",
       "</div>"
      ],
      "text/plain": [
       "                                 name       price   msrp  year_published  \\\n",
       "386                            Bruges   45.456444  41.49          2013.0   \n",
       "623  Atlantis Rising (second edition)   48.000000  65.00          2022.0   \n",
       "781                               Bus  235.400000  89.99          1999.0   \n",
       "105                          Bohnanza   28.000000  19.95          1997.0   \n",
       "808                        Flip Ships   43.824000  40.00          2017.0   \n",
       "\n",
       "     min_players  max_players  min_playtime  max_playtime  min_age  \\\n",
       "386          2.0          4.0          60.0          75.0     10.0   \n",
       "623          1.0          4.0          45.0          90.0     10.0   \n",
       "781          3.0          5.0         120.0         120.0     14.0   \n",
       "105          2.0          7.0          45.0          60.0     13.0   \n",
       "808          1.0          4.0          30.0          45.0      8.0   \n",
       "\n",
       "     num_user_ratings  average_user_rating  num_user_complexity_votes  \\\n",
       "386               139             3.498201                          0   \n",
       "623                34             3.959559                          0   \n",
       "781                40             3.743750                          0   \n",
       "105               371             3.426649                          2   \n",
       "808                54             3.479847                          0   \n",
       "\n",
       "     average_learning_complexity  average_strategy_complexity  rank type  \\\n",
       "386                          0.0                          0.0     0    0   \n",
       "623                          0.0                          0.0     0    0   \n",
       "781                          0.0                          0.0     0    0   \n",
       "105                          2.0                          2.5     0    0   \n",
       "808                          0.0                          0.0     0    0   \n",
       "\n",
       "     num_distributors  \n",
       "386                 0  \n",
       "623                 0  \n",
       "781                 1  \n",
       "105                 4  \n",
       "808                 0  "
      ]
     },
     "execution_count": 40,
     "metadata": {},
     "output_type": "execute_result"
    }
   ],
   "source": [
    "train.head()"
   ]
  },
  {
   "cell_type": "markdown",
   "id": "11d455cc",
   "metadata": {},
   "source": [
    "<div class=\"alert alert-info\">\n",
    "    <header>\n",
    "    <h2>Exploration Question 3:</h2>\n",
    "    </header>\n",
    "    <dl>\n",
    "        <dt>Is the average user rating of a high rated game significantlly higher than other games?</dt>\n",
    "        <dd>- $H_0$: There is no difference in the average user rating of higher rated games and other games</dd>\n",
    "        <dd>- $H_a$: The average user rating of high rated games is significantlly higher than other games.</dd>\n",
    "    </dl>\n",
    "</div>"
   ]
  },
  {
   "cell_type": "code",
   "execution_count": 42,
   "id": "6cd98ed4",
   "metadata": {},
   "outputs": [],
   "source": [
    "hirank=train[train['rank']==1]['average_user_rating']"
   ]
  },
  {
   "cell_type": "code",
   "execution_count": 43,
   "id": "6d3c0733",
   "metadata": {},
   "outputs": [
    {
     "data": {
      "text/plain": [
       "0.0631914901300298"
      ]
     },
     "execution_count": 43,
     "metadata": {},
     "output_type": "execute_result"
    }
   ],
   "source": [
    "hirank.var()"
   ]
  },
  {
   "cell_type": "code",
   "execution_count": 44,
   "id": "815cbfe1",
   "metadata": {},
   "outputs": [
    {
     "data": {
      "text/plain": [
       "<AxesSubplot:xlabel='average_user_rating', ylabel='Count'>"
      ]
     },
     "execution_count": 44,
     "metadata": {},
     "output_type": "execute_result"
    },
    {
     "data": {
      "image/png": "[encoded data removed]",
      "text/plain": [
       "<Figure size 640x480 with 1 Axes>"
      ]
     },
     "metadata": {},
     "output_type": "display_data"
    }
   ],
   "source": [
    "sns.histplot(hirank)"
   ]
  },
  {
   "cell_type": "code",
   "execution_count": 45,
   "id": "232f280d",
   "metadata": {},
   "outputs": [],
   "source": [
    "lowrank= train[train['rank']==0]['average_user_rating']"
   ]
  },
  {
   "cell_type": "code",
   "execution_count": 46,
   "id": "a8fbc2d0",
   "metadata": {},
   "outputs": [
    {
     "data": {
      "text/plain": [
       "0.09776831335440073"
      ]
     },
     "execution_count": 46,
     "metadata": {},
     "output_type": "execute_result"
    }
   ],
   "source": [
    "lowrank.var()"
   ]
  },
  {
   "cell_type": "code",
   "execution_count": 47,
   "id": "23118fee",
   "metadata": {},
   "outputs": [
    {
     "data": {
      "text/plain": [
       "<AxesSubplot:xlabel='average_user_rating', ylabel='Count'>"
      ]
     },
     "execution_count": 47,
     "metadata": {},
     "output_type": "execute_result"
    },
    {
     "data": {
      "image/png": "[encoded data removed]",
      "text/plain": [
       "<Figure size 640x480 with 1 Axes>"
      ]
     },
     "metadata": {},
     "output_type": "display_data"
    }
   ],
   "source": [
    "sns.histplot(lowrank)"
   ]
  },
  {
   "cell_type": "code",
   "execution_count": 48,
   "id": "be1e76a7",
   "metadata": {},
   "outputs": [
    {
     "data": {
      "text/plain": [
       "Ttest_indResult(statistic=8.37120932004523, pvalue=1.3589589718655607e-13)"
      ]
     },
     "execution_count": 48,
     "metadata": {},
     "output_type": "execute_result"
    }
   ],
   "source": [
    "stats.ttest_ind(hirank, lowrank, alternative='greater', equal_var=False)"
   ]
  },
  {
   "cell_type": "code",
   "execution_count": 49,
   "id": "140f3f40",
   "metadata": {},
   "outputs": [
    {
     "data": {
      "text/plain": [
       "(3.829409758058103, 3.5667844994787146)"
      ]
     },
     "execution_count": 49,
     "metadata": {},
     "output_type": "execute_result"
    }
   ],
   "source": [
    "hirank.mean(), lowrank.mean()"
   ]
  },
  {
   "cell_type": "markdown",
   "id": "82054697",
   "metadata": {},
   "source": [
    "* the pvalue is lower than the alpha so we can reject the null hypothesis\n",
    "* even though the pvalue indicates significance, the difference in the averages is only ~0.3 which is not very much\n",
    "* this also can not be taken to modeling, because you won't know the average user rating until after the game is made. The model will aim to tell if a game will reach a high rank before it is released."
   ]
  },
  {
   "cell_type": "markdown",
   "id": "1e1ec008",
   "metadata": {},
   "source": [
    "<div class=\"alert alert-info\">\n",
    "    <header>\n",
    "    <h2>Exploration Question 4:</h2>\n",
    "    </header>\n",
    "    <dl>\n",
    "        <dt>Is the min_players of a high rated game significantlly higher than other games?</dt>\n",
    "        <dd>- $H_0$: There is no difference in the average min_players of higher rated games and other games</dd>\n",
    "        <dd>- $H_a$: The average min_players of high rated games is significantlly higher than other games.</dd>\n",
    "    </dl>\n",
    "</div>"
   ]
  },
  {
   "cell_type": "code",
   "execution_count": 53,
   "id": "ed55ccbb",
   "metadata": {},
   "outputs": [],
   "source": [
    "hirank=train[train['rank']==1]['min_players']"
   ]
  },
  {
   "cell_type": "code",
   "execution_count": 54,
   "id": "113e71fd",
   "metadata": {},
   "outputs": [
    {
     "data": {
      "text/plain": [
       "0.2856140350877192"
      ]
     },
     "execution_count": 54,
     "metadata": {},
     "output_type": "execute_result"
    }
   ],
   "source": [
    "hirank.var()"
   ]
  },
  {
   "cell_type": "code",
   "execution_count": 55,
   "id": "810bf5e8",
   "metadata": {},
   "outputs": [
    {
     "data": {
      "text/plain": [
       "<AxesSubplot:xlabel='min_players', ylabel='Count'>"
      ]
     },
     "execution_count": 55,
     "metadata": {},
     "output_type": "execute_result"
    },
    {
     "data": {
      "image/png": "[encoded data removed]",
      "text/plain": [
       "<Figure size 640x480 with 1 Axes>"
      ]
     },
     "metadata": {},
     "output_type": "display_data"
    }
   ],
   "source": [
    "sns.histplot(hirank)"
   ]
  },
  {
   "cell_type": "code",
   "execution_count": 58,
   "id": "45f78c1d",
   "metadata": {},
   "outputs": [],
   "source": [
    "lowrank=train[train['rank']==0]['min_players']"
   ]
  },
  {
   "cell_type": "code",
   "execution_count": 59,
   "id": "d5a5a216",
   "metadata": {},
   "outputs": [
    {
     "data": {
      "text/plain": [
       "0.53012275039124"
      ]
     },
     "execution_count": 59,
     "metadata": {},
     "output_type": "execute_result"
    }
   ],
   "source": [
    "lowrank.var()"
   ]
  },
  {
   "cell_type": "code",
   "execution_count": 61,
   "id": "32f36031",
   "metadata": {},
   "outputs": [
    {
     "data": {
      "text/plain": [
       "<AxesSubplot:xlabel='min_players', ylabel='Count'>"
      ]
     },
     "execution_count": 61,
     "metadata": {},
     "output_type": "execute_result"
    },
    {
     "data": {
      "image/png": "[encoded data removed]",
      "text/plain": [
       "<Figure size 640x480 with 1 Axes>"
      ]
     },
     "metadata": {},
     "output_type": "display_data"
    }
   ],
   "source": [
    "sns.histplot(lowrank)"
   ]
  },
  {
   "cell_type": "code",
   "execution_count": 64,
   "id": "daae3b89",
   "metadata": {},
   "outputs": [
    {
     "data": {
      "text/plain": [
       "Ttest_indResult(statistic=-0.8512334048505296, pvalue=0.19823559163700116)"
      ]
     },
     "execution_count": 64,
     "metadata": {},
     "output_type": "execute_result"
    }
   ],
   "source": [
    "stats.ttest_ind(hirank, lowrank, alternative='less', equal_var=False)"
   ]
  },
  {
   "cell_type": "code",
   "execution_count": 65,
   "id": "73e84565",
   "metadata": {},
   "outputs": [
    {
     "data": {
      "text/plain": [
       "Ttest_indResult(statistic=-0.8512334048505296, pvalue=0.8017644083629989)"
      ]
     },
     "execution_count": 65,
     "metadata": {},
     "output_type": "execute_result"
    }
   ],
   "source": [
    "stats.ttest_ind(hirank, lowrank, alternative='greater', equal_var=False)"
   ]
  },
  {
   "cell_type": "markdown",
   "id": "8de58113",
   "metadata": {},
   "source": [
    "* the pvalue is not lower than the alpha so we can not reject the null hypothesis\n",
    "* min_players is not a significant driver of rank"
   ]
  },
  {
   "cell_type": "code",
   "execution_count": null,
   "id": "4d922fb4",
   "metadata": {},
   "outputs": [],
   "source": []
  }
 ],
 "metadata": {
  "kernelspec": {
   "display_name": "Python 3 (ipykernel)",
   "language": "python",
   "name": "python3"
  },
  "language_info": {
   "codemirror_mode": {
    "name": "ipython",
    "version": 3
   },
   "file_extension": ".py",
   "mimetype": "text/x-python",
   "name": "python",
   "nbconvert_exporter": "python",
   "pygments_lexer": "ipython3",
   "version": "3.9.13"
  }
 },
 "nbformat": 4,
 "nbformat_minor": 5
}
