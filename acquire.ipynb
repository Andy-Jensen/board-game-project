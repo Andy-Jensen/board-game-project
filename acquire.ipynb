{
 "cells": [
  {
   "cell_type": "code",
   "execution_count": 2,
   "id": "640ea248",
   "metadata": {},
   "outputs": [],
   "source": [
    "import numpy as np\n",
    "import pandas as pd\n",
    "import matplotlib.pyplot as plt\n",
    "import seaborn as sns\n",
    "import requests\n",
    "import env"
   ]
  },
  {
   "cell_type": "code",
   "execution_count": 4,
   "id": "2b2e2b9b",
   "metadata": {},
   "outputs": [],
   "source": [
    "response = requests.get(f'https://api.boardgameatlas.com/api/search?limit=&pretty=true&client_id={env.key}')"
   ]
  },
  {
   "cell_type": "code",
   "execution_count": 5,
   "id": "47daf48f",
   "metadata": {},
   "outputs": [
    {
     "data": {
      "text/plain": [
       "<Response [200]>"
      ]
     },
     "execution_count": 5,
     "metadata": {},
     "output_type": "execute_result"
    }
   ],
   "source": [
    "response"
   ]
  },
  {
   "cell_type": "code",
   "execution_count": 6,
   "id": "5fcaa66a",
   "metadata": {
    "scrolled": true
   },
   "outputs": [],
   "source": [
    "data=response.json()"
   ]
  },
  {
   "cell_type": "code",
   "execution_count": 7,
   "id": "27e0876f",
   "metadata": {},
   "outputs": [
    {
     "data": {
      "text/plain": [
       "dict_keys(['games', 'count'])"
      ]
     },
     "execution_count": 7,
     "metadata": {},
     "output_type": "execute_result"
    }
   ],
   "source": [
    "data.keys()"
   ]
  },
  {
   "cell_type": "code",
   "execution_count": 8,
   "id": "07195a0b",
   "metadata": {
    "scrolled": false
   },
   "outputs": [],
   "source": [
    "games=pd.DataFrame(data['games'])"
   ]
  },
  {
   "cell_type": "code",
   "execution_count": 9,
   "id": "18cfacb1",
   "metadata": {},
   "outputs": [
    {
     "data": {
      "text/plain": [
       "(25, 83)"
      ]
     },
     "execution_count": 9,
     "metadata": {},
     "output_type": "execute_result"
    }
   ],
   "source": [
    "games.shape"
   ]
  },
  {
   "cell_type": "markdown",
   "id": "2458ecc6",
   "metadata": {},
   "source": [
    "# Page through results"
   ]
  },
  {
   "cell_type": "code",
   "execution_count": 10,
   "id": "2755c99b",
   "metadata": {},
   "outputs": [],
   "source": [
    "limit = 100"
   ]
  },
  {
   "cell_type": "code",
   "execution_count": 11,
   "id": "c22c9ae4",
   "metadata": {},
   "outputs": [],
   "source": [
    "url=f'https://api.boardgameatlas.com/api/search?limit={limit}&pretty=true&client_id={env.key}'"
   ]
  },
  {
   "cell_type": "code",
   "execution_count": 12,
   "id": "99d8aade",
   "metadata": {},
   "outputs": [],
   "source": [
    "response = requests.get(url)"
   ]
  },
  {
   "cell_type": "code",
   "execution_count": 13,
   "id": "aef60dfc",
   "metadata": {},
   "outputs": [],
   "source": [
    "data=response.json()"
   ]
  },
  {
   "cell_type": "code",
   "execution_count": 14,
   "id": "36a99c36",
   "metadata": {},
   "outputs": [],
   "source": [
    "games=pd.DataFrame(data['games'])"
   ]
  },
  {
   "cell_type": "code",
   "execution_count": 15,
   "id": "7292b558",
   "metadata": {},
   "outputs": [
    {
     "data": {
      "text/plain": [
       "(100, 84)"
      ]
     },
     "execution_count": 15,
     "metadata": {},
     "output_type": "execute_result"
    }
   ],
   "source": [
    "games.shape"
   ]
  },
  {
   "cell_type": "code",
   "execution_count": 16,
   "id": "81aac222",
   "metadata": {},
   "outputs": [
    {
     "data": {
      "text/html": [
       "<div>\n",
       "<style scoped>\n",
       "    .dataframe tbody tr th:only-of-type {\n",
       "        vertical-align: middle;\n",
       "    }\n",
       "\n",
       "    .dataframe tbody tr th {\n",
       "        vertical-align: top;\n",
       "    }\n",
       "\n",
       "    .dataframe thead th {\n",
       "        text-align: right;\n",
       "    }\n",
       "</style>\n",
       "<table border=\"1\" class=\"dataframe\">\n",
       "  <thead>\n",
       "    <tr style=\"text-align: right;\">\n",
       "      <th></th>\n",
       "      <th>id</th>\n",
       "      <th>handle</th>\n",
       "      <th>url</th>\n",
       "      <th>bga_edit_url</th>\n",
       "      <th>template_url</th>\n",
       "      <th>name</th>\n",
       "      <th>price</th>\n",
       "      <th>price_ca</th>\n",
       "      <th>price_uk</th>\n",
       "      <th>price_au</th>\n",
       "      <th>...</th>\n",
       "      <th>playtime</th>\n",
       "      <th>msrp_text</th>\n",
       "      <th>price_text</th>\n",
       "      <th>tags</th>\n",
       "      <th>images</th>\n",
       "      <th>description_preview</th>\n",
       "      <th>cs_rating</th>\n",
       "      <th>sell_sheet_url</th>\n",
       "      <th>store_images_url</th>\n",
       "      <th>size_width</th>\n",
       "    </tr>\n",
       "  </thead>\n",
       "  <tbody>\n",
       "    <tr>\n",
       "      <th>99</th>\n",
       "      <td>Yzurao9vqw</td>\n",
       "      <td>targi</td>\n",
       "      <td>https://www.boardgameatlas.com/game/Yzurao9vqw...</td>\n",
       "      <td>https://www.boardgameatlas.com/game/Yzurao9vqw...</td>\n",
       "      <td>/products/listing?objectId=Yzurao9vqw&amp;product_...</td>\n",
       "      <td>Targi</td>\n",
       "      <td>14.99</td>\n",
       "      <td>16.74</td>\n",
       "      <td>15.00</td>\n",
       "      <td>27.99</td>\n",
       "      <td>...</td>\n",
       "      <td>60-75</td>\n",
       "      <td>$19.95</td>\n",
       "      <td>$14.99</td>\n",
       "      <td>[Targi: Die Erweiterung, Targi, Targui, Tuareg...</td>\n",
       "      <td>{'thumb': 'https://d2k4q26owzy373.cloudfront.n...</td>\n",
       "      <td>A Targi is a male member of the Tuareg people...</td>\n",
       "      <td>4.6</td>\n",
       "      <td>None</td>\n",
       "      <td>None</td>\n",
       "      <td>NaN</td>\n",
       "    </tr>\n",
       "  </tbody>\n",
       "</table>\n",
       "<p>1 rows × 84 columns</p>\n",
       "</div>"
      ],
      "text/plain": [
       "            id handle                                                url  \\\n",
       "99  Yzurao9vqw  targi  https://www.boardgameatlas.com/game/Yzurao9vqw...   \n",
       "\n",
       "                                         bga_edit_url  \\\n",
       "99  https://www.boardgameatlas.com/game/Yzurao9vqw...   \n",
       "\n",
       "                                         template_url   name  price price_ca  \\\n",
       "99  /products/listing?objectId=Yzurao9vqw&product_...  Targi  14.99    16.74   \n",
       "\n",
       "   price_uk price_au  ...  playtime msrp_text price_text  \\\n",
       "99    15.00    27.99  ...     60-75    $19.95     $14.99   \n",
       "\n",
       "                                                 tags  \\\n",
       "99  [Targi: Die Erweiterung, Targi, Targui, Tuareg...   \n",
       "\n",
       "                                               images  \\\n",
       "99  {'thumb': 'https://d2k4q26owzy373.cloudfront.n...   \n",
       "\n",
       "                                  description_preview cs_rating  \\\n",
       "99   A Targi is a male member of the Tuareg people...       4.6   \n",
       "\n",
       "    sell_sheet_url  store_images_url  size_width  \n",
       "99            None              None         NaN  \n",
       "\n",
       "[1 rows x 84 columns]"
      ]
     },
     "execution_count": 16,
     "metadata": {},
     "output_type": "execute_result"
    }
   ],
   "source": [
    "games.tail(1)"
   ]
  },
  {
   "cell_type": "code",
   "execution_count": 17,
   "id": "9f6e0082",
   "metadata": {},
   "outputs": [],
   "source": [
    "url=f'https://api.boardgameatlas.com/api/search?limit={limit}&skip=100&pretty=true&client_id={env.key}'"
   ]
  },
  {
   "cell_type": "code",
   "execution_count": 18,
   "id": "2d07b7be",
   "metadata": {},
   "outputs": [
    {
     "data": {
      "text/plain": [
       "(100, 83)"
      ]
     },
     "execution_count": 18,
     "metadata": {},
     "output_type": "execute_result"
    }
   ],
   "source": [
    "response = requests.get(url)\n",
    "data=response.json()\n",
    "games=pd.DataFrame(data['games'])\n",
    "games.shape"
   ]
  },
  {
   "cell_type": "code",
   "execution_count": 19,
   "id": "394ce165",
   "metadata": {},
   "outputs": [
    {
     "data": {
      "text/html": [
       "<div>\n",
       "<style scoped>\n",
       "    .dataframe tbody tr th:only-of-type {\n",
       "        vertical-align: middle;\n",
       "    }\n",
       "\n",
       "    .dataframe tbody tr th {\n",
       "        vertical-align: top;\n",
       "    }\n",
       "\n",
       "    .dataframe thead th {\n",
       "        text-align: right;\n",
       "    }\n",
       "</style>\n",
       "<table border=\"1\" class=\"dataframe\">\n",
       "  <thead>\n",
       "    <tr style=\"text-align: right;\">\n",
       "      <th></th>\n",
       "      <th>id</th>\n",
       "      <th>handle</th>\n",
       "      <th>url</th>\n",
       "      <th>bga_edit_url</th>\n",
       "      <th>template_url</th>\n",
       "      <th>name</th>\n",
       "      <th>price</th>\n",
       "      <th>price_ca</th>\n",
       "      <th>price_uk</th>\n",
       "      <th>price_au</th>\n",
       "      <th>...</th>\n",
       "      <th>skus</th>\n",
       "      <th>sku_objects</th>\n",
       "      <th>msrp_text</th>\n",
       "      <th>weight_amount</th>\n",
       "      <th>weight_units</th>\n",
       "      <th>size_depth</th>\n",
       "      <th>size_units</th>\n",
       "      <th>isbn</th>\n",
       "      <th>video_links</th>\n",
       "      <th>availability_status</th>\n",
       "    </tr>\n",
       "  </thead>\n",
       "  <tbody>\n",
       "    <tr>\n",
       "      <th>99</th>\n",
       "      <td>1EXtdJ7zva</td>\n",
       "      <td>spyfall</td>\n",
       "      <td>https://www.boardgameatlas.com/game/1EXtdJ7zva...</td>\n",
       "      <td>https://www.boardgameatlas.com/game/1EXtdJ7zva...</td>\n",
       "      <td>/products/listing?objectId=1EXtdJ7zva&amp;product_...</td>\n",
       "      <td>Spyfall</td>\n",
       "      <td>16.99</td>\n",
       "      <td>24.49</td>\n",
       "      <td>0.00</td>\n",
       "      <td>34.95</td>\n",
       "      <td>...</td>\n",
       "      <td>[CZE 19042, CZE01905, 815442019042, 2149084326...</td>\n",
       "      <td>[{'name': 'Boarding School Games', 'sku': 'CZE...</td>\n",
       "      <td>$24.95</td>\n",
       "      <td>NaN</td>\n",
       "      <td>NaN</td>\n",
       "      <td>NaN</td>\n",
       "      <td>NaN</td>\n",
       "      <td>NaN</td>\n",
       "      <td>NaN</td>\n",
       "      <td>NaN</td>\n",
       "    </tr>\n",
       "  </tbody>\n",
       "</table>\n",
       "<p>1 rows × 83 columns</p>\n",
       "</div>"
      ],
      "text/plain": [
       "            id   handle                                                url  \\\n",
       "99  1EXtdJ7zva  spyfall  https://www.boardgameatlas.com/game/1EXtdJ7zva...   \n",
       "\n",
       "                                         bga_edit_url  \\\n",
       "99  https://www.boardgameatlas.com/game/1EXtdJ7zva...   \n",
       "\n",
       "                                         template_url     name  price  \\\n",
       "99  /products/listing?objectId=1EXtdJ7zva&product_...  Spyfall  16.99   \n",
       "\n",
       "   price_ca price_uk price_au  ...  \\\n",
       "99    24.49     0.00    34.95  ...   \n",
       "\n",
       "                                                 skus  \\\n",
       "99  [CZE 19042, CZE01905, 815442019042, 2149084326...   \n",
       "\n",
       "                                          sku_objects msrp_text  \\\n",
       "99  [{'name': 'Boarding School Games', 'sku': 'CZE...    $24.95   \n",
       "\n",
       "    weight_amount  weight_units  size_depth size_units  isbn  video_links  \\\n",
       "99            NaN           NaN         NaN        NaN   NaN          NaN   \n",
       "\n",
       "    availability_status  \n",
       "99                  NaN  \n",
       "\n",
       "[1 rows x 83 columns]"
      ]
     },
     "execution_count": 19,
     "metadata": {},
     "output_type": "execute_result"
    }
   ],
   "source": [
    "games.tail(1)"
   ]
  },
  {
   "cell_type": "code",
   "execution_count": 21,
   "id": "6d832b0c",
   "metadata": {},
   "outputs": [],
   "source": [
    "def get_games(num=100, pages=1):\n",
    "    games=[]\n",
    "    limit=num\n",
    "    for n in range(pages+1):\n",
    "        pages=n*num\n",
    "        url=f'https://api.boardgameatlas.com/api/search?limit={limit}&skip={pages}&pretty=true&client_id={env.key}'\n",
    "        response = requests.get(url)\n",
    "        data=response.json()\n",
    "        games.append(data)\n",
    "    games=pd.DataFrame(data['games'])\n",
    "    return games"
   ]
  },
  {
   "cell_type": "code",
   "execution_count": 30,
   "id": "8c9a8428",
   "metadata": {},
   "outputs": [],
   "source": [
    "g=get_games(num=100, pages=1)"
   ]
  },
  {
   "cell_type": "code",
   "execution_count": 31,
   "id": "4f5757c9",
   "metadata": {},
   "outputs": [
    {
     "data": {
      "text/plain": [
       "(100, 83)"
      ]
     },
     "execution_count": 31,
     "metadata": {},
     "output_type": "execute_result"
    }
   ],
   "source": [
    "g.shape"
   ]
  },
  {
   "cell_type": "code",
   "execution_count": 32,
   "id": "0c9df09e",
   "metadata": {},
   "outputs": [
    {
     "data": {
      "text/html": [
       "<div>\n",
       "<style scoped>\n",
       "    .dataframe tbody tr th:only-of-type {\n",
       "        vertical-align: middle;\n",
       "    }\n",
       "\n",
       "    .dataframe tbody tr th {\n",
       "        vertical-align: top;\n",
       "    }\n",
       "\n",
       "    .dataframe thead th {\n",
       "        text-align: right;\n",
       "    }\n",
       "</style>\n",
       "<table border=\"1\" class=\"dataframe\">\n",
       "  <thead>\n",
       "    <tr style=\"text-align: right;\">\n",
       "      <th></th>\n",
       "      <th>id</th>\n",
       "      <th>handle</th>\n",
       "      <th>url</th>\n",
       "      <th>bga_edit_url</th>\n",
       "      <th>template_url</th>\n",
       "      <th>name</th>\n",
       "      <th>price</th>\n",
       "      <th>price_ca</th>\n",
       "      <th>price_uk</th>\n",
       "      <th>price_au</th>\n",
       "      <th>...</th>\n",
       "      <th>skus</th>\n",
       "      <th>sku_objects</th>\n",
       "      <th>msrp_text</th>\n",
       "      <th>weight_amount</th>\n",
       "      <th>weight_units</th>\n",
       "      <th>size_depth</th>\n",
       "      <th>size_units</th>\n",
       "      <th>isbn</th>\n",
       "      <th>video_links</th>\n",
       "      <th>availability_status</th>\n",
       "    </tr>\n",
       "  </thead>\n",
       "  <tbody>\n",
       "    <tr>\n",
       "      <th>99</th>\n",
       "      <td>1EXtdJ7zva</td>\n",
       "      <td>spyfall</td>\n",
       "      <td>https://www.boardgameatlas.com/game/1EXtdJ7zva...</td>\n",
       "      <td>https://www.boardgameatlas.com/game/1EXtdJ7zva...</td>\n",
       "      <td>/products/listing?objectId=1EXtdJ7zva&amp;product_...</td>\n",
       "      <td>Spyfall</td>\n",
       "      <td>16.99</td>\n",
       "      <td>24.49</td>\n",
       "      <td>0.00</td>\n",
       "      <td>34.95</td>\n",
       "      <td>...</td>\n",
       "      <td>[CZE 19042, CZE01905, 815442019042, 2149084326...</td>\n",
       "      <td>[{'name': 'Boarding School Games', 'sku': 'CZE...</td>\n",
       "      <td>$24.95</td>\n",
       "      <td>NaN</td>\n",
       "      <td>NaN</td>\n",
       "      <td>NaN</td>\n",
       "      <td>NaN</td>\n",
       "      <td>NaN</td>\n",
       "      <td>NaN</td>\n",
       "      <td>NaN</td>\n",
       "    </tr>\n",
       "  </tbody>\n",
       "</table>\n",
       "<p>1 rows × 83 columns</p>\n",
       "</div>"
      ],
      "text/plain": [
       "            id   handle                                                url  \\\n",
       "99  1EXtdJ7zva  spyfall  https://www.boardgameatlas.com/game/1EXtdJ7zva...   \n",
       "\n",
       "                                         bga_edit_url  \\\n",
       "99  https://www.boardgameatlas.com/game/1EXtdJ7zva...   \n",
       "\n",
       "                                         template_url     name  price  \\\n",
       "99  /products/listing?objectId=1EXtdJ7zva&product_...  Spyfall  16.99   \n",
       "\n",
       "   price_ca price_uk price_au  ...  \\\n",
       "99    24.49     0.00    34.95  ...   \n",
       "\n",
       "                                                 skus  \\\n",
       "99  [CZE 19042, CZE01905, 815442019042, 2149084326...   \n",
       "\n",
       "                                          sku_objects msrp_text  \\\n",
       "99  [{'name': 'Boarding School Games', 'sku': 'CZE...    $24.95   \n",
       "\n",
       "    weight_amount  weight_units  size_depth size_units  isbn  video_links  \\\n",
       "99            NaN           NaN         NaN        NaN   NaN          NaN   \n",
       "\n",
       "    availability_status  \n",
       "99                  NaN  \n",
       "\n",
       "[1 rows x 83 columns]"
      ]
     },
     "execution_count": 32,
     "metadata": {},
     "output_type": "execute_result"
    }
   ],
   "source": [
    "g.tail(1)"
   ]
  },
  {
   "cell_type": "code",
   "execution_count": 33,
   "id": "33a2de93",
   "metadata": {
    "scrolled": false
   },
   "outputs": [
    {
     "data": {
      "text/plain": [
       "Index(['id', 'handle', 'url', 'bga_edit_url', 'template_url', 'name', 'price',\n",
       "       'price_ca', 'price_uk', 'price_au', 'msrp', 'msrps', 'discount',\n",
       "       'year_published', 'min_players', 'max_players', 'player_counts',\n",
       "       'min_playtime', 'max_playtime', 'min_age', 'description', 'commentary',\n",
       "       'faq', 'thumb_url', 'image_url', 'matches_specs', 'specs', 'mechanics',\n",
       "       'categories', 'publishers', 'designers', 'primary_publisher',\n",
       "       'primary_designer', 'developers', 'related_to', 'related_as', 'artists',\n",
       "       'names', 'rules_url', 'amazon_rank', 'official_url', 'comment_count',\n",
       "       'num_user_ratings', 'average_user_rating', 'historical_low_prices',\n",
       "       'active', 'num_user_complexity_votes', 'average_learning_complexity',\n",
       "       'average_strategy_complexity', 'visits', 'lists', 'mentions', 'links',\n",
       "       'plays', 'rank', 'type', 'num_distributors', 'trending_rank',\n",
       "       'listing_clicks', 'is_historical_low', 'edit_url', 'players',\n",
       "       'playtime', 'price_text', 'tags', 'images', 'description_preview',\n",
       "       'cs_rating', 'sell_sheet_url', 'store_images_url', 'size_height', 'sku',\n",
       "       'upc', 'skus', 'sku_objects', 'msrp_text', 'weight_amount',\n",
       "       'weight_units', 'size_depth', 'size_units', 'isbn', 'video_links',\n",
       "       'availability_status'],\n",
       "      dtype='object')"
      ]
     },
     "execution_count": 33,
     "metadata": {},
     "output_type": "execute_result"
    }
   ],
   "source": [
    "games.columns"
   ]
  },
  {
   "cell_type": "markdown",
   "id": "63f4b07f",
   "metadata": {},
   "source": [
    "### keep:\n",
    "name, price, year_published, min_players, max_players, player_counts, min_playtime, max_playtime, min_age, description, commentary, mechanics, categories, publishers, designers, primary_publisher, primary_designer, developers, amazon_rank, num_user_ratings, average_user_rating, rank, weight_amount, weight_units, size_height, size_depth, size_units, historical_low_prices, active, num_user_complexity_votes, average_learning_complexity, average_strategy_complexity, num_distributors, cs_rating"
   ]
  },
  {
   "cell_type": "code",
   "execution_count": null,
   "id": "298f1e38",
   "metadata": {},
   "outputs": [],
   "source": []
  }
 ],
 "metadata": {
  "kernelspec": {
   "display_name": "Python 3 (ipykernel)",
   "language": "python",
   "name": "python3"
  },
  "language_info": {
   "codemirror_mode": {
    "name": "ipython",
    "version": 3
   },
   "file_extension": ".py",
   "mimetype": "text/x-python",
   "name": "python",
   "nbconvert_exporter": "python",
   "pygments_lexer": "ipython3",
   "version": "3.9.13"
  }
 },
 "nbformat": 4,
 "nbformat_minor": 5
}
