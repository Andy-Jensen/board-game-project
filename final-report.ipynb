{
 "cells": [
  {
   "cell_type": "code",
   "execution_count": 6,
   "id": "b8777ad5",
   "metadata": {},
   "outputs": [],
   "source": [
    "import pandas as pd\n",
    "import numpy as np\n",
    "import prepare as prep\n",
    "import explore as ex"
   ]
  },
  {
   "cell_type": "markdown",
   "id": "05d760aa",
   "metadata": {},
   "source": [
    "# Project Description:  \n",
    "Board games are loved by everyone, young and old. They are something that brings people together for countless hours of social lesiure. The only thing better than the time spent with friends and family is enjoying the game you are playing while doing it. With so many choices and competition in the industry, how can a company produce an enjoyable game and become a favorite of those who play it? The board game industry has produced such games before, but what if there was a recipe for creating a board game that people will love? In 2022 the board game market was worth about $3.13 billion. With that much money being spent for board games, I will be using data to see if there is a popular commonality among highly rated board games and develop a recipe of features to build the next top rated board game."
   ]
  },
  {
   "cell_type": "markdown",
   "id": "1a594136",
   "metadata": {},
   "source": [
    "# Project Goals:  \n",
    "* Identify drivers of highly rated board games\n",
    "* Build a model to accurately predict if a board game will have achieve a high rating.\n",
    "* Conduct an NLP analysis for game descriptions and mechanics\n",
    "* Provide stakeholders with a recipe to create a highly rated board game."
   ]
  },
  {
   "cell_type": "markdown",
   "id": "c70f8671",
   "metadata": {},
   "source": [
    "# Executive Summary:\n",
    "1. There were no features found that indicate if a board game would rank high (top 10%) other than number of distributors.\n",
    "2. There were some mechanics in the top 10% of board games that are not in the top mechanics of other board games.\n",
    "3. The Descriptions of the games indicate that there may be a certain set of elements in a board game that are more popular."
   ]
  },
  {
   "cell_type": "markdown",
   "id": "2d6a89e0",
   "metadata": {},
   "source": [
    "| Feature | Definition |\n",
    "|:--------|:-----------|\n",
    "|id| The id number of the game|\n",
    "|name| The name of the game|\n",
    "|price| The lowest current available price for the game|\n",
    "|msrp| Manufacturer suggested retail price|\n",
    "|year_published| The year the game was made|\n",
    "|min_players| Minimum number of players required to play the game|\n",
    "|max_players| The maximum number of players that can play the game|\n",
    "|min_playtime| The manufacturers estimated minimum time to play the game|\n",
    "|max_playtime| The manufacturers estimated maximum time to play the game|\n",
    "|min_age| The recommended minimum age required to play the game|\n",
    "|num_user_ratings| The number of user ratings the game has recieved on boardgameatlas|\n",
    "|average_user_rating| The average rating (1-5) the game has recieved from the users|\n",
    "|num_user_complexity_votes| The average rating (1-5) of the games complexity as rated by the users|\n",
    "|average_learning_complexity| The average rating (1-5) of the games learning complexity as rated by the users|\n",
    "|average_strategy_complexity| PThe average rating (1-5) of the games strategy complexity as rated by the users|\n",
    "|rank| The rank of the game|\n",
    "|type| Either 'game', 'expansion', or 'accessory' indicating the type of product|\n",
    "|num_distributors| The number of distributors of the game|"
   ]
  },
  {
   "cell_type": "markdown",
   "id": "19ea2b7c",
   "metadata": {},
   "source": [
    "# Prepare"
   ]
  },
  {
   "cell_type": "code",
   "execution_count": 5,
   "id": "5623ca77",
   "metadata": {},
   "outputs": [
    {
     "data": {
      "text/html": [
       "<div>\n",
       "<style scoped>\n",
       "    .dataframe tbody tr th:only-of-type {\n",
       "        vertical-align: middle;\n",
       "    }\n",
       "\n",
       "    .dataframe tbody tr th {\n",
       "        vertical-align: top;\n",
       "    }\n",
       "\n",
       "    .dataframe thead th {\n",
       "        text-align: right;\n",
       "    }\n",
       "</style>\n",
       "<table border=\"1\" class=\"dataframe\">\n",
       "  <thead>\n",
       "    <tr style=\"text-align: right;\">\n",
       "      <th></th>\n",
       "      <th>id</th>\n",
       "      <th>name</th>\n",
       "      <th>price</th>\n",
       "      <th>msrp</th>\n",
       "      <th>year_published</th>\n",
       "      <th>min_players</th>\n",
       "      <th>max_players</th>\n",
       "      <th>min_playtime</th>\n",
       "      <th>max_playtime</th>\n",
       "      <th>min_age</th>\n",
       "      <th>num_user_ratings</th>\n",
       "      <th>average_user_rating</th>\n",
       "      <th>num_user_complexity_votes</th>\n",
       "      <th>average_learning_complexity</th>\n",
       "      <th>average_strategy_complexity</th>\n",
       "      <th>rank</th>\n",
       "      <th>type</th>\n",
       "      <th>num_distributors</th>\n",
       "    </tr>\n",
       "  </thead>\n",
       "  <tbody>\n",
       "    <tr>\n",
       "      <th>0</th>\n",
       "      <td>TAAifFP590</td>\n",
       "      <td>Root</td>\n",
       "      <td>45.00</td>\n",
       "      <td>60.0</td>\n",
       "      <td>2018.0</td>\n",
       "      <td>2.0</td>\n",
       "      <td>4.0</td>\n",
       "      <td>60.0</td>\n",
       "      <td>90.0</td>\n",
       "      <td>10.0</td>\n",
       "      <td>412</td>\n",
       "      <td>4.059395</td>\n",
       "      <td>11</td>\n",
       "      <td>3.818182</td>\n",
       "      <td>3.636364</td>\n",
       "      <td>1</td>\n",
       "      <td>game</td>\n",
       "      <td>6</td>\n",
       "    </tr>\n",
       "    <tr>\n",
       "      <th>1</th>\n",
       "      <td>yqR4PtpO8X</td>\n",
       "      <td>Scythe</td>\n",
       "      <td>54.39</td>\n",
       "      <td>90.0</td>\n",
       "      <td>2016.0</td>\n",
       "      <td>1.0</td>\n",
       "      <td>5.0</td>\n",
       "      <td>90.0</td>\n",
       "      <td>120.0</td>\n",
       "      <td>14.0</td>\n",
       "      <td>763</td>\n",
       "      <td>4.213439</td>\n",
       "      <td>17</td>\n",
       "      <td>3.117647</td>\n",
       "      <td>3.235294</td>\n",
       "      <td>2</td>\n",
       "      <td>game</td>\n",
       "      <td>9</td>\n",
       "    </tr>\n",
       "    <tr>\n",
       "      <th>2</th>\n",
       "      <td>5H5JS0KLzK</td>\n",
       "      <td>Wingspan</td>\n",
       "      <td>50.00</td>\n",
       "      <td>60.0</td>\n",
       "      <td>2019.0</td>\n",
       "      <td>1.0</td>\n",
       "      <td>5.0</td>\n",
       "      <td>40.0</td>\n",
       "      <td>70.0</td>\n",
       "      <td>10.0</td>\n",
       "      <td>589</td>\n",
       "      <td>4.162919</td>\n",
       "      <td>12</td>\n",
       "      <td>2.500000</td>\n",
       "      <td>2.833333</td>\n",
       "      <td>3</td>\n",
       "      <td>game</td>\n",
       "      <td>11</td>\n",
       "    </tr>\n",
       "  </tbody>\n",
       "</table>\n",
       "</div>"
      ],
      "text/plain": [
       "           id      name  price  msrp  year_published  min_players  \\\n",
       "0  TAAifFP590      Root  45.00  60.0          2018.0          2.0   \n",
       "1  yqR4PtpO8X    Scythe  54.39  90.0          2016.0          1.0   \n",
       "2  5H5JS0KLzK  Wingspan  50.00  60.0          2019.0          1.0   \n",
       "\n",
       "   max_players  min_playtime  max_playtime  min_age  num_user_ratings  \\\n",
       "0          4.0          60.0          90.0     10.0               412   \n",
       "1          5.0          90.0         120.0     14.0               763   \n",
       "2          5.0          40.0          70.0     10.0               589   \n",
       "\n",
       "   average_user_rating  num_user_complexity_votes  \\\n",
       "0             4.059395                         11   \n",
       "1             4.213439                         17   \n",
       "2             4.162919                         12   \n",
       "\n",
       "   average_learning_complexity  average_strategy_complexity  rank  type  \\\n",
       "0                     3.818182                     3.636364     1  game   \n",
       "1                     3.117647                     3.235294     2  game   \n",
       "2                     2.500000                     2.833333     3  game   \n",
       "\n",
       "   num_distributors  \n",
       "0                 6  \n",
       "1                 9  \n",
       "2                11  "
      ]
     },
     "execution_count": 5,
     "metadata": {},
     "output_type": "execute_result"
    }
   ],
   "source": [
    "# a brief look at the data\n",
    "df=prep.explore_df()\n",
    "df.head(3)"
   ]
  },
  {
   "cell_type": "markdown",
   "id": "9600a189",
   "metadata": {},
   "source": [
    "## Data preperation for exploration:\n",
    "* The top 10% of games will be considered \"high rated\" games\n",
    "* The 'type' column was encoded into a 0, 1, or 2 for 'game', 'expansion', and 'accessory' respectively"
   ]
  },
  {
   "cell_type": "code",
   "execution_count": 7,
   "id": "6314cba9",
   "metadata": {},
   "outputs": [],
   "source": [
    "# data prepared for exploration\n",
    "df=ex.explore_data()"
   ]
  },
  {
   "cell_type": "code",
   "execution_count": 8,
   "id": "64647353",
   "metadata": {},
   "outputs": [
    {
     "data": {
      "text/plain": [
       "((716, 18), (179, 18), (100, 18))"
      ]
     },
     "execution_count": 8,
     "metadata": {},
     "output_type": "execute_result"
    }
   ],
   "source": [
    "# data split into train, validate, and test. Stratified on 'rank'\n",
    "train, val, test = ex.tts(df, 'rank')\n",
    "train.shape, val.shape, test.shape"
   ]
  },
  {
   "cell_type": "markdown",
   "id": "83f73c74",
   "metadata": {},
   "source": [
    "# Explore"
   ]
  },
  {
   "cell_type": "markdown",
   "id": "031edf89",
   "metadata": {},
   "source": [
    "<div class=\"alert alert-info\">\n",
    "    <header>\n",
    "    <h2>Exploration Question:</h2>\n",
    "    </header>\n",
    "    <dl>\n",
    "        <dt>Is the num_distributors of a high rated game significantlly higher than other games?</dt>\n",
    "        <dd>- $H_0$: There is no difference in the average num_distributors of higher rated games and other games</dd>\n",
    "        <dd>- $H_a$: The average num_distributors of high rated games is significantlly higher than other games.</dd>\n",
    "    </dl>\n",
    "</div>"
   ]
  },
  {
   "cell_type": "code",
   "execution_count": null,
   "id": "267b9efb",
   "metadata": {},
   "outputs": [],
   "source": []
  },
  {
   "cell_type": "markdown",
   "id": "f393d971",
   "metadata": {},
   "source": [
    "# Mechanics and game description were separated into their own dataframes for NLP analysis:"
   ]
  },
  {
   "cell_type": "code",
   "execution_count": null,
   "id": "8266f122",
   "metadata": {},
   "outputs": [],
   "source": []
  }
 ],
 "metadata": {
  "kernelspec": {
   "display_name": "Python 3 (ipykernel)",
   "language": "python",
   "name": "python3"
  },
  "language_info": {
   "codemirror_mode": {
    "name": "ipython",
    "version": 3
   },
   "file_extension": ".py",
   "mimetype": "text/x-python",
   "name": "python",
   "nbconvert_exporter": "python",
   "pygments_lexer": "ipython3",
   "version": "3.9.13"
  }
 },
 "nbformat": 4,
 "nbformat_minor": 5
}
